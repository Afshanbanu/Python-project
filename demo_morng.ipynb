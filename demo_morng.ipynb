{
 "cells": [
  {
   "cell_type": "code",
   "execution_count": 3,
   "id": "e09c0df9-d982-4d06-9a51-ec18685f18a4",
   "metadata": {},
   "outputs": [
    {
     "name": "stdout",
     "output_type": "stream",
     "text": [
      "32\n"
     ]
    }
   ],
   "source": [
    "a=12\n",
    "b=20\n",
    "print(a+b)"
   ]
  },
  {
   "cell_type": "code",
   "execution_count": null,
   "id": "f367ae94-2826-429f-9c60-98e78088118e",
   "metadata": {},
   "outputs": [],
   "source": []
  },
  {
   "cell_type": "code",
   "execution_count": 1,
   "id": "9fbbece9-d430-4e96-82b4-59a1fad29b72",
   "metadata": {},
   "outputs": [
    {
     "name": "stdout",
     "output_type": "stream",
     "text": [
      "32\n"
     ]
    }
   ],
   "source": [
    "#single line comment\n",
    "\"\"\"multiline\n",
    "comments\"\"\"\n",
    "a=12\n",
    "b=20\n",
    "print(a+b)"
   ]
  },
  {
   "cell_type": "code",
   "execution_count": 2,
   "id": "457553c4-7b8a-422b-9df0-f3e4187810bc",
   "metadata": {},
   "outputs": [
    {
     "name": "stdout",
     "output_type": "stream",
     "text": [
      "3.14159265359\n",
      "56\n"
     ]
    }
   ],
   "source": [
    "PI = 3.14159265359\n",
    "print(PI)\n",
    "PI = 56\n",
    "print(PI)"
   ]
  },
  {
   "cell_type": "code",
   "execution_count": 5,
   "id": "8e51dfef-71ac-429b-b785-6afe39d103df",
   "metadata": {},
   "outputs": [],
   "source": [
    "age3=89"
   ]
  },
  {
   "cell_type": "code",
   "execution_count": 7,
   "id": "ab75eb14-d6cf-4ac4-9383-69c290c172ae",
   "metadata": {},
   "outputs": [
    {
     "name": "stdout",
     "output_type": "stream",
     "text": [
      "this outpt\n",
      "89\n",
      "this is output 89\n"
     ]
    }
   ],
   "source": [
    "print(\"this outpt\")\n",
    "print(age3)\n",
    "print(\"this is output\", age3) "
   ]
  },
  {
   "cell_type": "code",
   "execution_count": 8,
   "id": "1f07f6e4-d721-4a89-8ebb-524073c85a35",
   "metadata": {},
   "outputs": [
    {
     "name": "stdin",
     "output_type": "stream",
     "text": [
      "enter your name: john\n"
     ]
    },
    {
     "name": "stdout",
     "output_type": "stream",
     "text": [
      "john\n"
     ]
    }
   ],
   "source": [
    "name=input(\"enter your name:\")\n",
    "print(name)"
   ]
  },
  {
   "cell_type": "code",
   "execution_count": 12,
   "id": "93af2ea7-796b-4e49-b2b2-668b9c8931a9",
   "metadata": {},
   "outputs": [
    {
     "name": "stdin",
     "output_type": "stream",
     "text": [
      "enter age: 56\n"
     ]
    },
    {
     "name": "stdout",
     "output_type": "stream",
     "text": [
      "66.0\n"
     ]
    }
   ],
   "source": [
    "age=int(input(\"enter age:\"))#float(), str(), list(), tuple(), dict(), set()\n",
    "print(age+10)"
   ]
  },
  {
   "cell_type": "code",
   "execution_count": 13,
   "id": "5d1c0ca5-5dc7-4cb9-9517-de7172f784af",
   "metadata": {},
   "outputs": [
    {
     "name": "stdout",
     "output_type": "stream",
     "text": [
      "8\n",
      "1.75\n",
      "1\n"
     ]
    }
   ],
   "source": [
    "print(2**3)\n",
    "print(7/4)\n",
    "print(7//4)"
   ]
  },
  {
   "cell_type": "code",
   "execution_count": 14,
   "id": "9636f792-5175-478c-90f6-21531dd06fc6",
   "metadata": {},
   "outputs": [
    {
     "name": "stdout",
     "output_type": "stream",
     "text": [
      "False\n",
      "True\n",
      "True\n"
     ]
    }
   ],
   "source": [
    "a = 5\n",
    "b = 10\n",
    "is_equal = (a == b)\n",
    "is_not_equal = (a != b)\n",
    "is_less_than = (a < b)\n",
    "print(is_equal)\n",
    "print(is_not_equal)\n",
    "print(is_less_than)\n"
   ]
  },
  {
   "cell_type": "code",
   "execution_count": 15,
   "id": "126833fa-ff87-496d-a36f-62491bddc7f6",
   "metadata": {},
   "outputs": [
    {
     "name": "stdout",
     "output_type": "stream",
     "text": [
      "False\n",
      "True\n",
      "False\n"
     ]
    }
   ],
   "source": [
    "print(a<b and a==b)\n",
    "print(a<b or a==b)\n",
    "print(not(a<b))"
   ]
  },
  {
   "cell_type": "code",
   "execution_count": 16,
   "id": "07ffc137-90e3-41f5-bd55-7bb39704bffd",
   "metadata": {},
   "outputs": [
    {
     "name": "stdout",
     "output_type": "stream",
     "text": [
      "7\n"
     ]
    }
   ],
   "source": [
    "x = 5\n",
    "x += 2 # Equivalent to x = x + 2\n",
    "print(x)"
   ]
  },
  {
   "cell_type": "code",
   "execution_count": 17,
   "id": "eb770e30-9da9-4362-9823-f8bf21625c5b",
   "metadata": {},
   "outputs": [
    {
     "name": "stdout",
     "output_type": "stream",
     "text": [
      "1\n"
     ]
    }
   ],
   "source": [
    "a = 5 # Binary: 0101\n",
    "b = 3 # Binary: 0011\n",
    "bitwise_and = a & b # Result: 0001 (Decimal: 1)\n",
    "print(bitwise_and)"
   ]
  },
  {
   "cell_type": "code",
   "execution_count": 4,
   "id": "19a89876-6818-4ec6-adb8-d0ff8806f434",
   "metadata": {},
   "outputs": [
    {
     "name": "stdout",
     "output_type": "stream",
     "text": [
      "True\n",
      "False\n",
      "yes\n",
      "56\n",
      "89\n",
      "hi\n",
      "89\n"
     ]
    }
   ],
   "source": [
    "#seq->string, list, tuple, dictionary, set\n",
    "a=\"hello all\"\n",
    "l=[56, 89, \"hi\", 89]\n",
    "print(\"h\" in a)\n",
    "print(100 in l)\n",
    "if 56 in l:\n",
    "    print(\"yes\")\n",
    "else:\n",
    "    print(\"no\")\n",
    "\n",
    "for x in l:\n",
    "    print(x)"
   ]
  },
  {
   "cell_type": "code",
   "execution_count": 14,
   "id": "1ca683aa-b291-484b-943d-35ed85cda806",
   "metadata": {},
   "outputs": [
    {
     "name": "stdin",
     "output_type": "stream",
     "text": [
      "enter name:  afshan\n"
     ]
    },
    {
     "name": "stdout",
     "output_type": "stream",
     "text": [
      "you are fail the exam\n",
      "you are fail the exam\n"
     ]
    }
   ],
   "source": [
    "lpass=[\"kusma\", \"harshareddy\", \"pavani\", \"pallavi\", \"keertana\"]\n",
    "a=input(\"enter name: \")\n",
    "if a in lpass:\n",
    "    print(\"you are pass the exam\")\n",
    "else:\n",
    "    print(\"you are fail the exam\")\n",
    "\n",
    "print(\"you are pass the exam\" if a in lpass else \"you are fail the exam\")#ternary operator"
   ]
  },
  {
   "cell_type": "code",
   "execution_count": 12,
   "id": "bf4f31ee-f24a-40ea-b424-87dc6cfe8279",
   "metadata": {},
   "outputs": [
    {
     "name": "stdout",
     "output_type": "stream",
     "text": [
      "140724948124856\n",
      "140724948124856\n",
      "True\n",
      "2722776822784\n",
      "2722776821632\n",
      "False\n"
     ]
    }
   ],
   "source": [
    "#mutable->list, set, dictionary\n",
    "#Immutable->int, float, string, tuple\n",
    "a=89\n",
    "b=89\n",
    "print(id(a))\n",
    "print(id(b))\n",
    "print(a is b)\n",
    "\n",
    "l=[1,2]\n",
    "l1=[1,2]\n",
    "print(id(l))\n",
    "print(id(l1))\n",
    "print(l is l1)"
   ]
  },
  {
   "cell_type": "code",
   "execution_count": 13,
   "id": "c5878ab2-0019-4524-a6ec-325f0aa02f29",
   "metadata": {},
   "outputs": [
    {
     "name": "stdout",
     "output_type": "stream",
     "text": [
      "True\n"
     ]
    }
   ],
   "source": [
    "x = [1, 2, 3]\n",
    "y = x\n",
    "is_same_object = x is y\n",
    "print(is_same_object)"
   ]
  },
  {
   "cell_type": "code",
   "execution_count": 16,
   "id": "00277ac0-d1c6-45fc-83de-a41e2109765f",
   "metadata": {},
   "outputs": [
    {
     "name": "stdout",
     "output_type": "stream",
     "text": [
      "2.5\n"
     ]
    }
   ],
   "source": [
    "print((2+3)/2)"
   ]
  },
  {
   "cell_type": "code",
   "execution_count": 18,
   "id": "973f2070-c206-4612-b34b-836dcbfcbda5",
   "metadata": {},
   "outputs": [
    {
     "name": "stdin",
     "output_type": "stream",
     "text": [
      "enter the no :  45\n"
     ]
    },
    {
     "name": "stdout",
     "output_type": "stream",
     "text": [
      "False\n"
     ]
    }
   ],
   "source": [
    "#logic(even)->no%2==0->even no\n",
    "no=int(input(\"enter the no : \"))\n",
    "print(True if no%2==0 else False)"
   ]
  },
  {
   "cell_type": "code",
   "execution_count": 25,
   "id": "e3de4a10-d21b-4329-a0f7-f68e86f6d3ba",
   "metadata": {},
   "outputs": [
    {
     "name": "stdout",
     "output_type": "stream",
     "text": [
      "[5, 6, 7]\n",
      "[2, 4, 6, 8, 10, 12, 14, 16, 18, 20]\n",
      "[5, 10, 15, 20, 25, 30, 35, 40, 45, 50]\n",
      "[20, 18, 16, 14, 12, 10, 8, 6, 4, 2]\n"
     ]
    }
   ],
   "source": [
    "l=list(range(5, 8,1))\n",
    "print(l)\n",
    "l=list(range(2, 21,2))\n",
    "print(l)\n",
    "l=list(range(5, 51,5))\n",
    "print(l)\n",
    "l=list(range(20, 1,-2))\n",
    "print(l)"
   ]
  },
  {
   "cell_type": "code",
   "execution_count": 26,
   "id": "4a8877a4-7aba-473d-9b80-8f469440f08f",
   "metadata": {},
   "outputs": [
    {
     "name": "stdout",
     "output_type": "stream",
     "text": [
      "yes\n",
      "yes\n",
      "yes\n",
      "yes\n",
      "yes\n",
      "yes\n",
      "yes\n",
      "yes\n",
      "yes\n",
      "yes\n"
     ]
    }
   ],
   "source": [
    "for x in range(2, 21,2):\n",
    "    print(\"yes\")"
   ]
  },
  {
   "cell_type": "code",
   "execution_count": 1,
   "id": "d3a01b61-dbed-45d4-a167-b54d3959672b",
   "metadata": {},
   "outputs": [
    {
     "name": "stdin",
     "output_type": "stream",
     "text": [
      "pla the character : e\n"
     ]
    },
    {
     "name": "stdout",
     "output_type": "stream",
     "text": [
      "character is vowel\n"
     ]
    }
   ],
   "source": [
    "c=input(\"pla the character :\")\n",
    "l=['a','e','i','o','u']\n",
    "if c in l:\n",
    "    print(\"character is vowel\")\n",
    "else:\n",
    "    print(\"character is not a vowel\")"
   ]
  },
  {
   "cell_type": "code",
   "execution_count": 4,
   "id": "7693a0c1-d455-4e38-a9c7-8d5e6f5b6f43",
   "metadata": {},
   "outputs": [
    {
     "name": "stdin",
     "output_type": "stream",
     "text": [
      "enter the marks : 67\n"
     ]
    },
    {
     "name": "stdout",
     "output_type": "stream",
     "text": [
      "B\n"
     ]
    }
   ],
   "source": [
    "'''Below 25 - F\n",
    "b. 25 to 45 - E\n",
    "c. 45 to 50 - D\n",
    "d. 50 to 60 - C\n",
    "e. 60 to 80 - B\n",
    "f. Above 80 - A\n",
    "'''\n",
    "marks=int(input(\"enter the marks :\"))\n",
    "if marks>80:\n",
    "    print(\"A\")\n",
    "elif marks>60:\n",
    "    print(\"B\")\n",
    "elif marks>50:\n",
    "    print(\"C\")\n",
    "elif marks>45:\n",
    "    print(\"D\")\n",
    "elif marks>25:\n",
    "    print(\"E\")\n",
    "else:\n",
    "    print(\"F\")"
   ]
  },
  {
   "cell_type": "code",
   "execution_count": 5,
   "id": "a8756cb5-71f3-416d-9060-769ae33a978d",
   "metadata": {},
   "outputs": [
    {
     "name": "stdin",
     "output_type": "stream",
     "text": [
      "enter salary :  1000\n",
      "enter year of service :  6\n"
     ]
    },
    {
     "name": "stdout",
     "output_type": "stream",
     "text": [
      "your salary is  1050.0\n"
     ]
    }
   ],
   "source": [
    "'''A company decided to give a bonus of 5% to an employee if his/her year of\n",
    "service is more than 5 years .Ask users for their salary and year of service and\n",
    "print the net bonus amount'''\n",
    "salary=int(input(\"enter salary : \"))\n",
    "year_Of_service=int(input(\"enter year of service : \"))\n",
    "if year_Of_service>5:\n",
    "    salary+=(salary*0.05)\n",
    "print(\"your salary is \", salary)"
   ]
  },
  {
   "cell_type": "code",
   "execution_count": 7,
   "id": "46a6dfcf-807c-485e-aa35-37539c421974",
   "metadata": {},
   "outputs": [
    {
     "name": "stdout",
     "output_type": "stream",
     "text": [
      "2\n",
      "4\n",
      "6\n",
      "8\n",
      "10\n"
     ]
    }
   ],
   "source": [
    "n = 2\n",
    "while n <= 10:\n",
    "    if n%2==0:\n",
    "        print(n)\n",
    "    n = n+1"
   ]
  },
  {
   "cell_type": "code",
   "execution_count": 11,
   "id": "195ab4af-92b3-412a-a587-280a7d8e4fe4",
   "metadata": {},
   "outputs": [
    {
     "name": "stdout",
     "output_type": "stream",
     "text": [
      "0\n",
      "1\n",
      "2\n",
      "3\n",
      "4\n",
      "5\n"
     ]
    }
   ],
   "source": [
    "a=0\n",
    "while a<=10:\n",
    "    print(a)\n",
    "    if a>=5:\n",
    "        break\n",
    "    a+=1"
   ]
  },
  {
   "cell_type": "code",
   "execution_count": null,
   "id": "158d1864-bdbc-4b06-ab0b-b4d42f5cef16",
   "metadata": {},
   "outputs": [],
   "source": [
    "a=0\n",
    "while a<=10:\n",
    "    if a==5:\n",
    "        a+=1\n",
    "        continue\n",
    "    print(a)\n",
    "    a+=1"
   ]
  },
  {
   "cell_type": "code",
   "execution_count": 1,
   "id": "b53120e9-9e6b-4e78-b677-81f32aa319f3",
   "metadata": {},
   "outputs": [
    {
     "name": "stdout",
     "output_type": "stream",
     "text": [
      "2\n",
      "4\n",
      "6\n",
      "8\n",
      "10\n"
     ]
    }
   ],
   "source": [
    "i=1\n",
    "while(i<=10):\n",
    "    if i % 2 != 0:\n",
    "        i=i+1\n",
    "        continue # Skip odd numbers\n",
    "    print(i)\n",
    "    i=i+1"
   ]
  },
  {
   "cell_type": "code",
   "execution_count": 2,
   "id": "f185a38c-ce40-4c19-9892-d1533ad446cf",
   "metadata": {},
   "outputs": [
    {
     "name": "stdout",
     "output_type": "stream",
     "text": [
      "average of 0 to 4 is  2.0\n"
     ]
    }
   ],
   "source": [
    "#0,1,2,3,4\n",
    "i=0\n",
    "sum=0\n",
    "while i<5:\n",
    "    sum=sum+i\n",
    "    i+=1\n",
    "print(\"average of 0 to 4 is \", sum/5)"
   ]
  },
  {
   "cell_type": "code",
   "execution_count": 3,
   "id": "dcec47b0-692a-41f0-9e0e-6f6b10ea9eb7",
   "metadata": {},
   "outputs": [
    {
     "name": "stdin",
     "output_type": "stream",
     "text": [
      "Enter an integer:  5\n"
     ]
    },
    {
     "name": "stdout",
     "output_type": "stream",
     "text": [
      "5\n",
      "10\n",
      "15\n",
      "20\n",
      "25\n",
      "30\n",
      "35\n",
      "40\n",
      "45\n",
      "50\n"
     ]
    }
   ],
   "source": [
    "n = int(input(\"Enter an integer: \"))\n",
    "i = 1\n",
    "while i <= 10:\n",
    "    mul = i*n\n",
    "    i += 1\n",
    "    print(mul)"
   ]
  },
  {
   "cell_type": "code",
   "execution_count": 4,
   "id": "1dacad62-6cc0-41d3-ab40-cce6542dbc1b",
   "metadata": {},
   "outputs": [
    {
     "name": "stdout",
     "output_type": "stream",
     "text": [
      "1\n",
      "2\n",
      "3\n",
      "4\n",
      "5\n"
     ]
    }
   ],
   "source": [
    "for num in range(1, 6):\n",
    "    print(num)\n"
   ]
  },
  {
   "cell_type": "code",
   "execution_count": 5,
   "id": "88202b60-7bf7-4a2d-8254-001b3f3a8646",
   "metadata": {},
   "outputs": [
    {
     "name": "stdout",
     "output_type": "stream",
     "text": [
      "Hello\n",
      "Hello\n",
      "Hello\n",
      "Hello\n",
      "Hello\n",
      "Hello\n"
     ]
    }
   ],
   "source": [
    "for i in range(3):\n",
    "    for j in range(2):\n",
    "        print('Hello')\n"
   ]
  },
  {
   "cell_type": "code",
   "execution_count": 6,
   "id": "53454a68-89e4-40c1-974c-472e758cbb1e",
   "metadata": {},
   "outputs": [
    {
     "name": "stdin",
     "output_type": "stream",
     "text": [
      "Enter number of rows: 5\n"
     ]
    },
    {
     "name": "stdout",
     "output_type": "stream",
     "text": [
      "* \n",
      "* * \n",
      "* * * \n",
      "* * * * \n",
      "* * * * * \n"
     ]
    }
   ],
   "source": [
    "n = int(input(\"Enter number of rows:\")) #taking input from the user for number of rows\n",
    "for i in range(1,n+1):\n",
    "    for j in range(1,i+1):\n",
    "        print(\"*\",end=\" \")\n",
    "    print()\n"
   ]
  },
  {
   "cell_type": "code",
   "execution_count": 10,
   "id": "811fba09-8079-48c1-83c4-ffb8998286e5",
   "metadata": {},
   "outputs": [
    {
     "name": "stdin",
     "output_type": "stream",
     "text": [
      "Enter number of rows: 5\n"
     ]
    },
    {
     "name": "stdout",
     "output_type": "stream",
     "text": [
      "* * * * * \n",
      "* * * * \n",
      "* * * \n",
      "* * \n",
      "* \n"
     ]
    }
   ],
   "source": [
    "n = int(input(\"Enter number of rows:\")) #taking input from the user for number of rows\n",
    "for i in range(n,0,-1):\n",
    "    for j in range(1,i+1):\n",
    "        print(\"*\",end=\" \")\n",
    "    print()"
   ]
  },
  {
   "cell_type": "code",
   "execution_count": 11,
   "id": "38026d2e-8d86-43de-a11c-8b9b24e78883",
   "metadata": {},
   "outputs": [
    {
     "name": "stdin",
     "output_type": "stream",
     "text": [
      "Enter number of rows: 5\n"
     ]
    },
    {
     "name": "stdout",
     "output_type": "stream",
     "text": [
      "    * \n",
      "   * * \n",
      "  * * * \n",
      " * * * * \n",
      "* * * * * \n"
     ]
    }
   ],
   "source": [
    "n = int(input(\"Enter number of rows:\"))\n",
    "for i in range(1,n+1):\n",
    "    print(\" \" * (n-i),end=\"\") # Equivalent Triangle form\n",
    "    print(\"* \"*i)\n"
   ]
  },
  {
   "cell_type": "code",
   "execution_count": 16,
   "id": "fcfeec46-e434-411c-97c8-46c7efd79715",
   "metadata": {},
   "outputs": [
    {
     "name": "stdin",
     "output_type": "stream",
     "text": [
      "enter the no : 7\n"
     ]
    },
    {
     "name": "stdout",
     "output_type": "stream",
     "text": [
      "False\n",
      "not found\n"
     ]
    }
   ],
   "source": [
    "numbers = [1, 2, 3, 4, 5]\n",
    "a=int(input(\"enter the no :\"))\n",
    "print(a in numbers)\n",
    "flag=False\n",
    "for i in range(len(numbers)):\n",
    "    if a==numbers[i]:\n",
    "        flag=True\n",
    "if flag==True:\n",
    "    print(\"found\")\n",
    "else :\n",
    "    print(\"not found\")"
   ]
  },
  {
   "cell_type": "code",
   "execution_count": 24,
   "id": "761bf57a-aa09-44d2-adf2-55aab6ab008b",
   "metadata": {},
   "outputs": [
    {
     "name": "stdin",
     "output_type": "stream",
     "text": [
      "enter fruit: banana\n"
     ]
    },
    {
     "name": "stdout",
     "output_type": "stream",
     "text": [
      "['apple', 'cherry', 'date']\n"
     ]
    }
   ],
   "source": [
    "fruits = [\"apple\", \"banana\", \"cherry\", \"date\"]\n",
    "f=input(\"enter fruit:\")\n",
    "nf=fruits\n",
    "i=0\n",
    "\n",
    "for x in fruits:\n",
    "    if f==x:\n",
    "        break\n",
    "    i+=1\n",
    "fruits=fruits[:i]+fruits[i+1:]\n",
    "        \n",
    "print(fruits)"
   ]
  },
  {
   "cell_type": "code",
   "execution_count": 27,
   "id": "2e1ad5b8-f780-4f4c-8221-6dd10dac0434",
   "metadata": {},
   "outputs": [
    {
     "name": "stdout",
     "output_type": "stream",
     "text": [
      "yhn\n"
     ]
    }
   ],
   "source": [
    "s = \"Python\"\n",
    "\n",
    "print(s[1::2])"
   ]
  },
  {
   "cell_type": "code",
   "execution_count": 4,
   "id": "7113fd11-cfe3-46fd-ba65-05605e0e33f9",
   "metadata": {},
   "outputs": [
    {
     "name": "stdout",
     "output_type": "stream",
     "text": [
      "the factorial of  5  is  [120, 5]\n"
     ]
    }
   ],
   "source": [
    "def factorial(a):#5!=5*4*3*2*1=120\n",
    "    fact=1\n",
    "    for x in range(1, a+1, 1):\n",
    "        fact=fact*x\n",
    "    return [fact, a]\n",
    "num=5\n",
    "print(\"the factorial of \",num,\" is \", factorial(num))\n",
    "    "
   ]
  },
  {
   "cell_type": "code",
   "execution_count": 7,
   "id": "aa84154f-9055-4db9-a89b-68b9a5fb321c",
   "metadata": {},
   "outputs": [
    {
     "name": "stdout",
     "output_type": "stream",
     "text": [
      "12\n"
     ]
    }
   ],
   "source": [
    "def add(a,b=0):#default parameter\n",
    "    print(a+b)\n",
    "\n",
    "add(12)"
   ]
  },
  {
   "cell_type": "code",
   "execution_count": 8,
   "id": "b683ba3e-74cc-4e03-b56d-b12decc8ceab",
   "metadata": {},
   "outputs": [
    {
     "name": "stdout",
     "output_type": "stream",
     "text": [
      "8.0\n"
     ]
    }
   ],
   "source": [
    "import math as m\n",
    "print(m.pow(2,3))"
   ]
  },
  {
   "cell_type": "code",
   "execution_count": 13,
   "id": "24f0fd31-382d-461e-b812-b87a9df6dfbd",
   "metadata": {},
   "outputs": [
    {
     "name": "stdout",
     "output_type": "stream",
     "text": [
      "5\n",
      "4\n",
      "6\n"
     ]
    }
   ],
   "source": [
    "print(m.ceil(4.3))\n",
    "print(m.floor(4.3))\n",
    "print(m.trunc(6.56))"
   ]
  },
  {
   "cell_type": "code",
   "execution_count": 19,
   "id": "8dee7554-6b00-483f-8786-fe5a20612c2e",
   "metadata": {},
   "outputs": [
    {
     "name": "stdout",
     "output_type": "stream",
     "text": [
      "5.8\n",
      "5.78\n",
      "6.0\n",
      "60.0\n"
     ]
    }
   ],
   "source": [
    "print(round(5.786,1))\n",
    "print(round(5.784,2))\n",
    "print(round(5.784,0))\n",
    "print(round(64.784,-1))"
   ]
  },
  {
   "cell_type": "code",
   "execution_count": 8,
   "id": "58ca4ca0-aeb0-467a-bcee-3cbf1f685e4e",
   "metadata": {},
   "outputs": [
    {
     "name": "stdout",
     "output_type": "stream",
     "text": [
      "hello all\n",
      "hello all welcome\n",
      "hello allhello allhello all\n",
      "yes\n",
      "h\n",
      "e\n",
      "l\n",
      "l\n",
      "o\n",
      " \n",
      "a\n",
      "l\n",
      "l\n"
     ]
    }
   ],
   "source": [
    "s=\"hello all\"\n",
    "print(s)\n",
    "print(s+\" welcome\")\n",
    "print(s*3)\n",
    "if 'lo' in s:\n",
    "    print(\"yes\")\n",
    "for x in s:\n",
    "    print(x)"
   ]
  },
  {
   "cell_type": "code",
   "execution_count": 19,
   "id": "9b11e243-32e4-4050-bec8-dc949062166a",
   "metadata": {},
   "outputs": [
    {
     "name": "stdout",
     "output_type": "stream",
     "text": [
      "f\n",
      "p\n",
      "cdefgh\n",
      "gh\n",
      "abcdefgh\n",
      "aceg\n",
      "abcdefghijklmnopqrs\n",
      "srqpon\n",
      "srqponmlkjihgfedcba\n"
     ]
    }
   ],
   "source": [
    "a=\"abcdefghijklmnopqrs\"\n",
    "print(a[5])\n",
    "print(a[-4])\n",
    "print(a[2:8:1])\n",
    "print(a[6:8:1])\n",
    "print(a[:8:1])\n",
    "print(a[:8:2])\n",
    "print(a[::])\n",
    "print(a[-1:-7:-1])\n",
    "print(a[::-1])"
   ]
  },
  {
   "cell_type": "code",
   "execution_count": 29,
   "id": "7b721585-218b-49a2-93c0-cbf525192056",
   "metadata": {},
   "outputs": [
    {
     "name": "stdout",
     "output_type": "stream",
     "text": [
      "False\n",
      "False\n",
      "1711192088448\n",
      "1711190576752\n",
      "False\n"
     ]
    }
   ],
   "source": [
    "str1 = \"cpple\"\n",
    "str2 = \"banana\"\n",
    "str3=\"apple\"\n",
    "result1 = str1 == str2\n",
    "print(result1)\n",
    "#print(str1<23)#error\n",
    "print(str1==str3)\n",
    "print(id(str1))\n",
    "print(id(str3))\n",
    "print(str1<str2)"
   ]
  },
  {
   "cell_type": "code",
   "execution_count": 32,
   "id": "3b7e79f1-0dab-4787-bc95-5a6817bde4bb",
   "metadata": {},
   "outputs": [
    {
     "name": "stdout",
     "output_type": "stream",
     "text": [
      "olleh\n"
     ]
    }
   ],
   "source": [
    "s=\"hello\"\n",
    "rs=\"\"\n",
    "for x in s:\n",
    "    rs=x+rs\n",
    "print(rs)"
   ]
  },
  {
   "cell_type": "code",
   "execution_count": 40,
   "id": "42e4d008-bbcd-401c-bc80-e2fb5b4bd549",
   "metadata": {},
   "outputs": [
    {
     "name": "stdout",
     "output_type": "stream",
     "text": [
      "3 12 2\n",
      "17\n"
     ]
    }
   ],
   "source": [
    "# Count all letters, digits, and special symbols from a given string\n",
    "s=\"hello @veryone123\"\n",
    "alc=0\n",
    "digc=0\n",
    "sc=0\n",
    "for x in s:\n",
    "    if x>=chr(48) and x<=chr(57):\n",
    "        digc+=1\n",
    "    elif (x>=chr(65) and x<=chr(90)) or (x>=chr(97) and x<=chr(122)):\n",
    "        alc+=1\n",
    "    else:\n",
    "        sc+=1\n",
    "print(digc, alc, sc)\n",
    "print(len(s))"
   ]
  },
  {
   "cell_type": "code",
   "execution_count": 54,
   "id": "6c3617c3-5dd2-4f4f-b7b4-1befea0eddf0",
   "metadata": {},
   "outputs": [
    {
     "name": "stdout",
     "output_type": "stream",
     "text": [
      "2\n",
      "HELLOALL12\n",
      "helloall12\n",
      "Helloall12\n",
      "False\n",
      "True\n",
      "False\n",
      "False\n",
      "False\n",
      "True\n"
     ]
    }
   ],
   "source": [
    "s=\"helloall12\"\n",
    "print(s.count('l',4,8))\n",
    "print(s.upper())\n",
    "print(s.lower())\n",
    "print(s.capitalize())\n",
    "print(s.isupper())\n",
    "print(s.islower())\n",
    "print(s.istitle())\n",
    "print(s.isalpha())\n",
    "print(s.isdigit())\n",
    "print(s.isalnum())"
   ]
  },
  {
   "cell_type": "code",
   "execution_count": 56,
   "id": "d9cb9ab4-ee3b-4249-8133-0078af0221d2",
   "metadata": {},
   "outputs": [
    {
     "name": "stdout",
     "output_type": "stream",
     "text": [
      " helloall12 \n",
      "helloall12 \n",
      " helloall12\n",
      "helloall12\n"
     ]
    }
   ],
   "source": [
    "s=\" helloall12 \"\n",
    "print(s)\n",
    "print(s.lstrip())\n",
    "print(s.rstrip())\n",
    "print(s.strip())"
   ]
  },
  {
   "cell_type": "code",
   "execution_count": 59,
   "id": "48b53758-2bb3-4527-ac6b-bb819bca5364",
   "metadata": {},
   "outputs": [
    {
     "name": "stdout",
     "output_type": "stream",
     "text": [
      "False\n",
      "True\n"
     ]
    }
   ],
   "source": [
    "print(s.startswith(\"he\") )\n",
    "print(s.endswith(\"12 \") )"
   ]
  },
  {
   "cell_type": "code",
   "execution_count": 9,
   "id": "dc0919e2-3320-44c7-97bc-ad9a408f90f5",
   "metadata": {},
   "outputs": [
    {
     "name": "stdout",
     "output_type": "stream",
     "text": [
      "['27', '12', '2016']\n",
      "27-12-2016\n",
      "27@12@2016\n",
      "27122016\n"
     ]
    }
   ],
   "source": [
    "str1 = \"27-12-2016\"\n",
    "res=str1.split('-')\n",
    "print(res)\n",
    "print(str1)\n",
    "jres=\"@\".join(res)\n",
    "print(jres)\n",
    "jres=\"\".join(res)\n",
    "print(jres)"
   ]
  },
  {
   "cell_type": "code",
   "execution_count": 5,
   "id": "b0a40f72-4495-4a6b-b019-edb12d199fa1",
   "metadata": {},
   "outputs": [
    {
     "name": "stdin",
     "output_type": "stream",
     "text": [
      "enter the sentance: hello all how are you\n"
     ]
    },
    {
     "name": "stdout",
     "output_type": "stream",
     "text": [
      "the no of words in the goven sentence are  4\n"
     ]
    }
   ],
   "source": [
    "#accept the sentance from user and print the count of words\n",
    "sentance=input(\"enter the sentance:\")\n",
    "lw=sentance.split(\" \", 3)\n",
    "print(\"the no of words in the goven sentence are \", len(lw))"
   ]
  },
  {
   "cell_type": "code",
   "execution_count": 7,
   "id": "5ea7c90d-d0ac-4f49-88e2-8d7a1eb42a92",
   "metadata": {},
   "outputs": [
    {
     "name": "stdout",
     "output_type": "stream",
     "text": [
      "I love apples, and I like bananas.\n"
     ]
    }
   ],
   "source": [
    "sentence = \"I like apples, and I like bananas.\"\n",
    "new_sentence = sentence.replace(\"like\", \"love\", 1)\n",
    "print(new_sentence)"
   ]
  },
  {
   "cell_type": "code",
   "execution_count": 13,
   "id": "5fdefdd3-518d-42a7-ac3b-66b863f26c7a",
   "metadata": {},
   "outputs": [
    {
     "name": "stdout",
     "output_type": "stream",
     "text": [
      "-1\n"
     ]
    }
   ],
   "source": [
    "sentence = \"Python is easy to learn and Python is versatile.\"\n",
    "index = sentence.find(\"Python\",10, 15) \n",
    "print(index)"
   ]
  },
  {
   "cell_type": "code",
   "execution_count": 18,
   "id": "96eafd79-4d10-49f6-b69d-6747866ad9d2",
   "metadata": {},
   "outputs": [
    {
     "name": "stdout",
     "output_type": "stream",
     "text": [
      "My name is Alice , and I am 30  years old.\n",
      "My name is      Alice, and I am 00030 years old.\n"
     ]
    }
   ],
   "source": [
    "#fomating character %c, %s, %d ,%f\n",
    "name = \"Alice\"\n",
    "age = 30\n",
    "print(\"My name is\",name, \", and I am\", age,\" years old.\")\n",
    "formatted_str = \"My name is %10s, and I am %05d years old.\" % (name, age)\n",
    "print(formatted_str)"
   ]
  },
  {
   "cell_type": "code",
   "execution_count": 21,
   "id": "3021e43c-cfff-4b01-b7ff-d51ac07c53fa",
   "metadata": {},
   "outputs": [
    {
     "name": "stdout",
     "output_type": "stream",
     "text": [
      "12345\n"
     ]
    }
   ],
   "source": [
    "input_string = \"Hello12345World\"\n",
    "result_string = ''\n",
    "for char in input_string:\n",
    "    if char.isdigit():\n",
    "        result_string += char\n",
    "print(result_string)"
   ]
  },
  {
   "cell_type": "code",
   "execution_count": 23,
   "id": "259d788f-6a76-434b-a3e2-6960d56c4e0b",
   "metadata": {},
   "outputs": [
    {
     "name": "stdout",
     "output_type": "stream",
     "text": [
      "12345\n"
     ]
    }
   ],
   "source": [
    "#Can you write a program in python to remove spaces from a given string\n",
    "file=open(\"demo.txt\",\"r\")#first(file name), second(mode, r, w, a) \n",
    "\n",
    "input_string = \"Hello12345World\"\n",
    "result_string = ''\n",
    "for char in input_string:\n",
    "    if char.isdigit():\n",
    "        result_string += char\n",
    "print(result_string)"
   ]
  },
  {
   "cell_type": "code",
   "execution_count": 25,
   "id": "1b4ef61e-e5d4-4186-a204-3e891e3adb10",
   "metadata": {},
   "outputs": [
    {
     "name": "stdout",
     "output_type": "stream",
     "text": [
      "\n"
     ]
    }
   ],
   "source": [
    "file=open(\"p1\\\\writedemo.txt\",\"r\")#first(file name), second(mode, r, w, a) \n",
    "data=file.read()\n",
    "print(data)\n",
    "file.close()"
   ]
  },
  {
   "cell_type": "code",
   "execution_count": 29,
   "id": "415e72ad-7499-459d-a182-c06b4bfc3156",
   "metadata": {},
   "outputs": [
    {
     "name": "stdout",
     "output_type": "stream",
     "text": [
      "['Good all of you\\n', ' this python open file example\\n', ' this is 3rd line']\n",
      "\n"
     ]
    }
   ],
   "source": [
    "#file paths->absolute path(E:\\\\python\\\\demo.txt), relative path(current folder to file path, demo.txt)\n",
    "file=open(\"demo.txt\",\"r\")#r(read data, file must), w(file not present then create, already present(delete content and writes from starting))\n",
    "#a(file not present then create, file already present(writes from end)\n",
    "data=file.readlines()\n",
    "print(data)\n",
    "data=file.readline()\n",
    "print(data)\n",
    "file.close()"
   ]
  },
  {
   "cell_type": "code",
   "execution_count": 31,
   "id": "3c60eb7c-7362-43a0-bb04-879580f8fa74",
   "metadata": {},
   "outputs": [
    {
     "name": "stdout",
     "output_type": "stream",
     "text": [
      "26\n"
     ]
    }
   ],
   "source": [
    "file=open(\"demo.txt\",\"w\")#r(read data, file must), w(file not present then create, already present(delete content and writes from starting))\n",
    "#a(file not present then create, file already present(writes from end)\n",
    "data=file.write(\"this is our morning class.\")\n",
    "file.writelines(['Good all of you\\n', ' this python open file example\\n', ' this is 3rd line'])\n",
    "print(data)\n",
    "file.close()"
   ]
  },
  {
   "cell_type": "code",
   "execution_count": 32,
   "id": "c12203da-63e1-4e12-bd83-e18dc8b3df8a",
   "metadata": {},
   "outputs": [
    {
     "name": "stdout",
     "output_type": "stream",
     "text": [
      "26\n"
     ]
    }
   ],
   "source": [
    "file=open(\"demo.txt\",\"a\")#r(read data, file must), w(file not present then create, already present(delete content and writes from starting))\n",
    "#a(file not present then create, file already present(writes from end)\n",
    "data=file.write(\"this is our morning class.\")\n",
    "print(data)\n",
    "file.close()"
   ]
  },
  {
   "cell_type": "code",
   "execution_count": 37,
   "id": "233a66b5-5296-408a-9325-442802a36aef",
   "metadata": {},
   "outputs": [
    {
     "name": "stdin",
     "output_type": "stream",
     "text": [
      "enter the words to search: class\n"
     ]
    },
    {
     "name": "stdout",
     "output_type": "stream",
     "text": [
      "2\n"
     ]
    }
   ],
   "source": [
    "word=input(\"enter the words to search:\")\n",
    "f=open(\"demo.txt\", \"r\")\n",
    "found=0\n",
    "data=f.read()\n",
    "for x in data.split(\" \"):\n",
    "    if word in x:\n",
    "        found+=1\n",
    "print(found)"
   ]
  },
  {
   "cell_type": "code",
   "execution_count": 2,
   "id": "7b7f4476-c1a1-42ab-a2ce-fb1f91b30a46",
   "metadata": {},
   "outputs": [
    {
     "name": "stdout",
     "output_type": "stream",
     "text": [
      "<class 'int'>\n"
     ]
    }
   ],
   "source": [
    "a=10\n",
    "print(type(a))"
   ]
  },
  {
   "cell_type": "code",
   "execution_count": 9,
   "id": "641828d5-dd5c-4ba2-b0b8-38c8833fda16",
   "metadata": {},
   "outputs": [
    {
     "name": "stdout",
     "output_type": "stream",
     "text": [
      "john 6777787776 10000\n",
      "11000.0\n"
     ]
    }
   ],
   "source": [
    "class emp:\n",
    "    def __init__(self, name, phno, salary):\n",
    "        self.name=name\n",
    "        self.phno=phno\n",
    "        self.salary=salary\n",
    "\n",
    "    def disp(self):\n",
    "        print(self.name, self.phno, self.salary)\n",
    "\n",
    "    def hike(self):\n",
    "        print(self.salary+self.salary*0.10)\n",
    "\n",
    "\n",
    "    \n",
    "\n",
    "obj1=emp(\"john\", 6777787776, 10000)\n",
    "obj1.disp()\n",
    "obj1.hike()#-->100(10), 1000(100), 10000(1000)        \n",
    "        "
   ]
  },
  {
   "cell_type": "code",
   "execution_count": 11,
   "id": "2b180b4a-86da-404c-99bb-e64936ac502e",
   "metadata": {},
   "outputs": [
    {
     "name": "stdout",
     "output_type": "stream",
     "text": [
      "hello from class a\n"
     ]
    }
   ],
   "source": [
    "class a:\n",
    "    def printMethod(self):\n",
    "        print(\"hello from class a\")\n",
    "        \n",
    "class b(a, emp):\n",
    "    pass\n",
    "\n",
    "ob=b()\n",
    "ob.printMethod()"
   ]
  },
  {
   "cell_type": "code",
   "execution_count": 13,
   "id": "8b6108db-5c70-4885-ad54-e9e03f95d9ee",
   "metadata": {},
   "outputs": [
    {
     "data": {
      "text/html": [
       "<div>\n",
       "<style scoped>\n",
       "    .dataframe tbody tr th:only-of-type {\n",
       "        vertical-align: middle;\n",
       "    }\n",
       "\n",
       "    .dataframe tbody tr th {\n",
       "        vertical-align: top;\n",
       "    }\n",
       "\n",
       "    .dataframe thead th {\n",
       "        text-align: right;\n",
       "    }\n",
       "</style>\n",
       "<table border=\"1\" class=\"dataframe\">\n",
       "  <thead>\n",
       "    <tr style=\"text-align: right;\">\n",
       "      <th></th>\n",
       "      <th>item_id</th>\n",
       "      <th>user_id</th>\n",
       "      <th>rating</th>\n",
       "      <th>timestamp</th>\n",
       "      <th>gender</th>\n",
       "      <th>category</th>\n",
       "      <th>brand</th>\n",
       "      <th>year</th>\n",
       "      <th>month</th>\n",
       "      <th>quantity</th>\n",
       "      <th>unitprice</th>\n",
       "      <th>amount</th>\n",
       "    </tr>\n",
       "  </thead>\n",
       "  <tbody>\n",
       "    <tr>\n",
       "      <th>0</th>\n",
       "      <td>7</td>\n",
       "      <td>131</td>\n",
       "      <td>4</td>\n",
       "      <td>36692</td>\n",
       "      <td>Female</td>\n",
       "      <td>Home Audio</td>\n",
       "      <td>Philips</td>\n",
       "      <td>2000</td>\n",
       "      <td>6</td>\n",
       "      <td>5</td>\n",
       "      <td>6360</td>\n",
       "      <td>31800</td>\n",
       "    </tr>\n",
       "    <tr>\n",
       "      <th>1</th>\n",
       "      <td>19</td>\n",
       "      <td>231</td>\n",
       "      <td>5</td>\n",
       "      <td>36891</td>\n",
       "      <td>Female</td>\n",
       "      <td>Camera</td>\n",
       "      <td>Canon</td>\n",
       "      <td>2000</td>\n",
       "      <td>12</td>\n",
       "      <td>10</td>\n",
       "      <td>9955</td>\n",
       "      <td>99550</td>\n",
       "    </tr>\n",
       "    <tr>\n",
       "      <th>2</th>\n",
       "      <td>14</td>\n",
       "      <td>233</td>\n",
       "      <td>5</td>\n",
       "      <td>36893</td>\n",
       "      <td>Female</td>\n",
       "      <td>Camera</td>\n",
       "      <td>Kodak</td>\n",
       "      <td>2001</td>\n",
       "      <td>1</td>\n",
       "      <td>9</td>\n",
       "      <td>7639</td>\n",
       "      <td>68751</td>\n",
       "    </tr>\n",
       "    <tr>\n",
       "      <th>3</th>\n",
       "      <td>14</td>\n",
       "      <td>257</td>\n",
       "      <td>5</td>\n",
       "      <td>36926</td>\n",
       "      <td>Female</td>\n",
       "      <td>Camera</td>\n",
       "      <td>Kodak</td>\n",
       "      <td>2001</td>\n",
       "      <td>2</td>\n",
       "      <td>7</td>\n",
       "      <td>5097</td>\n",
       "      <td>35679</td>\n",
       "    </tr>\n",
       "    <tr>\n",
       "      <th>4</th>\n",
       "      <td>14</td>\n",
       "      <td>269</td>\n",
       "      <td>5</td>\n",
       "      <td>36952</td>\n",
       "      <td>Female</td>\n",
       "      <td>Camera</td>\n",
       "      <td>Kodak</td>\n",
       "      <td>2001</td>\n",
       "      <td>3</td>\n",
       "      <td>10</td>\n",
       "      <td>6472</td>\n",
       "      <td>64720</td>\n",
       "    </tr>\n",
       "  </tbody>\n",
       "</table>\n",
       "</div>"
      ],
      "text/plain": [
       "   item_id  user_id  rating  timestamp  gender    category    brand  year  \\\n",
       "0        7      131       4      36692  Female  Home Audio  Philips  2000   \n",
       "1       19      231       5      36891  Female      Camera    Canon  2000   \n",
       "2       14      233       5      36893  Female      Camera    Kodak  2001   \n",
       "3       14      257       5      36926  Female      Camera    Kodak  2001   \n",
       "4       14      269       5      36952  Female      Camera    Kodak  2001   \n",
       "\n",
       "   month  quantity  unitprice  amount  \n",
       "0      6         5       6360   31800  \n",
       "1     12        10       9955   99550  \n",
       "2      1         9       7639   68751  \n",
       "3      2         7       5097   35679  \n",
       "4      3        10       6472   64720  "
      ]
     },
     "execution_count": 13,
     "metadata": {},
     "output_type": "execute_result"
    }
   ],
   "source": [
    "# Importing the libraries\n",
    "import pandas as pd\n",
    "import numpy as np\n",
    "import matplotlib.pyplot as plt\n",
    "# visualization\n",
    "import seaborn as sns\n",
    "# Importing the dataset\n",
    "dataset =pd.read_csv('https://raw.githubusercontent.com/AnudipAE/DANLC/master/cleaned.csv')\n",
    "# list of first five rows\n",
    "print(dataset.head())\n"
   ]
  },
  {
   "cell_type": "code",
   "execution_count": 14,
   "id": "dbfffba3-0fcc-401d-b8c1-517ab2ad57c4",
   "metadata": {},
   "outputs": [
    {
     "name": "stdout",
     "output_type": "stream",
     "text": [
      "       item_id  user_id  rating  timestamp  gender    category       brand  \\\n",
      "45161     7828  1157458       5      43341  Female  Headphones        Bose   \n",
      "45162     8624  1157504       5      43342  Female  Headphones        Pyle   \n",
      "45163     9513  1157527       5      43344    Male  Headphones        Mpow   \n",
      "45164     9125  1157555       3      43348  Female  Headphones      EldHus   \n",
      "45165     9478  1157632       1      43374  Female  Headphones  Etre Jeune   \n",
      "\n",
      "       year  month  quantity  unitprice  amount  \n",
      "45161  2018      8         7       5925   41475  \n",
      "45162  2018      8         7       9717   68019  \n",
      "45163  2018      9         8       9197   73576  \n",
      "45164  2018      9        10       8848   88480  \n",
      "45165  2018     10         7       7717   54019  \n"
     ]
    }
   ],
   "source": [
    "print(dataset.tail())"
   ]
  },
  {
   "cell_type": "code",
   "execution_count": 15,
   "id": "2da09ea2-b956-490f-bc9f-3490f0603f95",
   "metadata": {},
   "outputs": [
    {
     "name": "stdout",
     "output_type": "stream",
     "text": [
      "(45166, 12)\n"
     ]
    }
   ],
   "source": [
    "print(dataset.shape)"
   ]
  },
  {
   "cell_type": "code",
   "execution_count": 16,
   "id": "b1c6a8a7-6d73-4b0f-9bde-b7de7790d32c",
   "metadata": {},
   "outputs": [
    {
     "name": "stdout",
     "output_type": "stream",
     "text": [
      "<class 'pandas.core.frame.DataFrame'>\n",
      "RangeIndex: 45166 entries, 0 to 45165\n",
      "Data columns (total 12 columns):\n",
      " #   Column     Non-Null Count  Dtype \n",
      "---  ------     --------------  ----- \n",
      " 0   item_id    45166 non-null  int64 \n",
      " 1   user_id    45166 non-null  int64 \n",
      " 2   rating     45166 non-null  int64 \n",
      " 3   timestamp  45166 non-null  int64 \n",
      " 4   gender     45166 non-null  object\n",
      " 5   category   45166 non-null  object\n",
      " 6   brand      45166 non-null  object\n",
      " 7   year       45166 non-null  int64 \n",
      " 8   month      45166 non-null  int64 \n",
      " 9   quantity   45166 non-null  int64 \n",
      " 10  unitprice  45166 non-null  int64 \n",
      " 11  amount     45166 non-null  int64 \n",
      "dtypes: int64(9), object(3)\n",
      "memory usage: 4.1+ MB\n",
      "None\n"
     ]
    }
   ],
   "source": [
    "print(dataset.info())"
   ]
  },
  {
   "cell_type": "code",
   "execution_count": 17,
   "id": "a24951ba-5274-428f-99dd-be91d4ae9a00",
   "metadata": {},
   "outputs": [
    {
     "name": "stdout",
     "output_type": "stream",
     "text": [
      "count    45166.000000\n",
      "mean         4.218594\n",
      "std          1.221118\n",
      "min          1.000000\n",
      "25%          4.000000\n",
      "50%          5.000000\n",
      "75%          5.000000\n",
      "max          5.000000\n",
      "Name: rating, dtype: float64\n"
     ]
    }
   ],
   "source": [
    "print(dataset['rating'].describe())"
   ]
  },
  {
   "cell_type": "code",
   "execution_count": 18,
   "id": "f965ed55-6f4a-4bf6-9acd-90b7b07a0c01",
   "metadata": {},
   "outputs": [
    {
     "name": "stdout",
     "output_type": "stream",
     "text": [
      "item_id       1892\n",
      "user_id      40401\n",
      "rating           5\n",
      "timestamp     4179\n",
      "gender           2\n",
      "category        10\n",
      "brand           50\n",
      "year            19\n",
      "month           12\n",
      "quantity         6\n",
      "unitprice     5001\n",
      "amount       19611\n",
      "dtype: int64\n"
     ]
    }
   ],
   "source": [
    "print(dataset.nunique())"
   ]
  },
  {
   "cell_type": "code",
   "execution_count": 19,
   "id": "9793489b-923a-459b-b473-b6e17505cc54",
   "metadata": {
    "scrolled": true
   },
   "outputs": [
    {
     "data": {
      "text/plain": [
       "<Axes: title={'center': 'Year Wise Sales'}, xlabel='year'>"
      ]
     },
     "execution_count": 19,
     "metadata": {},
     "output_type": "execute_result"
    },
    {
     "data": {
      "image/png": "[encoded data removed]",
      "text/plain": [
       "<Figure size 640x480 with 1 Axes>"
      ]
     },
     "metadata": {},
     "output_type": "display_data"
    }
   ],
   "source": [
    "dataset.groupby('year')['amount'].count().plot(kind='bar',title='Year Wise Sales')\n"
   ]
  },
  {
   "cell_type": "code",
   "execution_count": 22,
   "id": "5ce45980-869d-4779-8c98-3b596580c44e",
   "metadata": {},
   "outputs": [
    {
     "name": "stdout",
     "output_type": "stream",
     "text": [
      "handling index error: <class 'IndexError'>\n",
      "this is finally block\n",
      "code execute sucssesfully\n"
     ]
    }
   ],
   "source": [
    "l=[20,70,57]\n",
    "try:\n",
    "    print(l[9])\n",
    "except ZeroDivisionError:\n",
    "    print(\"handling zero division error\")\n",
    "except IndexError as o:\n",
    "    print(\"handling index error:\", type(o))\n",
    "except Exception:\n",
    "    print(\"genaral handling\")\n",
    "else:\n",
    "    print(\"this is else block\")\n",
    "finally:\n",
    "    print(\"this is finally block\")\n",
    "    \n",
    "print(\"code execute sucssesfully\")"
   ]
  },
  {
   "cell_type": "code",
   "execution_count": 25,
   "id": "52931606-fafb-4c04-b846-45775f0d018a",
   "metadata": {},
   "outputs": [],
   "source": [
    "try:\n",
    "# Code that might raise an exception\n",
    "    result = int(\"abc\") # This will raise a ValueError\n",
    "except ValueError:\n",
    "# Handle the ValueError\n",
    "    print(\"Invalid conversion to integer.\")\n",
    "except ZeroDivisionError:\n",
    "# Handle the ZeroDivisionError\n",
    "    print(\"Division by zero is not allowed.\")"
   ]
  },
  {
   "cell_type": "code",
   "execution_count": 31,
   "id": "285a57a0-d42b-44ba-8637-97ed8c8a4219",
   "metadata": {},
   "outputs": [
    {
     "name": "stdout",
     "output_type": "stream",
     "text": [
      "Invalid conversion to integer. this explicitly raised\n"
     ]
    }
   ],
   "source": [
    "try:\n",
    "# Code that might raise an exception\n",
    "     # This will raise a ValueError\n",
    "    raise ValueError(\"this explicitly raised\")\n",
    "except ValueError as o:\n",
    "# Handle the ValueError\n",
    "    print(\"Invalid conversion to integer.\",o)\n",
    "except ZeroDivisionError:\n",
    "# Handle the ZeroDivisionError\n",
    "    print(\"Division by zero is not allowed.\")"
   ]
  },
  {
   "cell_type": "code",
   "execution_count": 39,
   "id": "56b0af8c-5ad5-4e3d-86f4-ed7dd0856c07",
   "metadata": {},
   "outputs": [
    {
     "name": "stdin",
     "output_type": "stream",
     "text": [
      "enter age: 15\n"
     ]
    },
    {
     "name": "stdout",
     "output_type": "stream",
     "text": [
      "age should be greater than 18\n"
     ]
    }
   ],
   "source": [
    "class ageError(BaseException):\n",
    "    def __init__(self, msg=\"age below 18\"):\n",
    "        print(msg) \n",
    "\n",
    "try:\n",
    "    a=int(input(\"enter age:\"))\n",
    "    if a<18:\n",
    "        raise ageError\n",
    "        \n",
    "except ValueError:\n",
    "    print(\"enter integer no only\")\n",
    "except ageError:\n",
    "    print(\"age should be greater than 18\")\n",
    "    "
   ]
  },
  {
   "cell_type": "code",
   "execution_count": 27,
   "id": "f5720492-1cab-49fd-8c8f-e17ba0023aa2",
   "metadata": {},
   "outputs": [
    {
     "name": "stdout",
     "output_type": "stream",
     "text": [
      "['hi', 70]\n",
      "70\n",
      "[78, 90, 56, 70, 23]\n",
      "[23, 'hi', 90.89, 23, 70, 56, 90, 78]\n",
      "70\n",
      "[23, 'hi', 90.89, 23, 100, 56, 90, 78]\n",
      "[23, 'hi', 90.89, 23, 100, 56, 90, 78, 200]\n"
     ]
    }
   ],
   "source": [
    "l=[23, \"hi\", 90.89, 23, 70, 56,90,78]\n",
    "print(l[1:6:3])#hi, 70, \n",
    "print(l[-4])#\n",
    "print(l[-1:-6:-1])#\n",
    "print(l)\n",
    "print(l[4])\n",
    "l[4]=100\n",
    "print(l)\n",
    "l.append(200)\n",
    "print(l)"
   ]
  },
  {
   "cell_type": "code",
   "execution_count": 13,
   "id": "66c466ea-1157-4013-951b-52540602d32a",
   "metadata": {},
   "outputs": [
    {
     "name": "stdout",
     "output_type": "stream",
     "text": [
      "(23, 'hi', 90.89, 23, 70)\n",
      "23\n"
     ]
    },
    {
     "ename": "TypeError",
     "evalue": "'tuple' object does not support item assignment",
     "output_type": "error",
     "traceback": [
      "\u001b[1;31m---------------------------------------------------------------------------\u001b[0m",
      "\u001b[1;31mTypeError\u001b[0m                                 Traceback (most recent call last)",
      "Cell \u001b[1;32mIn[13], line 4\u001b[0m\n\u001b[0;32m      2\u001b[0m \u001b[38;5;28mprint\u001b[39m(t)\n\u001b[0;32m      3\u001b[0m \u001b[38;5;28mprint\u001b[39m(t[\u001b[38;5;241m3\u001b[39m])\n\u001b[1;32m----> 4\u001b[0m \u001b[43mt\u001b[49m\u001b[43m[\u001b[49m\u001b[38;5;241;43m3\u001b[39;49m\u001b[43m]\u001b[49m\u001b[38;5;241m=\u001b[39m\u001b[38;5;241m300\u001b[39m\n",
      "\u001b[1;31mTypeError\u001b[0m: 'tuple' object does not support item assignment"
     ]
    }
   ],
   "source": [
    "t=(23, \"hi\", 90.89, 23, 70)\n",
    "print(t)\n",
    "print(t[3])\n",
    "#t[3]=300 cann't do because immutable\n"
   ]
  },
  {
   "cell_type": "code",
   "execution_count": 16,
   "id": "248b540f-42ad-4e81-ae06-0cc0941e8fbf",
   "metadata": {},
   "outputs": [
    {
     "name": "stdout",
     "output_type": "stream",
     "text": [
      "{90.89, 'hi', 70, 23}\n"
     ]
    }
   ],
   "source": [
    "s={23, \"hi\", 90.89, 23, 70}\n",
    "print(s)\n",
    "#print(s[0]) no indexing\n"
   ]
  },
  {
   "cell_type": "code",
   "execution_count": 20,
   "id": "236046fb-5343-45da-92e2-20a66ea25c3d",
   "metadata": {},
   "outputs": [
    {
     "name": "stdout",
     "output_type": "stream",
     "text": [
      "{'john': 70, 'kusma': 90, 'sujan': 60, 'amrutha': 50}\n",
      "60\n"
     ]
    }
   ],
   "source": [
    "d={'john':89, 'kusma':90, 'sujan':60, 'amrutha':50, 'john':70 }\n",
    "print(d)\n",
    "print(d['sujan'])"
   ]
  },
  {
   "cell_type": "code",
   "execution_count": 23,
   "id": "eba436c7-9e8e-4f33-bc61-b9d4643fe45a",
   "metadata": {},
   "outputs": [
    {
     "name": "stdout",
     "output_type": "stream",
     "text": [
      "[1, 8, 0, 6]\n"
     ]
    }
   ],
   "source": [
    "l=list((1,8,0,6))\n",
    "print(l)"
   ]
  },
  {
   "cell_type": "code",
   "execution_count": 51,
   "id": "e0f63623-c697-4d6a-bd68-a94161b47384",
   "metadata": {},
   "outputs": [
    {
     "name": "stdout",
     "output_type": "stream",
     "text": [
      "8\n",
      "None\n",
      "[23, 'hi', 90.89, 23, 70, 56, 90, 78, 100]\n",
      "None\n",
      "[23, 'hi', 90.89, 23, 70, 56, 90, 78, 100, 200, 300]\n",
      "[23, 'hi', 400, 90.89, 23, 70, 56, 90, 78, 100, 200, 300]\n",
      "2\n",
      "['hi', 400, 90.89, 23, 70, 56, 90, 78, 100, 200, 300]\n",
      "['hi', 400, 90.89, 23, 70, 56, 90, 78, 100, 200]\n",
      "['hi', 400, 90.89, 23, 56, 90, 78, 100, 200]\n",
      "0\n",
      "['hi', 400, 90.89, 23, 56, 90, 78, 100, 200]\n",
      "None\n",
      "[200, 100, 78, 90, 56, 23, 90.89, 400, 'hi']\n",
      "[400, 200, 100, 90.89, 90, 78, 56, 23]\n",
      "[23, 34, 67, 89, 90]\n"
     ]
    }
   ],
   "source": [
    "l=[23, \"hi\", 90.89, 23, 70, 56,90,78]\n",
    "print(len(l))\n",
    "print(l.append(100))\n",
    "print(l)\n",
    "print(l.extend([200, 300]))\n",
    "print(l)\n",
    "l.introduce(2, 400)\n",
    "print(l)\n",
    "print(l.count(23))\n",
    "l.remove(23)\n",
    "print(l)\n",
    "l.pop()\n",
    "print(l)\n",
    "l.pop(4)\n",
    "print(l)\n",
    "#l.clear()\n",
    "print(l.index('hi'))\n",
    "print(l)\n",
    "print(l.reverse())\n",
    "print(l)\n",
    "l.remove(\"hi\")\n",
    "l.sort(reverse=True)\n",
    "print(l)\n",
    "t=(34, 89,67,90,23)\n",
    "print(sorted(t))"
   ]
  },
  {
   "cell_type": "code",
   "execution_count": 56,
   "id": "f2d3b334-0f31-4882-b527-a5d8a337b5b5",
   "metadata": {},
   "outputs": [
    {
     "name": "stdin",
     "output_type": "stream",
     "text": [
      "enter index no 4\n"
     ]
    },
    {
     "name": "stdout",
     "output_type": "stream",
     "text": [
      "[23, 23, 56, 70, 90.89, 90, 78]\n"
     ]
    }
   ],
   "source": [
    "l=[23, 90.89, 23, 70, 56,90,78]\n",
    "ind=int(input(\"enter index no\"))\n",
    "sl=l[0:ind+1]\n",
    "sl.sort()\n",
    "for x in range(ind+1, len(l)):\n",
    "    sl.append(l[x])\n",
    "print(sl)\n"
   ]
  },
  {
   "cell_type": "code",
   "execution_count": 58,
   "id": "e6ddc7b3-ad1b-48ba-bdad-bef1ce26d3dd",
   "metadata": {},
   "outputs": [
    {
     "name": "stdout",
     "output_type": "stream",
     "text": [
      "23\n",
      "90.89\n",
      "23\n",
      "70\n",
      "56\n",
      "90\n",
      "78\n"
     ]
    }
   ],
   "source": [
    "for x in range(0, len(l), 1):\n",
    "    print(l[x])"
   ]
  },
  {
   "cell_type": "code",
   "execution_count": 62,
   "id": "1fd34c82-f07b-4666-8908-63157ec10a76",
   "metadata": {},
   "outputs": [
    {
     "name": "stdout",
     "output_type": "stream",
     "text": [
      "[2, 4, 6, 8, 10, 12, 14, 16, 18, 20]\n",
      "[4, 6, 8, 10, 12, 14, 16, 18, 20, 22]\n"
     ]
    }
   ],
   "source": [
    "l=[]\n",
    "for x in range(2,21,2):\n",
    "    l.append(x)\n",
    "print(l)\n",
    "le=[x+2 for x in range(2,21,2)]#list comprehnsion\n",
    "print(le)"
   ]
  },
  {
   "cell_type": "code",
   "execution_count": 64,
   "id": "507581db-28b9-4f61-bed8-645d29b75673",
   "metadata": {},
   "outputs": [
    {
     "name": "stdout",
     "output_type": "stream",
     "text": [
      "['apple', 'banana', 'mango']\n"
     ]
    }
   ],
   "source": [
    "fruits = [\"apple\", \"banana\", \"cherry\", \"kiwi\", \"mango\"]\n",
    "newlist = [x for x in fruits if \"a\" in x]\n",
    "print(newlist)"
   ]
  },
  {
   "cell_type": "code",
   "execution_count": 66,
   "id": "7cda96fa-d662-4b4e-a2f2-dcc11e3e46bb",
   "metadata": {},
   "outputs": [
    {
     "name": "stdout",
     "output_type": "stream",
     "text": [
      "90\n"
     ]
    }
   ],
   "source": [
    "l=[['john',89], ['kusma',90], ['sujan',60], ['amrutha',50], ['john',70]]\n",
    "print(l[1][1])"
   ]
  },
  {
   "cell_type": "code",
   "execution_count": 70,
   "id": "a15561cd-6d0d-4a9f-b243-60796d9d89c8",
   "metadata": {},
   "outputs": [
    {
     "name": "stdout",
     "output_type": "stream",
     "text": [
      "[['t1', True], ['t3', False], ['t4', True]]\n"
     ]
    }
   ],
   "source": [
    "tasks=[['t1',True],['t2',True],['t3',False]]\n",
    "tasks.append(['t4',True])\n",
    "tasks.remove(['t2',True])\n",
    "print(tasks)"
   ]
  },
  {
   "cell_type": "code",
   "execution_count": 71,
   "id": "3de973df-6133-4569-ba07-4a58f53871cd",
   "metadata": {},
   "outputs": [
    {
     "name": "stdout",
     "output_type": "stream",
     "text": [
      "[['t3', False], ['t4', True]]\n"
     ]
    }
   ],
   "source": [
    "del tasks[0]\n",
    "print(tasks)"
   ]
  },
  {
   "cell_type": "code",
   "execution_count": 1,
   "id": "7ad5b891-2749-4cdc-8d69-257c0392146b",
   "metadata": {},
   "outputs": [
    {
     "name": "stdout",
     "output_type": "stream",
     "text": [
      "(34, 78, 56, 23)\n",
      "(78, 90, 67, 45)\n",
      "(7, 90, 67, 4)\n",
      "()\n"
     ]
    }
   ],
   "source": [
    "t=(34,78,56,23)\n",
    "t1=78,90,67,45\n",
    "t3=tuple([7,90,67,4])\n",
    "t4=tuple()\n",
    "print(t)\n",
    "print(t1)\n",
    "print(t3)\n",
    "print(t4)"
   ]
  },
  {
   "cell_type": "code",
   "execution_count": 2,
   "id": "60eeca85-d3aa-4c29-89e8-b6dad632936f",
   "metadata": {},
   "outputs": [
    {
     "name": "stdout",
     "output_type": "stream",
     "text": [
      "(12, 78, 90)\n"
     ]
    }
   ],
   "source": [
    "def fun():\n",
    "    return 12, 78,90\n",
    "\n",
    "print(fun())"
   ]
  },
  {
   "cell_type": "code",
   "execution_count": 4,
   "id": "d0f1eecb-b1ea-4981-b6e4-4e6252d39c55",
   "metadata": {},
   "outputs": [
    {
     "name": "stdout",
     "output_type": "stream",
     "text": [
      "(89, 67, 90)\n",
      "89 67 90\n"
     ]
    }
   ],
   "source": [
    "t=89, 67, 90#packing\n",
    "print(t)\n",
    "a,b,c=t#unpacking\n",
    "print(a,b,c)"
   ]
  },
  {
   "cell_type": "code",
   "execution_count": 5,
   "id": "fdd5f885-5da0-4267-a0e4-e19e1d4ae2d3",
   "metadata": {},
   "outputs": [
    {
     "name": "stdout",
     "output_type": "stream",
     "text": [
      "('a', 'b', 'c')\n"
     ]
    }
   ],
   "source": [
    "my_string = \"abc\"\n",
    "tuple_from_string = tuple(my_string)\n",
    "print(tuple_from_string)"
   ]
  },
  {
   "cell_type": "code",
   "execution_count": 10,
   "id": "e0cc5e1a-1e21-4b68-9526-7f5d6aa39b84",
   "metadata": {},
   "outputs": [
    {
     "name": "stdout",
     "output_type": "stream",
     "text": [
      "50\n",
      "30\n",
      "(30, 40)\n"
     ]
    }
   ],
   "source": [
    "my_tuple = (10, 20, 30, 40, 50)\n",
    "print(my_tuple[4])\n",
    "print(my_tuple[-3])\n",
    "print(my_tuple[-3: -1:1])#[start=0 : end+1=len : step=1]=-3+(-1)=-4\n",
    "print(my_tuple[2: 9:2])"
   ]
  },
  {
   "cell_type": "code",
   "execution_count": 17,
   "id": "8fd052b5-7412-4b09-af0d-7f628a6061c1",
   "metadata": {},
   "outputs": [
    {
     "name": "stdout",
     "output_type": "stream",
     "text": [
      "12\n",
      "22\n",
      "32\n",
      "42\n",
      "52\n",
      "22\n",
      "6\n",
      "1\n",
      "1\n",
      "[10, 20, 20, 30, 40, 50]\n"
     ]
    }
   ],
   "source": [
    "my_tuple = (10, 20, 30, 40, 50, 20)\n",
    "# Iterating through elements\n",
    "for item in my_tuple:\n",
    "    print(item+2)\n",
    "print(len(my_tuple))\n",
    "print(my_tuple.count(30))\n",
    "print(my_tuple.index(20))\n",
    "print(sorted(my_tuple))#reverse=False, key=function_name"
   ]
  },
  {
   "cell_type": "code",
   "execution_count": 15,
   "id": "b27086e0-7e73-4c02-9fff-b418e8214c47",
   "metadata": {},
   "outputs": [
    {
     "name": "stdout",
     "output_type": "stream",
     "text": [
      "(4, 5, 6, 1, 2, 3)\n",
      "(1, 2, 3, 1, 2, 3, 1, 2, 3)\n"
     ]
    }
   ],
   "source": [
    "tuple1 = (1, 2, 3)\n",
    "tuple2 = (4, 5, 6)\n",
    "result_tuple = tuple2 + tuple1\n",
    "print(result_tuple )\n",
    "print(tuple1*3)"
   ]
  },
  {
   "cell_type": "code",
   "execution_count": 31,
   "id": "6ac63e55-bfd5-4f43-a30d-507c77b16378",
   "metadata": {},
   "outputs": [
    {
     "name": "stdout",
     "output_type": "stream",
     "text": [
      "\n",
      "Menu:\n",
      "1. Add Student\n",
      "2. Display Records\n",
      "3. Exit\n"
     ]
    },
    {
     "name": "stdin",
     "output_type": "stream",
     "text": [
      "Enter your choice:  1\n",
      "Enter student name:  john\n",
      "Enter exam scores (comma-separated):  23,45\n"
     ]
    },
    {
     "name": "stdout",
     "output_type": "stream",
     "text": [
      "[['john', [23, 45], 'F']]\n",
      "Student record added successfully!\n",
      "\n",
      "Menu:\n",
      "1. Add Student\n",
      "2. Display Records\n",
      "3. Exit\n"
     ]
    },
    {
     "name": "stdin",
     "output_type": "stream",
     "text": [
      "Enter your choice:  2\n"
     ]
    },
    {
     "name": "stdout",
     "output_type": "stream",
     "text": [
      "Student Records:\n",
      "(['john', [23, 45], 'F'],)\n",
      "record ['john', [23, 45], 'F']\n",
      "Student 1: Name: john, Scores: [23, 45], Final Grade: F\n",
      "\n",
      "Menu:\n",
      "1. Add Student\n",
      "2. Display Records\n",
      "3. Exit\n"
     ]
    },
    {
     "ename": "KeyboardInterrupt",
     "evalue": "Interrupted by user",
     "output_type": "error",
     "traceback": [
      "\u001b[1;31m---------------------------------------------------------------------------\u001b[0m",
      "\u001b[1;31mKeyboardInterrupt\u001b[0m                         Traceback (most recent call last)",
      "Cell \u001b[1;32mIn[31], line 52\u001b[0m\n\u001b[0;32m     49\u001b[0m             \u001b[38;5;28mprint\u001b[39m(\u001b[38;5;124m\"\u001b[39m\u001b[38;5;124mInvalid choice. Please try again.\u001b[39m\u001b[38;5;124m\"\u001b[39m)\n\u001b[0;32m     51\u001b[0m \u001b[38;5;28;01mif\u001b[39;00m \u001b[38;5;18m__name__\u001b[39m \u001b[38;5;241m==\u001b[39m \u001b[38;5;124m\"\u001b[39m\u001b[38;5;124m__main__\u001b[39m\u001b[38;5;124m\"\u001b[39m:\n\u001b[1;32m---> 52\u001b[0m     \u001b[43mmain\u001b[49m\u001b[43m(\u001b[49m\u001b[43m)\u001b[49m\n",
      "Cell \u001b[1;32mIn[31], line 35\u001b[0m, in \u001b[0;36mmain\u001b[1;34m()\u001b[0m\n\u001b[0;32m     33\u001b[0m \u001b[38;5;28mprint\u001b[39m(\u001b[38;5;124m\"\u001b[39m\u001b[38;5;124m2. Display Records\u001b[39m\u001b[38;5;124m\"\u001b[39m)\n\u001b[0;32m     34\u001b[0m \u001b[38;5;28mprint\u001b[39m(\u001b[38;5;124m\"\u001b[39m\u001b[38;5;124m3. Exit\u001b[39m\u001b[38;5;124m\"\u001b[39m)\n\u001b[1;32m---> 35\u001b[0m choice \u001b[38;5;241m=\u001b[39m \u001b[38;5;28;43minput\u001b[39;49m\u001b[43m(\u001b[49m\u001b[38;5;124;43m\"\u001b[39;49m\u001b[38;5;124;43mEnter your choice: \u001b[39;49m\u001b[38;5;124;43m\"\u001b[39;49m\u001b[43m)\u001b[49m\n\u001b[0;32m     37\u001b[0m \u001b[38;5;28;01mif\u001b[39;00m choice \u001b[38;5;241m==\u001b[39m \u001b[38;5;124m'\u001b[39m\u001b[38;5;124m1\u001b[39m\u001b[38;5;124m'\u001b[39m:\n\u001b[0;32m     38\u001b[0m     name \u001b[38;5;241m=\u001b[39m \u001b[38;5;28minput\u001b[39m(\u001b[38;5;124m\"\u001b[39m\u001b[38;5;124mEnter student name: \u001b[39m\u001b[38;5;124m\"\u001b[39m)\n",
      "File \u001b[1;32mC:\\Python\\Lib\\site-packages\\ipykernel\\kernelbase.py:1270\u001b[0m, in \u001b[0;36mKernel.raw_input\u001b[1;34m(self, prompt)\u001b[0m\n\u001b[0;32m   1268\u001b[0m     msg \u001b[38;5;241m=\u001b[39m \u001b[38;5;124m\"\u001b[39m\u001b[38;5;124mraw_input was called, but this frontend does not support input requests.\u001b[39m\u001b[38;5;124m\"\u001b[39m\n\u001b[0;32m   1269\u001b[0m     \u001b[38;5;28;01mraise\u001b[39;00m StdinNotImplementedError(msg)\n\u001b[1;32m-> 1270\u001b[0m \u001b[38;5;28;01mreturn\u001b[39;00m \u001b[38;5;28;43mself\u001b[39;49m\u001b[38;5;241;43m.\u001b[39;49m\u001b[43m_input_request\u001b[49m\u001b[43m(\u001b[49m\n\u001b[0;32m   1271\u001b[0m \u001b[43m    \u001b[49m\u001b[38;5;28;43mstr\u001b[39;49m\u001b[43m(\u001b[49m\u001b[43mprompt\u001b[49m\u001b[43m)\u001b[49m\u001b[43m,\u001b[49m\n\u001b[0;32m   1272\u001b[0m \u001b[43m    \u001b[49m\u001b[38;5;28;43mself\u001b[39;49m\u001b[38;5;241;43m.\u001b[39;49m\u001b[43m_parent_ident\u001b[49m\u001b[43m[\u001b[49m\u001b[38;5;124;43m\"\u001b[39;49m\u001b[38;5;124;43mshell\u001b[39;49m\u001b[38;5;124;43m\"\u001b[39;49m\u001b[43m]\u001b[49m\u001b[43m,\u001b[49m\n\u001b[0;32m   1273\u001b[0m \u001b[43m    \u001b[49m\u001b[38;5;28;43mself\u001b[39;49m\u001b[38;5;241;43m.\u001b[39;49m\u001b[43mget_parent\u001b[49m\u001b[43m(\u001b[49m\u001b[38;5;124;43m\"\u001b[39;49m\u001b[38;5;124;43mshell\u001b[39;49m\u001b[38;5;124;43m\"\u001b[39;49m\u001b[43m)\u001b[49m\u001b[43m,\u001b[49m\n\u001b[0;32m   1274\u001b[0m \u001b[43m    \u001b[49m\u001b[43mpassword\u001b[49m\u001b[38;5;241;43m=\u001b[39;49m\u001b[38;5;28;43;01mFalse\u001b[39;49;00m\u001b[43m,\u001b[49m\n\u001b[0;32m   1275\u001b[0m \u001b[43m\u001b[49m\u001b[43m)\u001b[49m\n",
      "File \u001b[1;32mC:\\Python\\Lib\\site-packages\\ipykernel\\kernelbase.py:1313\u001b[0m, in \u001b[0;36mKernel._input_request\u001b[1;34m(self, prompt, ident, parent, password)\u001b[0m\n\u001b[0;32m   1310\u001b[0m \u001b[38;5;28;01mexcept\u001b[39;00m \u001b[38;5;167;01mKeyboardInterrupt\u001b[39;00m:\n\u001b[0;32m   1311\u001b[0m     \u001b[38;5;66;03m# re-raise KeyboardInterrupt, to truncate traceback\u001b[39;00m\n\u001b[0;32m   1312\u001b[0m     msg \u001b[38;5;241m=\u001b[39m \u001b[38;5;124m\"\u001b[39m\u001b[38;5;124mInterrupted by user\u001b[39m\u001b[38;5;124m\"\u001b[39m\n\u001b[1;32m-> 1313\u001b[0m     \u001b[38;5;28;01mraise\u001b[39;00m \u001b[38;5;167;01mKeyboardInterrupt\u001b[39;00m(msg) \u001b[38;5;28;01mfrom\u001b[39;00m \u001b[38;5;28;01mNone\u001b[39;00m\n\u001b[0;32m   1314\u001b[0m \u001b[38;5;28;01mexcept\u001b[39;00m \u001b[38;5;167;01mException\u001b[39;00m:\n\u001b[0;32m   1315\u001b[0m     \u001b[38;5;28mself\u001b[39m\u001b[38;5;241m.\u001b[39mlog\u001b[38;5;241m.\u001b[39mwarning(\u001b[38;5;124m\"\u001b[39m\u001b[38;5;124mInvalid Message:\u001b[39m\u001b[38;5;124m\"\u001b[39m, exc_info\u001b[38;5;241m=\u001b[39m\u001b[38;5;28;01mTrue\u001b[39;00m)\n",
      "\u001b[1;31mKeyboardInterrupt\u001b[0m: Interrupted by user"
     ]
    }
   ],
   "source": [
    "def calculate_grade(score):\n",
    "    if score >= 90:\n",
    "        return 'A'\n",
    "    elif score >= 80:\n",
    "        return 'B'\n",
    "    elif score >= 70:\n",
    "        return 'C'\n",
    "    elif score >= 60:\n",
    "        return 'D'\n",
    "    else:\n",
    "        return 'F'\n",
    "\n",
    "def add_student(records, name, scores):\n",
    "    grade = calculate_grade(sum(scores) / len(scores))\n",
    "    l=[]\n",
    "    temp=l.append([name, scores, grade])\n",
    "    print(l)\n",
    "    return records+tuple(l)\n",
    "\n",
    "def display_records(records):\n",
    "    print(\"Student Records:\")\n",
    "    print(records)\n",
    "    for idx, record in enumerate(records, start=1):\n",
    "        print(\"record\",record) \n",
    "        name, scores, grade = record\n",
    "        print(f\"Student {idx}: Name: {name}, Scores: {scores}, Final Grade: {grade}\")\n",
    "\n",
    "def main():\n",
    "    student_records = ()\n",
    "    while True:\n",
    "        print(\"\\nMenu:\")\n",
    "        print(\"1. Add Student\")\n",
    "        print(\"2. Display Records\")\n",
    "        print(\"3. Exit\")\n",
    "        choice = input(\"Enter your choice: \")\n",
    "\n",
    "        if choice == '1':\n",
    "            name = input(\"Enter student name: \")\n",
    "            scores = input(\"Enter exam scores (comma-separated): \").split(',')\n",
    "            scores = [int(score) for score in scores]\n",
    "            student_records=add_student(student_records, name, scores)\n",
    "            print(\"Student record added successfully!\")\n",
    "        elif choice == '2':\n",
    "            display_records(student_records)\n",
    "        elif choice == '3':\n",
    "            print(\"Exiting...\")\n",
    "            break\n",
    "        else:\n",
    "            print(\"Invalid choice. Please try again.\")\n",
    "\n",
    "if __name__ == \"__main__\":\n",
    "    main()"
   ]
  },
  {
   "cell_type": "code",
   "execution_count": 36,
   "id": "58d9fb86-180b-46a4-81dd-a4e3b1447897",
   "metadata": {},
   "outputs": [
    {
     "name": "stdout",
     "output_type": "stream",
     "text": [
      "{89, 34, 45, 78}\n",
      "{34, 45, 78}\n",
      "{45, 78}\n",
      "set()\n"
     ]
    }
   ],
   "source": [
    "s={34, 78, 45}#mutable, unorder,no indering slicing, unique\n",
    "s={}\n",
    "s.add(89)\n",
    "print(s)\n",
    "s.pop()\n",
    "print(s)\n",
    "s.pop()\n",
    "print(s)\n",
    "s.clear()\n",
    "print(s)"
   ]
  },
  {
   "cell_type": "code",
   "execution_count": 37,
   "id": "a2b8a847-22a3-4b8d-8d22-03d8c17ec057",
   "metadata": {},
   "outputs": [
    {
     "name": "stdout",
     "output_type": "stream",
     "text": [
      "set()\n",
      "{56, 45, 78}\n",
      "{}\n"
     ]
    }
   ],
   "source": [
    "s=set()\n",
    "print(s)\n",
    "s=set([78,56,45,78])\n",
    "print(s)\n",
    "s={}\n",
    "print(s)"
   ]
  },
  {
   "cell_type": "code",
   "execution_count": 42,
   "id": "5a2c5f4c-79d7-4a66-9746-ca6cc5b5ebdd",
   "metadata": {},
   "outputs": [
    {
     "name": "stdout",
     "output_type": "stream",
     "text": [
      "{3}\n"
     ]
    }
   ],
   "source": [
    "my_set = {1, 2, 3}\n",
    "my_set.remove(1) # Removes 2 from the set\n",
    "my_set.discard(2) \n",
    "print(my_set)"
   ]
  },
  {
   "cell_type": "code",
   "execution_count": 46,
   "id": "4fbeca47-50a1-40b7-b8f7-0634dccff594",
   "metadata": {},
   "outputs": [
    {
     "name": "stdout",
     "output_type": "stream",
     "text": [
      "{1, 2, 3, 4, 5}\n",
      "{3}\n",
      "{1, 2}\n",
      "{1, 2, 4, 5}\n"
     ]
    }
   ],
   "source": [
    "set1 = {1, 2, 3}\n",
    "set2 = {3, 4, 5}\n",
    "print(set1.union(set2))\n",
    "print(set1.intersection(set2))\n",
    "print(set1.difference(set2))#set1-set2\n",
    "print(set1.symmetric_difference(set2) )"
   ]
  },
  {
   "cell_type": "code",
   "execution_count": 47,
   "id": "fe513b34-b9a1-4ac2-8870-be86b1957943",
   "metadata": {},
   "outputs": [
    {
     "name": "stdout",
     "output_type": "stream",
     "text": [
      "{'d', 'b'}\n"
     ]
    }
   ],
   "source": [
    "# Finding mutual friends between two sets of friends\n",
    "f1={'a','b','c','d'}\n",
    "f2={'d','b','e'}\n",
    "print(f1.intersection(f2))"
   ]
  },
  {
   "cell_type": "code",
   "execution_count": 3,
   "id": "07f1eefd-5ccd-4355-8bac-73e3e3020abb",
   "metadata": {},
   "outputs": [
    {
     "name": "stdout",
     "output_type": "stream",
     "text": [
      "{'name': 'Alice', 'age': 20, 'major': 'Computer Science'}\n",
      "{}\n",
      "{'name': 'amrutha', 'roll': 89}\n"
     ]
    }
   ],
   "source": [
    "#dictionary->mutable, unorder, access by key, key must be unique, K:v pair\n",
    "student = {\"name\": \"Alice\",\"age\": 20,\"major\": \"Computer Science\"}#json file\n",
    "d={}\n",
    "d1=dict([(\"name\",\"amrutha\"),(\"roll\",89)])\n",
    "print(student)\n",
    "print(d)\n",
    "print(d1)"
   ]
  },
  {
   "cell_type": "code",
   "execution_count": 4,
   "id": "5b59fc94-529a-4dc1-9c13-7d43c1bb7dc6",
   "metadata": {},
   "outputs": [
    {
     "name": "stdout",
     "output_type": "stream",
     "text": [
      "{'name': 'Alice', 'age': 20, 'major': 'Computer Science'}\n"
     ]
    }
   ],
   "source": [
    "student = dict(name=\"Alice\", age=20, major=\"Computer Science\")\n",
    "print(student)"
   ]
  },
  {
   "cell_type": "code",
   "execution_count": 6,
   "id": "64d1ba52-dede-4b31-809b-46422c8beedd",
   "metadata": {},
   "outputs": [
    {
     "name": "stdout",
     "output_type": "stream",
     "text": [
      "{'k1': 56, 'k2': 89}\n"
     ]
    }
   ],
   "source": [
    "def fun1(p1=0,p2=0):\n",
    "    return {'k1':p1, 'k2':p2}\n",
    "\n",
    "print(fun1(p1=56, p2=89))"
   ]
  },
  {
   "cell_type": "code",
   "execution_count": 19,
   "id": "76e939df-b6f7-4e56-823f-c3606a05f7ef",
   "metadata": {},
   "outputs": [
    {
     "name": "stdout",
     "output_type": "stream",
     "text": [
      "['name', 'age', 'major']\n",
      "['Alice', 20, 'Computer Science']\n",
      "[('name', 'Alice'), ('age', 20), ('major', 'Computer Science')]\n"
     ]
    }
   ],
   "source": [
    "print(list(student.keys()))\n",
    "print(list(student.values()))\n",
    "print(list(student.items()))"
   ]
  },
  {
   "cell_type": "code",
   "execution_count": 11,
   "id": "9c930be7-44df-4b23-8167-9d4ce05195c3",
   "metadata": {},
   "outputs": [
    {
     "name": "stdout",
     "output_type": "stream",
     "text": [
      "name\n",
      "age\n",
      "major\n"
     ]
    }
   ],
   "source": [
    "for x in student:\n",
    "    print(x)"
   ]
  },
  {
   "cell_type": "code",
   "execution_count": 18,
   "id": "8c7c779d-8d2e-495f-8e8b-a6610eae2a63",
   "metadata": {},
   "outputs": [
    {
     "name": "stdout",
     "output_type": "stream",
     "text": [
      "{'name': 'Alice', 'age': 20, 'major': 'Computer Science'}\n",
      "None\n",
      "78\n",
      "{'name': 'Alice', 'age': 20, 'major': 'Computer Science', 'rollno': 78}\n"
     ]
    }
   ],
   "source": [
    "s=student.copy()\n",
    "print(s)\n",
    "print(s.get('rollno'))#20\n",
    "print(s.setdefault('rollno', 78))\n",
    "print(s)"
   ]
  },
  {
   "cell_type": "code",
   "execution_count": 23,
   "id": "f1a8278f-1400-468a-b7bb-26a3b3732550",
   "metadata": {},
   "outputs": [
    {
     "name": "stdout",
     "output_type": "stream",
     "text": [
      "no key\n",
      "{'name': 'Alice', 'age': 20, 'major': 'Computer Science'}\n",
      "('major', 'Computer Science')\n",
      "{'name': 'Alice', 'age': 20}\n"
     ]
    }
   ],
   "source": [
    "print(s.pop('rollno', \"no key\"))\n",
    "print(s)\n",
    "print(s.popitem())\n",
    "print(s)"
   ]
  },
  {
   "cell_type": "code",
   "execution_count": 26,
   "id": "c7b6ee44-be2f-4e4b-9071-8161a0f7ec18",
   "metadata": {},
   "outputs": [
    {
     "name": "stdout",
     "output_type": "stream",
     "text": [
      "{'ep101': 't1', 'emp06': 't2', 'emp05': 't3'}\n"
     ]
    }
   ],
   "source": [
    "l1=[\"ep101\", \"emp06\", \"emp05\"]#{\"emp01:\"t1\", \"emp06\":\"t2\"}\n",
    "l2=[\"t1\",\"t2\",\"t3\"]\n",
    "d={}\n",
    "for x in range(0,3):\n",
    "    #d.setdefault(l1[x],l2[x])\n",
    "    d[l1[x]]=l2[x]\n",
    "\n",
    "print(d)\n",
    "    "
   ]
  },
  {
   "cell_type": "code",
   "execution_count": 40,
   "id": "a26b9b9c-9a2e-4dcb-94fb-94952a2f934b",
   "metadata": {},
   "outputs": [
    {
     "name": "stdout",
     "output_type": "stream",
     "text": [
      "this is our morning class.Good all of you\n",
      " this python open file example\n",
      " this is 3rd linethis is our morning class.\n",
      "['this', 'is', 'our', 'morning', 'all', 'of', 'this', 'python', 'open', 'file', 'this', 'is', '3rd', 'linethis', 'is', 'our', 'morning', 'class', 'Good', 'you', '', 'example', '', 'class', '']\n",
      "{'this': 3, 'is': 3, 'our': 2, 'morning': 2, 'all': 1, 'of': 1, 'python': 1, 'open': 1, 'file': 1, '3rd': 1, 'linethis': 1, 'class': 2, 'Good': 1, 'you': 1, 'example': 1}\n",
      "{'morning': 2, 'all': 1, 'python': 1, 'open': 1, 'file': 1, '3rd': 1, 'linethis': 1, 'class': 2, 'Good': 1, 'example': 1}\n"
     ]
    }
   ],
   "source": [
    "file=open('demo.txt','r')\n",
    "data=file.read()\n",
    "print(data)\n",
    "lw=data.split(\" \")\n",
    "for x in lw:\n",
    "    if '.' in x:\n",
    "        lw.extend(x.split('.'))\n",
    "        lw.remove(x)\n",
    "    if '\\n' in x:\n",
    "        lw.extend(x.split('\\n'))\n",
    "        lw.remove(x)\n",
    "print(lw)\n",
    "for x in lw:\n",
    "    if ''==x:\n",
    "        lw.remove(x)\n",
    "#{this:3, is:3}\n",
    "wcdict={}\n",
    "for word in lw:\n",
    "    wcdict[word]=lw.count(word)\n",
    "print(wcdict)\n",
    "nonword=['of', 'this', 'you', 'is', 'our']\n",
    "for nw in nonword:\n",
    "    wcdict.pop(nw, \"word not found\")\n",
    "print(wcdict)"
   ]
  },
  {
   "cell_type": "code",
   "execution_count": 43,
   "id": "10e2ba36-50f7-4a67-9fe2-ba0ad5e5161c",
   "metadata": {},
   "outputs": [
    {
     "name": "stdout",
     "output_type": "stream",
     "text": [
      "None\n",
      "{'name': 'Alice', 'age': 27, 'address': '123 Main St'}\n"
     ]
    }
   ],
   "source": [
    "my_dict = {\"name\": \"Alice\", \"age\": 25}\n",
    "print(my_dict.update({\"address\": \"123 Main St\", \"age\": 27}))\n",
    "print(my_dict)"
   ]
  },
  {
   "cell_type": "code",
   "execution_count": 45,
   "id": "bfd7ece9-306a-4894-b8cb-152a27633149",
   "metadata": {},
   "outputs": [
    {
     "name": "stdout",
     "output_type": "stream",
     "text": [
      "{'name': None, 'age': None, 'address': None}\n"
     ]
    }
   ],
   "source": [
    "keys = [\"name\", \"age\", \"address\"]\n",
    "default_value = \"Unknown\"\n",
    "new_dict = dict.fromkeys(keys)\n",
    "print(new_dict)"
   ]
  },
  {
   "cell_type": "code",
   "execution_count": 48,
   "id": "0233beaa-88d0-41bc-bf47-f730f98a9675",
   "metadata": {},
   "outputs": [
    {
     "name": "stdin",
     "output_type": "stream",
     "text": [
      "Enter the new item you want to add to the dictionary:  i1\n",
      "Enter the price for the new item:  89\n"
     ]
    },
    {
     "name": "stdout",
     "output_type": "stream",
     "text": [
      "Added i1 to the dictionary with a price of $89.00\n",
      "The available items are\n",
      "{'i1': 89.0}\n"
     ]
    },
    {
     "name": "stdin",
     "output_type": "stream",
     "text": [
      "do you wnat to add more yes\n",
      "Enter the new item you want to add to the dictionary:  i2\n",
      "Enter the price for the new item:  78\n"
     ]
    },
    {
     "name": "stdout",
     "output_type": "stream",
     "text": [
      "Added i2 to the dictionary with a price of $78.00\n",
      "The available items are\n",
      "{'i1': 89.0, 'i2': 78.0}\n"
     ]
    },
    {
     "name": "stdin",
     "output_type": "stream",
     "text": [
      "do you wnat to add more yes\n",
      "Enter the new item you want to add to the dictionary:  78\n",
      "Enter the price for the new item:  67\n"
     ]
    },
    {
     "name": "stdout",
     "output_type": "stream",
     "text": [
      "Added 78 to the dictionary with a price of $67.00\n",
      "The available items are\n",
      "{'i1': 89.0, 'i2': 78.0, '78': 67.0}\n"
     ]
    },
    {
     "name": "stdin",
     "output_type": "stream",
     "text": [
      "do you wnat to add more no\n",
      "Enter the item you want to remove from the dictionary:  78\n"
     ]
    },
    {
     "name": "stdout",
     "output_type": "stream",
     "text": [
      "The price of 78 is $67.00 removed successfully\n",
      "Updated Dictionary:\n",
      "{'i1': 89.0, 'i2': 78.0}\n",
      "Updated Dictionary:\n",
      "{'i1': 89.0, 'i2': 78.0}\n"
     ]
    }
   ],
   "source": [
    "item_prices = {}\n",
    "# Get user input for a new item and its price to add\n",
    "while(True):\n",
    "    new_item = input(\"Enter the new item you want to add to the dictionary: \")\n",
    "    new_price = float(input(\"Enter the price for the new item: \"))\n",
    "    # Use update() to add the new item and its price to the dictionary\n",
    "    item_prices.update({new_item: new_price})\n",
    "    print(f\"Added {new_item} to the dictionary with a price of ${new_price:.2f}\")\n",
    "    print(\"The available items are\")\n",
    "    print(item_prices)\n",
    "    choice = input(\"do you wnat to add more\")\n",
    "    if choice=='no':\n",
    "        break\n",
    "# Get user input for the item to remove\n",
    "item_to_remove = input(\"Enter the item you want to remove from the dictionary: \")\n",
    "# Use pop() to remove the item and get its price\n",
    "if item_to_remove in item_prices:\n",
    "    price = item_prices.pop(item_to_remove)\n",
    "    print(f\"The price of {item_to_remove} is ${price:.2f} removed successfully\")\n",
    "else:\n",
    "    print(f\"{item_to_remove} not found in the dictionary.\")\n",
    "# Print the updated dictionary after popping the item\n",
    "print(\"Updated Dictionary:\")\n",
    "print(item_prices)\n",
    "# Print the updated dictionary after adding the new item\n",
    "print(\"Updated Dictionary:\")\n",
    "print(item_prices)\n"
   ]
  },
  {
   "cell_type": "code",
   "execution_count": 3,
   "id": "7999adeb-da32-4111-8ef0-b018527e90c9",
   "metadata": {},
   "outputs": [
    {
     "name": "stdout",
     "output_type": "stream",
     "text": [
      "2\n"
     ]
    }
   ],
   "source": [
    "a = 5\n",
    "b = 2\n",
    "print(a // b)"
   ]
  },
  {
   "cell_type": "code",
   "execution_count": 5,
   "id": "8b346a57-a8ff-4371-8ef4-bc0d5c639f8f",
   "metadata": {},
   "outputs": [
    {
     "name": "stdout",
     "output_type": "stream",
     "text": [
      "n\n"
     ]
    }
   ],
   "source": [
    "s=\"Python\"\n",
    "print(s[-1])"
   ]
  },
  {
   "cell_type": "code",
   "execution_count": 6,
   "id": "e474774b-a287-4c83-9b8c-bdc25a59c96a",
   "metadata": {},
   "outputs": [
    {
     "name": "stdout",
     "output_type": "stream",
     "text": [
      "4\n"
     ]
    }
   ],
   "source": [
    "my_dict = {'a': 1, 'b': 2, 'c': 3}\n",
    "print(my_dict.get('d', 4))"
   ]
  },
  {
   "cell_type": "code",
   "execution_count": 7,
   "id": "9a1bd891-29bd-4055-a286-bc7bffead13c",
   "metadata": {},
   "outputs": [
    {
     "name": "stdout",
     "output_type": "stream",
     "text": [
      "yth\n"
     ]
    }
   ],
   "source": [
    "my_string = \"Python\"\n",
    "print(my_string[1:4])\n"
   ]
  },
  {
   "cell_type": "code",
   "execution_count": 9,
   "id": "fde31506-ea70-4b2f-9fe4-dbc700ac7796",
   "metadata": {},
   "outputs": [
    {
     "name": "stdout",
     "output_type": "stream",
     "text": [
      "[3, 2, 1]\n"
     ]
    }
   ],
   "source": [
    "my_list = [1, 2, 3, 4, 5]\n",
    "print(my_list[-3::)"
   ]
  },
  {
   "cell_type": "code",
   "execution_count": 10,
   "id": "e7d0d658-4e0d-4cec-a83f-209fba07aabe",
   "metadata": {},
   "outputs": [
    {
     "name": "stdout",
     "output_type": "stream",
     "text": [
      "y is greater than x\n"
     ]
    }
   ],
   "source": [
    "x = 10\n",
    "y = 20\n",
    "if x > y:\n",
    "    print(\"x is greater than y\")\n",
    "else:\n",
    "    print(\"y is greater than x\")\n"
   ]
  },
  {
   "cell_type": "code",
   "execution_count": 19,
   "id": "d0ee7aea-2e6b-43d4-b322-226c729a1f69",
   "metadata": {},
   "outputs": [
    {
     "name": "stdout",
     "output_type": "stream",
     "text": [
      "90\n",
      "89\n",
      "89\n"
     ]
    }
   ],
   "source": [
    "\n",
    "def add(a,b):\n",
    "    var=90#local varibal\n",
    "    print(var)\n",
    "    print(var2)\n",
    "    \n",
    "var2=89#global\n",
    "add(2,4)\n",
    "print(var2)"
   ]
  },
  {
   "cell_type": "code",
   "execution_count": 17,
   "id": "308152e6-7a32-4d50-a00e-07a38567931d",
   "metadata": {},
   "outputs": [
    {
     "name": "stdout",
     "output_type": "stream",
     "text": [
      "[3, 6, 9, 12, 15, 18, 21, 24, 27, 30]\n"
     ]
    }
   ],
   "source": [
    "l=[x for x in range(3, 31, 3)]\n",
    "print(l)"
   ]
  },
  {
   "cell_type": "code",
   "execution_count": 21,
   "id": "7e2f78c1-bb6a-447b-86ba-2c5f6c92d7ec",
   "metadata": {},
   "outputs": [
    {
     "name": "stdin",
     "output_type": "stream",
     "text": [
      "enter file name: ghg.java\n"
     ]
    },
    {
     "name": "stdout",
     "output_type": "stream",
     "text": [
      "java\n"
     ]
    }
   ],
   "source": [
    "file=input(\"enter file name:\")#p1.py\n",
    "l=file.split(\".\")#[p1, py]\n",
    "print(l[-1])"
   ]
  },
  {
   "cell_type": "code",
   "execution_count": 1,
   "id": "2281736d-f871-4067-9abc-cf1f5f89761a",
   "metadata": {},
   "outputs": [
    {
     "name": "stdout",
     "output_type": "stream",
     "text": [
      "[10 20 30 40 50 90]\n"
     ]
    }
   ],
   "source": [
    "import numpy as np\n",
    "a=np.array([10,20,30,40,50, 90.78], dtype=np.int_)\n",
    "print(a)"
   ]
  },
  {
   "cell_type": "code",
   "execution_count": 5,
   "id": "5ba0fd5a-62f8-48f0-9941-33952ee1d2ea",
   "metadata": {},
   "outputs": [
    {
     "ename": "ValueError",
     "evalue": "invalid literal for int() with base 10: 'hi'",
     "output_type": "error",
     "traceback": [
      "\u001b[1;31m---------------------------------------------------------------------------\u001b[0m",
      "\u001b[1;31mValueError\u001b[0m                                Traceback (most recent call last)",
      "Cell \u001b[1;32mIn[5], line 1\u001b[0m\n\u001b[1;32m----> 1\u001b[0m \u001b[38;5;28mprint\u001b[39m(\u001b[38;5;28;43mint\u001b[39;49m\u001b[43m(\u001b[49m\u001b[38;5;124;43m\"\u001b[39;49m\u001b[38;5;124;43mhi\u001b[39;49m\u001b[38;5;124;43m\"\u001b[39;49m\u001b[43m)\u001b[49m)\n",
      "\u001b[1;31mValueError\u001b[0m: invalid literal for int() with base 10: 'hi'"
     ]
    }
   ],
   "source": [
    "print(int(\"hi\"))"
   ]
  },
  {
   "cell_type": "code",
   "execution_count": 10,
   "id": "5bdf1938-ac79-4dde-92ae-a8d3dd39e8e4",
   "metadata": {},
   "outputs": [
    {
     "name": "stdout",
     "output_type": "stream",
     "text": [
      "4\n"
     ]
    },
    {
     "ename": "TypeError",
     "evalue": "can only concatenate str (not \"int\") to str",
     "output_type": "error",
     "traceback": [
      "\u001b[1;31m---------------------------------------------------------------------------\u001b[0m",
      "\u001b[1;31mTypeError\u001b[0m                                 Traceback (most recent call last)",
      "Cell \u001b[1;32mIn[10], line 2\u001b[0m\n\u001b[0;32m      1\u001b[0m \u001b[38;5;28mprint\u001b[39m(\u001b[38;5;28mstr\u001b[39m(\u001b[38;5;241m4\u001b[39m))\n\u001b[1;32m----> 2\u001b[0m \u001b[38;5;28;43mstr\u001b[39;49m\u001b[43m(\u001b[49m\u001b[38;5;241;43m4\u001b[39;49m\u001b[43m)\u001b[49m\u001b[38;5;241;43m+\u001b[39;49m\u001b[38;5;241;43m8\u001b[39;49m\n",
      "\u001b[1;31mTypeError\u001b[0m: can only concatenate str (not \"int\") to str"
     ]
    }
   ],
   "source": [
    "print(str(4))\n",
    "str(4)+8"
   ]
  },
  {
   "cell_type": "code",
   "execution_count": 18,
   "id": "ab68f5de-ec91-41a7-a51f-0268df657bb4",
   "metadata": {},
   "outputs": [
    {
     "name": "stdout",
     "output_type": "stream",
     "text": [
      "67\n",
      "<class 'numpy.ndarray'>\n",
      "0\n",
      "1\n",
      "2\n",
      "[[1 2 3 4]\n",
      " [5 6 7 8]]\n",
      "[[[1 2 3]\n",
      "  [4 5 6]]\n",
      "\n",
      " [[7 8 9]\n",
      "  [1 2 3]]]\n"
     ]
    }
   ],
   "source": [
    "a0=np.array(67)\n",
    "print(a0)\n",
    "print(type(a0))\n",
    "print(np.ndim(a0))\n",
    "print(np.ndim(a))\n",
    "a2=np.array([[1,2,3,4], [5,6,7,8]])\n",
    "print(np.ndim(a2))\n",
    "print(a2)\n",
    "d=np.array([[[1,2,3],[4,5,6]],[[7,8,9],[1,2,3]]])\n",
    "print(d)"
   ]
  },
  {
   "cell_type": "code",
   "execution_count": 6,
   "id": "55d41455-9366-4122-a7d3-5c12cdee616f",
   "metadata": {},
   "outputs": [
    {
     "name": "stdout",
     "output_type": "stream",
     "text": [
      "[15 16 17 18 19]\n"
     ]
    }
   ],
   "source": [
    "print(np.arange(15, 20, 1)) #0, 0.5, 1.0, 1.5#RANGE(start=0, end , step=1)"
   ]
  },
  {
   "cell_type": "code",
   "execution_count": 5,
   "id": "598c4980-9c5a-4245-8aaa-2e2818e916a5",
   "metadata": {},
   "outputs": [
    {
     "name": "stdout",
     "output_type": "stream",
     "text": [
      "[[1. 1. 1.]\n",
      " [1. 1. 1.]\n",
      " [1. 1. 1.]\n",
      " [1. 1. 1.]]\n"
     ]
    }
   ],
   "source": [
    "print(np.ones((4,3)))"
   ]
  },
  {
   "cell_type": "code",
   "execution_count": 4,
   "id": "f786c622-2d70-45cf-9eb5-164b2c8d202b",
   "metadata": {},
   "outputs": [
    {
     "name": "stdout",
     "output_type": "stream",
     "text": [
      "[[0. 0.]\n",
      " [0. 0.]]\n"
     ]
    }
   ],
   "source": [
    "print(np.zeros((2,2)))"
   ]
  },
  {
   "cell_type": "code",
   "execution_count": 11,
   "id": "d84b46d4-5320-42e4-8728-6f1b8e1e23ba",
   "metadata": {},
   "outputs": [
    {
     "name": "stdout",
     "output_type": "stream",
     "text": [
      "[[21  8 22]\n",
      " [30 21 37]]\n"
     ]
    }
   ],
   "source": [
    "print(np.random.randint(1,50,6).reshape(2,3))"
   ]
  },
  {
   "cell_type": "code",
   "execution_count": 12,
   "id": "b2db2611-c3fa-47c2-bfe3-85ae3da289fd",
   "metadata": {},
   "outputs": [
    {
     "name": "stdout",
     "output_type": "stream",
     "text": [
      "[0.53939706 0.2547378  0.86461265 0.33569049 0.71224074 0.5964126 ]\n"
     ]
    }
   ],
   "source": [
    "print(np.random.rand(6))"
   ]
  },
  {
   "cell_type": "code",
   "execution_count": 14,
   "id": "912de3f5-2a78-4e36-a68f-5d5881857af2",
   "metadata": {},
   "outputs": [
    {
     "name": "stdout",
     "output_type": "stream",
     "text": [
      "[[1. 0. 0. 0. 0. 0.]\n",
      " [0. 1. 0. 0. 0. 0.]\n",
      " [0. 0. 1. 0. 0. 0.]\n",
      " [0. 0. 0. 1. 0. 0.]\n",
      " [0. 0. 0. 0. 1. 0.]\n",
      " [0. 0. 0. 0. 0. 1.]]\n"
     ]
    }
   ],
   "source": [
    "print(np.eye(6))"
   ]
  },
  {
   "cell_type": "code",
   "execution_count": 17,
   "id": "f9af94c5-4989-4578-957d-affac121a37f",
   "metadata": {},
   "outputs": [
    {
     "name": "stdout",
     "output_type": "stream",
     "text": [
      "[[-0.24861833 -0.81718772]\n",
      " [-1.80237645 -0.91031367]]\n"
     ]
    }
   ],
   "source": [
    "print(np.random.randn(2,2))"
   ]
  },
  {
   "cell_type": "code",
   "execution_count": 18,
   "id": "c61b0968-49dc-4a48-8e4d-cfbeec3f70ee",
   "metadata": {},
   "outputs": [
    {
     "name": "stdout",
     "output_type": "stream",
     "text": [
      "[[1. 1. 1.]\n",
      " [1. 1. 1.]]\n"
     ]
    }
   ],
   "source": [
    "print(np.empty((2,3)))      "
   ]
  },
  {
   "cell_type": "code",
   "execution_count": 21,
   "id": "14b1de70-f1ae-44cf-8734-56598af3a30d",
   "metadata": {},
   "outputs": [
    {
     "name": "stdout",
     "output_type": "stream",
     "text": [
      "[[[1 1 1 1]\n",
      "  [1 1 1 1]\n",
      "  [1 1 1 1]]\n",
      "\n",
      " [[1 1 1 1]\n",
      "  [1 1 1 1]\n",
      "  [1 1 1 1]]\n",
      "\n",
      " [[1 1 1 1]\n",
      "  [1 1 1 1]\n",
      "  [1 1 1 1]]]\n"
     ]
    }
   ],
   "source": [
    "print(np.ones((3,3,4), dtype=np.int16))       "
   ]
  },
  {
   "cell_type": "code",
   "execution_count": 24,
   "id": "a41940db-afd0-4426-a465-31e90ba08d85",
   "metadata": {},
   "outputs": [
    {
     "name": "stdout",
     "output_type": "stream",
     "text": [
      "[  0   1   8  27  64 125 216 343 512]\n",
      "125\n",
      "125\n",
      "[  1  27 125 343]\n"
     ]
    }
   ],
   "source": [
    "a = np.arange(9)**3\n",
    "print(a)\n",
    "print(a[5])#125\n",
    "print(a[-4])#125\n",
    "print(a[1:8:2])#1,27,125, 343, "
   ]
  },
  {
   "cell_type": "code",
   "execution_count": 25,
   "id": "57bbbfe6-1423-4083-819e-02a6e6aba039",
   "metadata": {},
   "outputs": [],
   "source": [
    "a2=np.random.randint(1,100,12).reshape(3,4)"
   ]
  },
  {
   "cell_type": "code",
   "execution_count": 27,
   "id": "68cdff17-b7b8-4c7c-a9d6-33f9a6409691",
   "metadata": {},
   "outputs": [
    {
     "name": "stdout",
     "output_type": "stream",
     "text": [
      "[[25 58 24 70]\n",
      " [29 86 31 67]\n",
      " [85 76 31  8]]\n",
      "[85 76 31  8]\n",
      "[25 58 24 70]\n",
      "[[25 58 24 70]\n",
      " [29 86 31 67]\n",
      " [85 76 31  8]]\n"
     ]
    }
   ],
   "source": [
    "print(a2)\n",
    "print(a2[2])#85 76 31  8\n",
    "print(a2[-3])#[25 58 24 70]\n",
    "print(a2[0:3:1])#"
   ]
  },
  {
   "cell_type": "code",
   "execution_count": 28,
   "id": "ed735a81-8ca4-4cd5-9489-2a2828fcf735",
   "metadata": {},
   "outputs": [
    {
     "name": "stdout",
     "output_type": "stream",
     "text": [
      "[[25 58 24 70]\n",
      " [29 86 31 67]\n",
      " [85 76 31  8]]\n",
      "8\n",
      "24\n",
      "[[58 24 70]\n",
      " [86 31 67]\n",
      " [76 31  8]]\n"
     ]
    }
   ],
   "source": [
    "print(a2)\n",
    "print(a2[2, 3])#8\n",
    "print(a2[-3, 2])#24\n",
    "print(a2[0:3:1, 1:4:1])#"
   ]
  },
  {
   "cell_type": "code",
   "execution_count": 29,
   "id": "02e4158e-1ce6-4cb5-9112-93845cd08a1e",
   "metadata": {},
   "outputs": [
    {
     "name": "stdout",
     "output_type": "stream",
     "text": [
      "[58 70 86 67 85 76]\n"
     ]
    }
   ],
   "source": [
    "print(a2[a2>50])"
   ]
  },
  {
   "cell_type": "code",
   "execution_count": 30,
   "id": "e7e60372-d5f3-4feb-8251-341f3e71727a",
   "metadata": {},
   "outputs": [
    {
     "name": "stdout",
     "output_type": "stream",
     "text": [
      "[[25 58 24 70]\n",
      " [29 86 31 67]\n",
      " [85 76 31  8]]\n",
      "[[ 25  58  24  70]\n",
      " [ 29  86  31  67]\n",
      " [ 85  76  31 100]]\n",
      "[[ 25  58  24  70]\n",
      " [ 29  86  31  67]\n",
      " [ 85  76  31 100]]\n",
      "[[ 25  58  24  70]\n",
      " [ 29  86  31  67]\n",
      " [ 85  76  31 100]]\n"
     ]
    }
   ],
   "source": [
    "a3=a2.copy()\n",
    "a3[2,3]=100\n",
    "print(a2)\n",
    "print(a3)\n",
    "a4=a2\n",
    "a4[2,3]=100\n",
    "print(a2)\n",
    "print(a4)"
   ]
  },
  {
   "cell_type": "code",
   "execution_count": 31,
   "id": "02fda06f-2deb-409b-92db-93f61038932d",
   "metadata": {},
   "outputs": [
    {
     "name": "stdout",
     "output_type": "stream",
     "text": [
      "Temperatures for the first day: [74 56 73 86 68 79 96 50 97 92 88 72 60 69 58 82 99 60 96 87 75 91 82 86]\n",
      "Temperatures for the third day from hour 5 to hour 10: [65 69 51 98 85 94]\n",
      "Reshaped temperature data: [[74 56 73 86 68 79 96 50 97 92 88 72 60 69 58 82 99 60 96 87 75 91 82 86]\n",
      " [55 57 72 74 71 69 63 59 90 72 68 63 88 98 57 54 86 95 67 84 83 51 64 96]\n",
      " [90 69 92 73 81 65 69 51 98 85 94 52 93 88 59 90 60 89 61 84 85 76 95 80]\n",
      " [62 99 52 95 72 71 99 73 83 71 50 64 89 65 95 91 93 91 76 72 58 90 75 92]\n",
      " [64 56 97 79 94 75 96 71 85 51 65 83 61 59 88 53 94 58 74 78 73 57 73 96]\n",
      " [70 79 55 89 86 67 51 65 95 76 68 89 68 57 92 50 64 50 50 86 78 60 94 92]\n",
      " [93 54 68 99 53 80 67 51 73 65 99 94 56 74 67 58 88 92 70 69 99 64 85 68]]\n",
      "Mean temperature for each day: [78.16666667 72.33333333 78.29166667 78.25       74.16666667 72.125\n",
      " 74.41666667]\n",
      "Maximum temperature for the week: 99\n",
      "Minimum temperature for the week: 50\n"
     ]
    }
   ],
   "source": [
    "temperature_data = np.random.randint(50, 100, size=(7, 24)) \n",
    "first_day_temperatures = temperature_data[0, :]\n",
    "print(\"Temperatures for the first day:\", first_day_temperatures)\n",
    "\n",
    "# Extract temperature data for the third day, from hour 5 to hour 10\n",
    "third_day_temperatures = temperature_data[2, 5:11]\n",
    "print(\"Temperatures for the third day from hour 5 to hour 10:\", third_day_temperatures)\n",
    "\n",
    "# Shaping and reshaping\n",
    "# Reshape the temperature data to have 7 rows and 24 columns\n",
    "reshaped_temperatures = temperature_data.reshape(7, 24)\n",
    "print(\"Reshaped temperature data:\", reshaped_temperatures)\n",
    "\n",
    "# Calculating statistics\n",
    "# Mean temperature for each day\n",
    "mean_temperature_per_day = np.mean(temperature_data, axis=1)\n",
    "print(\"Mean temperature for each day:\", mean_temperature_per_day)\n",
    "\n",
    "# Maximum temperature for the entire week\n",
    "max_temperature = np.max(temperature_data)\n",
    "print(\"Maximum temperature for the week:\", max_temperature)\n",
    "\n",
    "# Minimum temperature for the entire week\n",
    "min_temperature = np.min(temperature_data)\n",
    "print(\"Minimum temperature for the week:\", min_temperature)"
   ]
  },
  {
   "cell_type": "code",
   "execution_count": 11,
   "id": "09b0fa93-d9c8-42ce-8936-d83a0bf1c3a7",
   "metadata": {},
   "outputs": [
    {
     "name": "stdout",
     "output_type": "stream",
     "text": [
      "[[1 1]\n",
      " [0 1]]\n",
      "[[2 0]\n",
      " [3 4]]\n",
      "addition  [[3 1]\n",
      " [3 5]]\n",
      "addition  [[-1  1]\n",
      " [-3 -3]]\n",
      "addition  [[2 0]\n",
      " [0 4]]\n",
      "[[5 4]\n",
      " [3 4]]\n",
      "[[1 0]\n",
      " [1 1]]\n",
      "[1 1 0 1]\n",
      "[2 0 7 3 4 9]\n",
      "[[ True  True]\n",
      " [False False]]\n",
      "[2 0]\n"
     ]
    }
   ],
   "source": [
    "import numpy as np\n",
    "A = np.array([[1,1],[0,1]])\n",
    "B = np.array([[2,0],[3,4]])\n",
    "c = np.array([[2,0, 7],[3,4,9]])\n",
    "print(A)\n",
    "print(B)\n",
    "print(\"addition \" ,A+B)\n",
    "print(\"addition \" ,A-B)\n",
    "print(\"addition \" ,A*B)#element wise multiplication\n",
    "print(np.dot(A,B))\n",
    "print(A.T)\n",
    "print(A.flatten())\n",
    "print(c.flatten())\n",
    "print(B < 3 )\n",
    "print(B[B < 3] )#filter"
   ]
  },
  {
   "cell_type": "code",
   "execution_count": 18,
   "id": "52caed2a-7a2c-4c8a-8aaf-5842998650ff",
   "metadata": {},
   "outputs": [
    {
     "name": "stdout",
     "output_type": "stream",
     "text": [
      "[1 2]\n",
      "[2 1]\n",
      "[[1 1]\n",
      " [0 1]]\n",
      "[[2 0]\n",
      " [3 4]]\n",
      "[[1 2]\n",
      " [0 1]]\n",
      "[[2 2]\n",
      " [3 7]]\n"
     ]
    }
   ],
   "source": [
    "print(A.sum(axis=0))\n",
    "print(A.sum(axis=1))\n",
    "print(A)\n",
    "print(B)\n",
    "print(A.cumsum(axis=1))\n",
    "print(B.cumsum(axis=1))"
   ]
  },
  {
   "cell_type": "code",
   "execution_count": 21,
   "id": "333d427c-3f48-4af4-98e8-7ee6d96f47a5",
   "metadata": {},
   "outputs": [
    {
     "name": "stdout",
     "output_type": "stream",
     "text": [
      "[3 4]\n",
      "[2 4]\n"
     ]
    }
   ],
   "source": [
    "print(B.max(axis=0))#[3, 4]\n",
    "print(B.max(axis=1))#[2, 4]"
   ]
  },
  {
   "cell_type": "code",
   "execution_count": 23,
   "id": "f31fdada-8467-4ed1-a6ae-1d485bea1978",
   "metadata": {},
   "outputs": [
    {
     "name": "stdout",
     "output_type": "stream",
     "text": [
      "[[2.71828183 2.71828183]\n",
      " [1.         2.71828183]]\n",
      "[[1.41421356 0.        ]\n",
      " [1.73205081 2.        ]]\n"
     ]
    }
   ],
   "source": [
    "print(np.exp(A))#e\n",
    "print(np.sqrt(B))#e"
   ]
  },
  {
   "cell_type": "code",
   "execution_count": 25,
   "id": "fbe3c21d-4a52-4661-a419-ff393d144de8",
   "metadata": {},
   "outputs": [
    {
     "name": "stdout",
     "output_type": "stream",
     "text": [
      "1\n",
      "3\n"
     ]
    }
   ],
   "source": [
    "print(B.argmin())\n",
    "print(B.argmax())"
   ]
  },
  {
   "cell_type": "code",
   "execution_count": 29,
   "id": "c65cc91a-5ba5-463b-89f7-562e7616a3ab",
   "metadata": {},
   "outputs": [
    {
     "name": "stdout",
     "output_type": "stream",
     "text": [
      "(array([0, 2], dtype=int64),)\n"
     ]
    }
   ],
   "source": [
    "c = np.array([12,0, 73,4,9])\n",
    "print(np.where(c>10))"
   ]
  },
  {
   "cell_type": "code",
   "execution_count": 32,
   "id": "b105596a-1f5b-4640-bfeb-194ec6b02abf",
   "metadata": {},
   "outputs": [
    {
     "name": "stdout",
     "output_type": "stream",
     "text": [
      "[[2 3]\n",
      " [0 4]]\n"
     ]
    }
   ],
   "source": [
    "print(B.transpose())"
   ]
  },
  {
   "cell_type": "code",
   "execution_count": 37,
   "id": "7ed84ed0-1c7e-4169-96bf-69d7bbed471c",
   "metadata": {},
   "outputs": [
    {
     "name": "stdout",
     "output_type": "stream",
     "text": [
      "[[2 0]\n",
      " [3 4]]\n",
      "2.25\n",
      "[2.5 2. ]\n",
      "[1.  3.5]\n"
     ]
    }
   ],
   "source": [
    "print(B)\n",
    "print(B.mean())\n",
    "print(B.mean(axis=0))\n",
    "print(B.mean(axis=1))"
   ]
  },
  {
   "cell_type": "code",
   "execution_count": 38,
   "id": "f966e0db-9caf-413e-910f-6f3122d4cbcd",
   "metadata": {},
   "outputs": [
    {
     "name": "stdout",
     "output_type": "stream",
     "text": [
      "Index to insert 6: 3\n"
     ]
    }
   ],
   "source": [
    "sorted_array = np.array([1, 3, 5, 7, 9])\n",
    "# Find the index where 6 should be inserted to maintain the sorted order\n",
    "index = np.searchsorted(sorted_array, 6)\n",
    "print(\"Index to insert 6:\", index)"
   ]
  },
  {
   "cell_type": "code",
   "execution_count": 4,
   "id": "7486a1cc-1c76-49fc-a24a-9dd7f76c5fce",
   "metadata": {},
   "outputs": [
    {
     "name": "stdout",
     "output_type": "stream",
     "text": [
      "Elements greater than 3: [2 4 6]\n"
     ]
    }
   ],
   "source": [
    "arr = np.array([1, 2, 3, 4, 5, 6])\n",
    "# Extract elements greater than 3\n",
    "extracted_elements = np.extract(arr%2==0, arr)\n",
    "print(\"Elements greater than 3:\", extracted_elements)"
   ]
  },
  {
   "cell_type": "code",
   "execution_count": 50,
   "id": "23ef3149-0ff9-4200-8de7-037ef440f8d6",
   "metadata": {},
   "outputs": [
    {
     "name": "stdout",
     "output_type": "stream",
     "text": [
      "['py', 'hon']\n",
      "nohtyp\n"
     ]
    }
   ],
   "source": [
    "print(\"python\".split(\"t\"))\n",
    "print(\"python\"[::-1])"
   ]
  },
  {
   "cell_type": "code",
   "execution_count": 5,
   "id": "17ef6b2c-f376-4e39-994a-16b0d67dea93",
   "metadata": {},
   "outputs": [
    {
     "name": "stdout",
     "output_type": "stream",
     "text": [
      "[array([1, 2, 3]), array([4]), array([5, 6])]\n"
     ]
    }
   ],
   "source": [
    "import numpy as np\n",
    "print(np.split(arr, [3,4]))"
   ]
  },
  {
   "cell_type": "code",
   "execution_count": 49,
   "id": "4fd4ab5c-1dda-451d-8f36-e1740990542f",
   "metadata": {},
   "outputs": [
    {
     "name": "stdout",
     "output_type": "stream",
     "text": [
      "Sorted array (ascending): [5 4 3 2 1]\n",
      "[3 1 2 4 5]\n"
     ]
    }
   ],
   "source": [
    "arr = np.array([3, 1, 2, 4, 5])\n",
    "# Sort the array in ascending order (creates a new sorted array)\n",
    "sorted_arr = np.sort(arr)\n",
    "# Print the sorted array\n",
    "print(\"Sorted array (ascending):\", sorted_arr[::-1])\n",
    "print(arr)"
   ]
  },
  {
   "cell_type": "code",
   "execution_count": 51,
   "id": "38262946-cd86-4b2c-a86d-3cb3a058ac43",
   "metadata": {},
   "outputs": [
    {
     "name": "stdout",
     "output_type": "stream",
     "text": [
      "None\n",
      "[1 2 3 4 5]\n"
     ]
    }
   ],
   "source": [
    "print(arr.sort())\n",
    "print(arr)"
   ]
  },
  {
   "cell_type": "code",
   "execution_count": 53,
   "id": "b47defec-c95b-4ba8-98cd-b37383d37ee0",
   "metadata": {},
   "outputs": [
    {
     "name": "stdout",
     "output_type": "stream",
     "text": [
      "Sorted matrix (ascending along rows):\n",
      "[[3 0 2]\n",
      " [6 1 4]]\n"
     ]
    }
   ],
   "source": [
    "matrix = np.array([[3, 1, 2],\n",
    "[6, 0, 4]])\n",
    "# Sort along rows (axis=1) in ascending order\n",
    "sorted_matrix = np.sort(matrix, axis=0)\n",
    "# Print the sorted matrix\n",
    "print(\"Sorted matrix (ascending along rows):\")\n",
    "print(sorted_matrix)"
   ]
  },
  {
   "cell_type": "code",
   "execution_count": 54,
   "id": "74c88e1f-82cc-49b9-815f-e00efc51b202",
   "metadata": {},
   "outputs": [
    {
     "name": "stdout",
     "output_type": "stream",
     "text": [
      "[[1 2]\n",
      " [3 4]\n",
      " [5 6]]\n"
     ]
    }
   ],
   "source": [
    "arr1 = np.array([[1, 2], [3, 4]])\n",
    "arr2 = np.array([[5, 6]])\n",
    "# Concatenate arr1 and arr2 along rows (vertical)\n",
    "result = np.concatenate((arr1, arr2), axis=0)\n",
    "# Print the concatenated array\n",
    "print(result)\n"
   ]
  },
  {
   "cell_type": "code",
   "execution_count": 57,
   "id": "804cd9a1-78ca-4e0d-9bc9-638a30dee77b",
   "metadata": {},
   "outputs": [
    {
     "name": "stdout",
     "output_type": "stream",
     "text": [
      "[[1 2 5]\n",
      " [3 4 6]]\n"
     ]
    }
   ],
   "source": [
    "arr1 = np.array([[1, 2], [3, 4]])\n",
    "arr2 = np.array([[5],[ 6]])\n",
    "# Concatenate arr1 and arr2 along rows (vertical)\n",
    "result = np.concatenate((arr1, arr2), axis=1)\n",
    "# Print the concatenated array\n",
    "print(result)\n"
   ]
  },
  {
   "cell_type": "code",
   "execution_count": 58,
   "id": "83e902f4-dfeb-4ddd-b862-f54e1ac4a33b",
   "metadata": {},
   "outputs": [
    {
     "name": "stdout",
     "output_type": "stream",
     "text": [
      "[[1 2 3]\n",
      " [4 5 6]]\n"
     ]
    }
   ],
   "source": [
    "arr1 = np.array([1, 2, 3])\n",
    "arr2 = np.array([4, 5, 6])\n",
    "# Stack arr1 and arr2 vertically\n",
    "result = np.vstack((arr1, arr2))\n",
    "# Print the vertically stacked array\n",
    "print(result)"
   ]
  },
  {
   "cell_type": "code",
   "execution_count": 59,
   "id": "55264e82-b7f3-4536-8791-3b55a16d61e2",
   "metadata": {},
   "outputs": [
    {
     "name": "stdout",
     "output_type": "stream",
     "text": [
      "[1 2 3 4 5 6]\n"
     ]
    }
   ],
   "source": [
    "arr1 = np.array([1, 2, 3])\n",
    "arr2 = np.array([4, 5, 6])\n",
    "# Stack arr1 and arr2 vertically\n",
    "result = np.hstack((arr1, arr2))\n",
    "# Print the vertically stacked array\n",
    "print(result)"
   ]
  },
  {
   "cell_type": "code",
   "execution_count": 60,
   "id": "f8d280f1-cec5-4962-909d-77998815fc99",
   "metadata": {},
   "outputs": [
    {
     "name": "stdout",
     "output_type": "stream",
     "text": [
      "[[1 2]\n",
      " [3 4]\n",
      " [5 6]\n",
      " [7 8]]\n"
     ]
    }
   ],
   "source": [
    "data = np.array([[1, 2], [3, 4], [5, 6], [7, 8]])\n",
    "print(data)"
   ]
  },
  {
   "cell_type": "code",
   "execution_count": 61,
   "id": "c7d499d2-3d59-4b09-8cc4-565753dd08b1",
   "metadata": {},
   "outputs": [
    {
     "name": "stdout",
     "output_type": "stream",
     "text": [
      "Top-selling products:\n",
      "[[104 900]\n",
      " [102 750]\n",
      " [105 600]\n",
      " [101 500]\n",
      " [103 350]]\n"
     ]
    }
   ],
   "source": [
    "sales_data = np.array([[101, 500], [102, 750], [103, 350], [104, 900], [105, 600]])\n",
    "# Sort the sales data by sales amount in descending order\n",
    "sorted_sales_data = sales_data[sales_data[:, 1].argsort()[::-1]]\n",
    "print(\"Top-selling products:\")\n",
    "print(sorted_sales_data)"
   ]
  },
  {
   "cell_type": "code",
   "execution_count": 64,
   "id": "f7509937-4b70-41a8-9249-f8cc3321270d",
   "metadata": {},
   "outputs": [
    {
     "name": "stdout",
     "output_type": "stream",
     "text": [
      "Customer Data:\n",
      "[['Alice' 'alice@example.com']\n",
      " ['Bob' 'bob@example.com']\n",
      " ['Charlie' 'charlie@example.com']\n",
      " ['David' 'david@example.com']]\n"
     ]
    }
   ],
   "source": [
    "names = np.array(['Alice', 'Bob', 'Charlie', 'David'])\n",
    "emails = np.array(['alice@example.com', 'bob@example.com', 'charlie@example.com',\n",
    "'david@example.com'])\n",
    "# Join names and email addresses horizontally\n",
    "customer_data = np.vstack((names, emails)).T\n",
    "print(\"Customer Data:\")\n",
    "print(customer_data)"
   ]
  },
  {
   "cell_type": "code",
   "execution_count": 7,
   "id": "1234048a-dcd7-4952-affe-2de5f7b34a83",
   "metadata": {},
   "outputs": [
    {
     "name": "stdout",
     "output_type": "stream",
     "text": [
      "Class A Score Average 90.0\n",
      "Class B Score Average 86.0\n",
      "Class A Score std 3.40587727318528\n",
      "Class B Score std 10.677078252031311\n"
     ]
    }
   ],
   "source": [
    "classA= np.array([85, 88, 90, 92, 95])\n",
    "# Score of Class A students\n",
    "classB= np.array([70, 80, 85, 95, 100])\n",
    "classA_mean=np.mean(classA)\n",
    "classB_mean=np.mean(classB)\n",
    "print('Class A Score Average',classA_mean )\n",
    "print('Class B Score Average',classB_mean )\n",
    "print('Class A Score std',np.std(classA) )\n",
    "print('Class B Score std',np.std(classB))"
   ]
  },
  {
   "cell_type": "code",
   "execution_count": 8,
   "id": "214639ae-ce73-4b18-86b0-02f6af683e91",
   "metadata": {},
   "outputs": [
    {
     "data": {
      "image/png": "[encoded data removed]",
      "text/plain": [
       "<Figure size 640x480 with 1 Axes>"
      ]
     },
     "metadata": {},
     "output_type": "display_data"
    }
   ],
   "source": [
    "test_scores = np.array([65, 75, 80, 85, 90, 92, 94, 95, 96, 98, 100, 102, 104, 106, 108,\n",
    "110, 112, 114, 116, 118, 120, 122, 124, 126, 128, 130, 132, 134, 136, 138])\n",
    "import matplotlib.pyplot as plt\n",
    "plt.hist(test_scores)\n",
    "plt.show()"
   ]
  },
  {
   "cell_type": "code",
   "execution_count": 11,
   "id": "bf1ee8c9-4c13-4ad6-9b0e-7b318ad368b5",
   "metadata": {},
   "outputs": [
    {
     "name": "stdout",
     "output_type": "stream",
     "text": [
      "138.0\n"
     ]
    }
   ],
   "source": [
    "print(np.percentile(test_scores, 100))"
   ]
  },
  {
   "cell_type": "code",
   "execution_count": 12,
   "id": "3a2decf6-5cce-4cd8-876c-96aa27e3b29d",
   "metadata": {},
   "outputs": [
    {
     "name": "stdout",
     "output_type": "stream",
     "text": [
      "Original Scores: [85 92 78 88 95 72 89]\n",
      "Loaded Scores: [85 92 78 88 95 72 89]\n"
     ]
    }
   ],
   "source": [
    "scores = np.array([85, 92, 78, 88, 95, 72, 89])\n",
    "# Save the scores to a file\n",
    "np.save('student_scores.npy', scores)\n",
    "# Load the scores from the file\n",
    "loaded_scores = np.load('student_scores.npy')\n",
    "print(\"Original Scores:\", scores)\n",
    "print(\"Loaded Scores:\", loaded_scores)"
   ]
  },
  {
   "cell_type": "code",
   "execution_count": 14,
   "id": "afca6706-b1c4-482b-993c-5390a5993236",
   "metadata": {},
   "outputs": [
    {
     "name": "stdout",
     "output_type": "stream",
     "text": [
      "Original Scores: [85 92 78 88 95 72 89]\n",
      "Loaded Scores: [85. 92. 78. 88. 95. 72. 89.]\n"
     ]
    }
   ],
   "source": [
    "scores = np.array([85, 92, 78, 88, 95, 72, 89])\n",
    "# Save the scores to a file\n",
    "np.savetxt('student_scores.txt', scores)\n",
    "# Load the scores from the file\n",
    "loaded_scores = np.loadtxt('student_scores.txt')\n",
    "print(\"Original Scores:\", scores)\n",
    "print(\"Loaded Scores:\", loaded_scores)"
   ]
  },
  {
   "cell_type": "code",
   "execution_count": 16,
   "id": "b13639e0-afb8-4ab9-8cd5-6149362fcdb0",
   "metadata": {},
   "outputs": [
    {
     "name": "stdout",
     "output_type": "stream",
     "text": [
      "36.857142857142854 35.0 15.26530612244898 3.907084094622098\n"
     ]
    }
   ],
   "source": [
    "temp=np.array([31, 34, 35, 42, 42, 39, 35])#e mean, median, variance and standard deviation \n",
    "print(np.mean(temp), np.median(temp), np.var(temp), np.std(temp)) "
   ]
  },
  {
   "cell_type": "code",
   "execution_count": 22,
   "id": "8b9ffaf1-cae1-4f63-908a-96e45b9a1c0f",
   "metadata": {},
   "outputs": [
    {
     "name": "stdout",
     "output_type": "stream",
     "text": [
      "[False  True  True False  True False False]\n",
      "[ True False  True False False  True  True]\n",
      "[False False  True False False False False]\n"
     ]
    }
   ],
   "source": [
    "temperature = np.array([28, 32, 31, 29, 35, 26, 30])\n",
    "rainfall = np.array([5, 0, 10, 0, 0, 8, 15])\n",
    "t=temperature>30\n",
    "r=rainfall>0\n",
    "print(t)\n",
    "print(r)\n",
    "print(t & r)"
   ]
  },
  {
   "cell_type": "code",
   "execution_count": 6,
   "id": "7ed44fe6-8919-4fb9-802e-d8a07ee00856",
   "metadata": {},
   "outputs": [
    {
     "data": {
      "image/png": "[encoded data removed]",
      "text/plain": [
       "<Figure size 640x480 with 1 Axes>"
      ]
     },
     "metadata": {},
     "output_type": "display_data"
    }
   ],
   "source": [
    "import matplotlib.pyplot as plt\n",
    "x=[1,2,3,4,5]\n",
    "sale=[500, 700, 11000, 1500, 2100]\n",
    "plt.bar(x,sale)\n",
    "plt.xlabel(\"years\")\n",
    "plt.ylabel(\"sale\")\n",
    "plt.title(\"year vs sale analysis\")\n",
    "plt.show()"
   ]
  },
  {
   "cell_type": "code",
   "execution_count": 29,
   "id": "f0b90f95-535c-423f-b475-f0e223910111",
   "metadata": {},
   "outputs": [
    {
     "data": {
      "image/png": "[encoded data removed]",
      "text/plain": [
       "<Figure size 640x480 with 1 Axes>"
      ]
     },
     "metadata": {},
     "output_type": "display_data"
    }
   ],
   "source": [
    "import matplotlib.pyplot as plt\n",
    "months=[1,2,3,4,5,6]\n",
    "sales=[1000, 1500, 200, 2500, 3000,3500 ]\n",
    "try:\n",
    "    plt.plot(months,sales, 'bo-.')\n",
    "    plt.xlabel('MOnths')\n",
    "    plt.ylabel('Sale')\n",
    "    plt.xlim(1,5)\n",
    "    plt.grid(True)\n",
    "    plt.title('Analysis sale over months')\n",
    "    plt.show()\n",
    "except:\n",
    "    print(\"dimension should be same\")"
   ]
  },
  {
   "cell_type": "code",
   "execution_count": 19,
   "id": "fe732a9c-afbb-4e8e-af6f-1618e96e8a10",
   "metadata": {},
   "outputs": [
    {
     "data": {
      "image/png": "[encoded data removed]",
      "text/plain": [
       "<Figure size 640x480 with 1 Axes>"
      ]
     },
     "metadata": {},
     "output_type": "display_data"
    }
   ],
   "source": [
    "import numpy as np\n",
    "genres = np.array([\"Mystery\", \"Romance\", \"Science Fiction\", \"Fantasy\", \"Thriller\"])\n",
    "books_sold = np.array([120, 90, 80, 110, 70])\n",
    "plt.barh(genres, books_sold, color='lightblue')\n",
    "plt.show()"
   ]
  },
  {
   "cell_type": "code",
   "execution_count": 20,
   "id": "3f234e5e-300b-4029-8bbb-1f8f458ca0d7",
   "metadata": {},
   "outputs": [
    {
     "data": {
      "image/png": "[encoded data removed]",
      "text/plain": [
       "<Figure size 640x480 with 1 Axes>"
      ]
     },
     "metadata": {},
     "output_type": "display_data"
    }
   ],
   "source": [
    "age_groups = [\"0-10\", \"11-20\", \"21-30\", \"31-40\", \"41-50\", \"51-60\", \"61-70\", \"71+\"]\n",
    "population = [15000, 22000, 30000, 28000, 25000, 18000, 12000, 8000]\n",
    "plt.barh(age_groups, population, color='lightblue')\n",
    "plt.show()"
   ]
  },
  {
   "cell_type": "code",
   "execution_count": 9,
   "id": "c9a302bf-776c-41e7-91f4-63db13d40d60",
   "metadata": {},
   "outputs": [
    {
     "data": {
      "image/png": "[encoded data removed]",
      "text/plain": [
       "<Figure size 640x480 with 1 Axes>"
      ]
     },
     "metadata": {},
     "output_type": "display_data"
    }
   ],
   "source": [
    "ages = [1, 1, 2, 3, 3, 5, 7, 8, 9, 10,\n",
    "10, 11, 11, 13, 13, 15, 16, 17, 18, 18,\n",
    "18, 19, 20, 21, 21, 23, 24, 24, 25, 25,\n",
    "25, 25, 26, 26, 26, 27, 27, 27, 27, 27,\n",
    "29, 30, 30, 31, 33, 34, 34, 34, 35, 36,\n",
    "36, 37, 37, 38, 38, 39, 40, 41, 41, 42,\n",
    "43, 44, 45, 45, 46, 47, 48, 48, 49, 50,\n",
    "51, 52, 53, 54, 55, 55, 56, 57, 58, 60,\n",
    "61, 63, 64, 65, 66, 68, 70, 71, 72, 74,\n",
    "75, 77, 81, 83, 84, 87, 89, 90, 90, 91]\n",
    "b=[0,10,20,30,40,50,60,70,80,90, 100]\n",
    "plt.hist(ages, bins=b,  edgecolor='k')\n",
    "plt.show()"
   ]
  },
  {
   "cell_type": "code",
   "execution_count": 4,
   "id": "a129161a-32a8-4061-bb1d-85b5ec2f010c",
   "metadata": {},
   "outputs": [
    {
     "name": "stdout",
     "output_type": "stream",
     "text": [
      "67\n"
     ]
    }
   ],
   "source": [
    "age =34\n",
    "PI=3.14\n",
    "s=\"hello\"\n",
    "#identifers name var, function, object, class name, \n",
    "#keywords reserved words eg if, else elif, break continue, class\n",
    "#indententation tab sapce\n",
    "#datatypes(int, float, string, boolean, complex, list, tuple, dict, map, set)\n",
    "ag7e=67\n",
    "print(_age)\n",
    "\n",
    "\n",
    "\n",
    "    "
   ]
  },
  {
   "cell_type": "code",
   "execution_count": 5,
   "id": "370238f4-74b0-44a4-9d44-9350b0ece066",
   "metadata": {},
   "outputs": [
    {
     "name": "stdout",
     "output_type": "stream",
     "text": [
      "the median no is  20\n"
     ]
    }
   ],
   "source": [
    "a=20\n",
    "b=19\n",
    "c=21\n",
    "#find median(middle no) 19, 20,21=>20\n",
    "if a>b:\n",
    "    temp=a\n",
    "    a=b\n",
    "    b=temp\n",
    "if b>c:\n",
    "    temp=b\n",
    "    b=c\n",
    "    c=temp\n",
    "print(\"the median no is \",b)"
   ]
  },
  {
   "cell_type": "code",
   "execution_count": 7,
   "id": "0d7a77c4-f9b0-4953-8709-91f8ded1071f",
   "metadata": {},
   "outputs": [
    {
     "name": "stdout",
     "output_type": "stream",
     "text": [
      "31\n",
      "33\n",
      "35\n",
      "37\n",
      "39\n"
     ]
    }
   ],
   "source": [
    "#loops=>2 for while, for(definite no), while(indefinite)\n",
    "#range(start=0, end, step=1)\n",
    "l=[i for i in range(31, 41, 2)]\n",
    "for x in l:\n",
    "    print(x)"
   ]
  },
  {
   "cell_type": "code",
   "execution_count": 8,
   "id": "768f3705-725b-4e97-bdac-37747233c242",
   "metadata": {},
   "outputs": [
    {
     "name": "stdout",
     "output_type": "stream",
     "text": [
      "650\n"
     ]
    }
   ],
   "source": [
    "l=[i for i in range(1, 51)]\n",
    "sum=0\n",
    "for x in l:\n",
    "    if x%2==0:\n",
    "        sum+=x\n",
    "print(sum)"
   ]
  },
  {
   "cell_type": "code",
   "execution_count": 14,
   "id": "15c0db25-6221-4320-a831-ca810bd9d481",
   "metadata": {},
   "outputs": [
    {
     "name": "stdout",
     "output_type": "stream",
     "text": [
      "104101108108111\n"
     ]
    }
   ],
   "source": [
    "s=\"hello\"#104101108108111\n",
    "encode=\"\"\n",
    "for x in s:\n",
    "    encode+=str(ord(x))\n",
    "print(encode)"
   ]
  },
  {
   "cell_type": "code",
   "execution_count": 16,
   "id": "4e85f3e7-9bcb-48fa-8174-66189fa52567",
   "metadata": {},
   "outputs": [
    {
     "name": "stdin",
     "output_type": "stream",
     "text": [
      "enter no1: 12\n",
      "enter no2: 12\n",
      "enter operator: +\n"
     ]
    },
    {
     "name": "stdout",
     "output_type": "stream",
     "text": [
      "24\n"
     ]
    },
    {
     "name": "stdin",
     "output_type": "stream",
     "text": [
      "do you want to continue: 12\n",
      "enter no1: 12\n",
      "enter no2: 12\n",
      "enter operator: *\n"
     ]
    },
    {
     "name": "stdout",
     "output_type": "stream",
     "text": [
      "144\n"
     ]
    },
    {
     "name": "stdin",
     "output_type": "stream",
     "text": [
      "do you want to continue: n\n"
     ]
    }
   ],
   "source": [
    "while(True):\n",
    "    no1=int(input(\"enter no1:\"))\n",
    "    no2=int(input(\"enter no2:\"))\n",
    "    op=input(\"enter operator:\")\n",
    "    if op==\"+\":\n",
    "        print(no1+no2)\n",
    "    elif op==\"-\":\n",
    "        print(no1-no2)\n",
    "    elif op==\"*\":\n",
    "        print(no1*no2)\n",
    "    elif op==\"/\":\n",
    "        print(no1/no2)\n",
    "    else:\n",
    "        print(\"provide correct operator\")\n",
    "    ch=input(\"do you want to continue:\")\n",
    "    if ch==\"n\":\n",
    "        break"
   ]
  },
  {
   "cell_type": "code",
   "execution_count": 18,
   "id": "355aba83-3abb-46bb-97fb-7057bb273b2d",
   "metadata": {},
   "outputs": [
    {
     "name": "stdout",
     "output_type": "stream",
     "text": [
      "120\n"
     ]
    }
   ],
   "source": [
    "var1=10\n",
    "def fact(a=0):\n",
    "    fact=1\n",
    "    for i in range(1, a+1):\n",
    "        fact=fact*i\n",
    "    return fact\n",
    "res=fact(5)\n",
    "print(res)"
   ]
  },
  {
   "cell_type": "code",
   "execution_count": 25,
   "id": "f6af2603-024d-493c-be44-1f6cea8bd2fb",
   "metadata": {},
   "outputs": [
    {
     "name": "stdout",
     "output_type": "stream",
     "text": [
      "constructor\n"
     ]
    },
    {
     "ename": "AttributeError",
     "evalue": "'operation' object has no attribute 'fact'",
     "output_type": "error",
     "traceback": [
      "\u001b[1;31m---------------------------------------------------------------------------\u001b[0m",
      "\u001b[1;31mAttributeError\u001b[0m                            Traceback (most recent call last)",
      "Cell \u001b[1;32mIn[25], line 15\u001b[0m\n\u001b[0;32m     13\u001b[0m ob\u001b[38;5;241m=\u001b[39moperation()\n\u001b[0;32m     14\u001b[0m ob\u001b[38;5;241m.\u001b[39mfact1(\u001b[38;5;241m5\u001b[39m)\n\u001b[1;32m---> 15\u001b[0m \u001b[38;5;28mprint\u001b[39m(\u001b[43mob\u001b[49m\u001b[38;5;241;43m.\u001b[39;49m\u001b[43mfact\u001b[49m)\n\u001b[0;32m     16\u001b[0m \u001b[38;5;28mprint\u001b[39m(ob\u001b[38;5;241m.\u001b[39mvar)\n",
      "\u001b[1;31mAttributeError\u001b[0m: 'operation' object has no attribute 'fact'"
     ]
    }
   ],
   "source": [
    "class operation:\n",
    "    def __init__(slef):\n",
    "        print(\"constructor\")\n",
    "        \n",
    "    def fact1(self, a):\n",
    "        fact=1\n",
    "        self.var=45\n",
    "        for i in range(1, a+1):\n",
    "            fact=fact*i\n",
    "        return fact\n",
    "        \n",
    "\n",
    "ob=operation()\n",
    "ob.fact1(5)\n",
    "print(ob.fact)\n",
    "print(ob.var)"
   ]
  },
  {
   "cell_type": "code",
   "execution_count": 33,
   "id": "0c377c0e-bc3f-4d18-b072-745c7ba15bb9",
   "metadata": {},
   "outputs": [
    {
     "ename": "TypeError",
     "evalue": "Cannot create a consistent method resolution\norder (MRO) for bases A, B",
     "output_type": "error",
     "traceback": [
      "\u001b[1;31m---------------------------------------------------------------------------\u001b[0m",
      "\u001b[1;31mTypeError\u001b[0m                                 Traceback (most recent call last)",
      "Cell \u001b[1;32mIn[33], line 8\u001b[0m\n\u001b[0;32m      5\u001b[0m     \u001b[38;5;28;01mdef\u001b[39;00m \u001b[38;5;21mp1\u001b[39m(\u001b[38;5;28mself\u001b[39m):\n\u001b[0;32m      6\u001b[0m         \u001b[38;5;28mprint\u001b[39m(\u001b[38;5;124m\"\u001b[39m\u001b[38;5;124mclass B\u001b[39m\u001b[38;5;124m\"\u001b[39m)\n\u001b[1;32m----> 8\u001b[0m \u001b[38;5;28;43;01mclass\u001b[39;49;00m\u001b[43m \u001b[49m\u001b[38;5;21;43;01mC\u001b[39;49;00m\u001b[43m(\u001b[49m\u001b[43mA\u001b[49m\u001b[43m,\u001b[49m\u001b[43m \u001b[49m\u001b[43mB\u001b[49m\u001b[43m)\u001b[49m\u001b[43m:\u001b[49m\n\u001b[0;32m      9\u001b[0m \u001b[43m    \u001b[49m\u001b[38;5;28;43;01mpass\u001b[39;49;00m\n\u001b[0;32m     10\u001b[0m ob1\u001b[38;5;241m=\u001b[39mC()\n",
      "\u001b[1;31mTypeError\u001b[0m: Cannot create a consistent method resolution\norder (MRO) for bases A, B"
     ]
    }
   ],
   "source": [
    "class A():\n",
    "    def p1(self):\n",
    "        print(\"class A\")\n",
    "class B(A):\n",
    "    def p1(self):\n",
    "        print(\"class B\")\n",
    "\n",
    "class C(B):\n",
    "    pass\n",
    "ob1=C()\n",
    "ob1.p1()"
   ]
  },
  {
   "cell_type": "code",
   "execution_count": null,
   "id": "aea24de8-3386-4e50-ac1e-4c3f9fdba25b",
   "metadata": {},
   "outputs": [],
   "source": [
    "#overloadind same function name different parameter list\n",
    "def add(a,b):\n",
    "    return a+b\n",
    "\n",
    "def add(a,b,c):\n",
    "    return a+b+c"
   ]
  },
  {
   "cell_type": "code",
   "execution_count": 38,
   "id": "3be3f206-a5c7-4245-a0a5-ec19615f5e9f",
   "metadata": {},
   "outputs": [],
   "source": [
    "for x in range(5):\n",
    "     pass"
   ]
  },
  {
   "cell_type": "code",
   "execution_count": 39,
   "id": "7e3fc83b-7f0b-4551-a39a-1a84db1ca707",
   "metadata": {},
   "outputs": [
    {
     "name": "stdout",
     "output_type": "stream",
     "text": [
      "hello\n"
     ]
    }
   ],
   "source": [
    "s=\"hello\"#immutable\n",
    "print(s)"
   ]
  },
  {
   "cell_type": "code",
   "execution_count": 40,
   "id": "5c32210c-6c25-4e7a-932f-ffa216d0ccd3",
   "metadata": {},
   "outputs": [
    {
     "ename": "TypeError",
     "evalue": "'str' object does not support item assignment",
     "output_type": "error",
     "traceback": [
      "\u001b[1;31m---------------------------------------------------------------------------\u001b[0m",
      "\u001b[1;31mTypeError\u001b[0m                                 Traceback (most recent call last)",
      "Cell \u001b[1;32mIn[40], line 1\u001b[0m\n\u001b[1;32m----> 1\u001b[0m \u001b[43ms\u001b[49m\u001b[43m[\u001b[49m\u001b[38;5;241;43m1\u001b[39;49m\u001b[43m]\u001b[49m\u001b[38;5;241m=\u001b[39m\u001b[38;5;124m'\u001b[39m\u001b[38;5;124mh\u001b[39m\u001b[38;5;124m'\u001b[39m\n\u001b[0;32m      2\u001b[0m \u001b[38;5;28mprint\u001b[39m(s)\n",
      "\u001b[1;31mTypeError\u001b[0m: 'str' object does not support item assignment"
     ]
    }
   ],
   "source": [
    "s[1]='h'\n",
    "print(s)"
   ]
  },
  {
   "cell_type": "code",
   "execution_count": 45,
   "id": "f1e1f355-b11d-481f-831d-25b36643abc9",
   "metadata": {},
   "outputs": [
    {
     "name": "stdout",
     "output_type": "stream",
     "text": [
      "Hello\n",
      "2\n",
      "2\n",
      "5\n",
      "['h', 'llo']\n"
     ]
    }
   ],
   "source": [
    "print(s.capitalize())\n",
    "print(s.index('l'))\n",
    "print(s.count('l'))\n",
    "print(len(s))\n",
    "print(s.split('e'))"
   ]
  },
  {
   "cell_type": "code",
   "execution_count": 47,
   "id": "3e4f0c5d-95d0-41fe-b526-cf6a83506dd9",
   "metadata": {},
   "outputs": [
    {
     "name": "stdout",
     "output_type": "stream",
     "text": [
      " all \n",
      "all\n",
      "all \n",
      " all\n"
     ]
    }
   ],
   "source": [
    "x=\" all \"\n",
    "print(x)\n",
    "print(x.strip())\n",
    "print(x.lstrip())\n",
    "print(x.rstrip())"
   ]
  },
  {
   "cell_type": "code",
   "execution_count": 50,
   "id": "16ee42dc-0b8f-4d43-8651-c38a3f45e17a",
   "metadata": {},
   "outputs": [
    {
     "name": "stdout",
     "output_type": "stream",
     "text": [
      "3\n"
     ]
    }
   ],
   "source": [
    "print(s.find('l',3))"
   ]
  },
  {
   "cell_type": "code",
   "execution_count": 53,
   "id": "299446da-fee3-48b8-9e18-a14d1a50d4a6",
   "metadata": {},
   "outputs": [
    {
     "name": "stdout",
     "output_type": "stream",
     "text": [
      "False\n"
     ]
    }
   ],
   "source": [
    "print('el' not in s)"
   ]
  },
  {
   "cell_type": "code",
   "execution_count": 54,
   "id": "1492692f-cc75-4358-8151-74da2281c5fd",
   "metadata": {},
   "outputs": [
    {
     "name": "stdout",
     "output_type": "stream",
     "text": [
      "this is our morning class.Good all of you\n",
      " this python open file example\n",
      " this is 3rd linethis is our morning class.\n"
     ]
    }
   ],
   "source": [
    "f=open(\"demo.txt\", \"r\")\n",
    "data=f.read()\n",
    "print(data)"
   ]
  },
  {
   "cell_type": "code",
   "execution_count": 55,
   "id": "3865dc33-c265-4f9c-ba8b-88bc5572926e",
   "metadata": {},
   "outputs": [
    {
     "name": "stdout",
     "output_type": "stream",
     "text": [
      "don't divide by 0\n",
      "finally\n"
     ]
    }
   ],
   "source": [
    "try:\n",
    "    #code which may generate error\n",
    "    res=10/0\n",
    "except:\n",
    "    #handle the error\n",
    "    print(\"don't divide by 0\")\n",
    "else:\n",
    "    #no error then this execute\n",
    "    print(res)\n",
    "finally:    \n",
    "    #always \n",
    "    print(\"finally\")"
   ]
  },
  {
   "cell_type": "code",
   "execution_count": 56,
   "id": "faf3a577-c790-4d7f-9333-6f8804cc19f0",
   "metadata": {},
   "outputs": [
    {
     "name": "stdout",
     "output_type": "stream",
     "text": [
      "34\n",
      "[12, 34, 55, 100, 89]\n"
     ]
    }
   ],
   "source": [
    "l=[12,34,55,34,89]#coll of h, mutable, ordered, indexable, duplicates\n",
    "print(l[3])\n",
    "l[3]=100\n",
    "print(l)"
   ]
  },
  {
   "cell_type": "code",
   "execution_count": 59,
   "id": "44bff8e5-0de9-47f1-a9a7-80f6be977ff5",
   "metadata": {},
   "outputs": [
    {
     "name": "stdout",
     "output_type": "stream",
     "text": [
      "[12, 34, 55, 100, 89, 200, 200, 200]\n",
      "None\n",
      "[12, 34, 55, 100, 89, 200, 200, 200, 20, 30]\n"
     ]
    }
   ],
   "source": [
    "l.append(200)\n",
    "print(l)\n",
    "print(l.extend([20,30]))\n",
    "print(l)"
   ]
  },
  {
   "cell_type": "code",
   "execution_count": 61,
   "id": "bf8a4578-e1f5-47d6-9115-90a3e4d0ad05",
   "metadata": {},
   "outputs": [
    {
     "name": "stdout",
     "output_type": "stream",
     "text": [
      "10\n",
      "3\n"
     ]
    }
   ],
   "source": [
    "print(len(l))\n",
    "print(l.count(200))"
   ]
  },
  {
   "cell_type": "code",
   "execution_count": 63,
   "id": "f51c151a-785a-4591-b8a8-97cbfc360067",
   "metadata": {},
   "outputs": [
    {
     "name": "stdout",
     "output_type": "stream",
     "text": [
      "20\n",
      "200\n"
     ]
    }
   ],
   "source": [
    "print(l.pop())\n",
    "print(l.pop(5))"
   ]
  },
  {
   "cell_type": "code",
   "execution_count": 65,
   "id": "c0ff4e62-76e8-41d8-af1c-f211ff35a3c6",
   "metadata": {},
   "outputs": [
    {
     "name": "stdout",
     "output_type": "stream",
     "text": [
      "[12, 34, 55, 100, 89, 200, 200]\n",
      "None\n",
      "[34, 55, 100, 89, 200, 200]\n"
     ]
    }
   ],
   "source": [
    "print(l)\n",
    "print(l.remove(12))\n",
    "print(l)\n"
   ]
  },
  {
   "cell_type": "code",
   "execution_count": 66,
   "id": "85621b6c-f55c-4d13-ace5-164ea7af28a1",
   "metadata": {},
   "outputs": [
    {
     "name": "stdout",
     "output_type": "stream",
     "text": [
      "None\n",
      "[34, 300, 55, 100, 89, 200, 200]\n"
     ]
    }
   ],
   "source": [
    "print(l.insert(1,300))\n",
    "print(l)"
   ]
  },
  {
   "cell_type": "code",
   "execution_count": 68,
   "id": "482bf65c-a43f-4273-ae2e-be407d26cb48",
   "metadata": {},
   "outputs": [
    {
     "name": "stdout",
     "output_type": "stream",
     "text": [
      "None\n",
      "[34, 55, 89, 100, 200, 200, 300]\n"
     ]
    }
   ],
   "source": [
    "print(l.sort())#sorted(l)\n",
    "print(l)"
   ]
  },
  {
   "cell_type": "code",
   "execution_count": 69,
   "id": "0b44a17e-8c36-43bf-8a03-5b64efbb14b3",
   "metadata": {},
   "outputs": [
    {
     "name": "stdout",
     "output_type": "stream",
     "text": [
      "(23, 45, 56, 70, 23)\n"
     ]
    }
   ],
   "source": [
    "t=(23, 45,56, 70,23)#immutable, order, indexable, duplicate,\n",
    "print(t)"
   ]
  },
  {
   "cell_type": "code",
   "execution_count": 71,
   "id": "100e37cf-e671-45d2-bb6b-95297f930312",
   "metadata": {},
   "outputs": [
    {
     "name": "stdout",
     "output_type": "stream",
     "text": [
      "23\n"
     ]
    },
    {
     "ename": "TypeError",
     "evalue": "'tuple' object does not support item assignment",
     "output_type": "error",
     "traceback": [
      "\u001b[1;31m---------------------------------------------------------------------------\u001b[0m",
      "\u001b[1;31mTypeError\u001b[0m                                 Traceback (most recent call last)",
      "Cell \u001b[1;32mIn[71], line 2\u001b[0m\n\u001b[0;32m      1\u001b[0m \u001b[38;5;28mprint\u001b[39m(t[\u001b[38;5;241m0\u001b[39m])\n\u001b[1;32m----> 2\u001b[0m \u001b[43mt\u001b[49m\u001b[43m[\u001b[49m\u001b[38;5;241;43m0\u001b[39;49m\u001b[43m]\u001b[49m\u001b[38;5;241m=\u001b[39m\u001b[38;5;241m100\u001b[39m\n",
      "\u001b[1;31mTypeError\u001b[0m: 'tuple' object does not support item assignment"
     ]
    }
   ],
   "source": [
    "print(t[0])\n",
    "t[0]=100"
   ]
  },
  {
   "cell_type": "code",
   "execution_count": 72,
   "id": "853b261c-17ae-4bd7-af27-275dff2ba677",
   "metadata": {},
   "outputs": [],
   "source": [
    "a,b,c=(12,13,14)#unpacking"
   ]
  },
  {
   "cell_type": "code",
   "execution_count": 74,
   "id": "a7d9f754-97b1-4c41-b5c9-8c7d0ff5fd2d",
   "metadata": {},
   "outputs": [
    {
     "name": "stdout",
     "output_type": "stream",
     "text": [
      "{34, 67, 'hi', 23}\n"
     ]
    },
    {
     "ename": "TypeError",
     "evalue": "'set' object does not support item assignment",
     "output_type": "error",
     "traceback": [
      "\u001b[1;31m---------------------------------------------------------------------------\u001b[0m",
      "\u001b[1;31mTypeError\u001b[0m                                 Traceback (most recent call last)",
      "Cell \u001b[1;32mIn[74], line 3\u001b[0m\n\u001b[0;32m      1\u001b[0m s\u001b[38;5;241m=\u001b[39m{\u001b[38;5;241m23\u001b[39m,\u001b[38;5;241m67\u001b[39m,\u001b[38;5;241m34\u001b[39m, \u001b[38;5;124m\"\u001b[39m\u001b[38;5;124mhi\u001b[39m\u001b[38;5;124m\"\u001b[39m}\u001b[38;5;66;03m#unorded, noduplicates, mutable, no index\u001b[39;00m\n\u001b[0;32m      2\u001b[0m \u001b[38;5;28mprint\u001b[39m(s)\n\u001b[1;32m----> 3\u001b[0m \u001b[43ms\u001b[49m\u001b[43m[\u001b[49m\u001b[38;5;241;43m3\u001b[39;49m\u001b[43m]\u001b[49m\u001b[38;5;241m=\u001b[39m\u001b[38;5;241m45\u001b[39m\n",
      "\u001b[1;31mTypeError\u001b[0m: 'set' object does not support item assignment"
     ]
    }
   ],
   "source": [
    "s={23,67,34, \"hi\"}#unorded, noduplicates, mutable, no index\n",
    "print(s)\n",
    "s[3]=45"
   ]
  },
  {
   "cell_type": "code",
   "execution_count": 75,
   "id": "353dfc6b-aba9-4363-a460-0839d9ad9753",
   "metadata": {},
   "outputs": [
    {
     "name": "stdout",
     "output_type": "stream",
     "text": [
      "{34, 67, 23, 56, 'hi'}\n"
     ]
    }
   ],
   "source": [
    "s.add(56)\n",
    "print(s)"
   ]
  },
  {
   "cell_type": "code",
   "execution_count": 79,
   "id": "08434106-f428-497c-9cf0-d15f4c0655d2",
   "metadata": {},
   "outputs": [
    {
     "name": "stdout",
     "output_type": "stream",
     "text": [
      "{1: 45, 4: 67, 5: 78}\n"
     ]
    },
    {
     "ename": "KeyError",
     "evalue": "6",
     "output_type": "error",
     "traceback": [
      "\u001b[1;31m---------------------------------------------------------------------------\u001b[0m",
      "\u001b[1;31mKeyError\u001b[0m                                  Traceback (most recent call last)",
      "Cell \u001b[1;32mIn[79], line 3\u001b[0m\n\u001b[0;32m      1\u001b[0m d\u001b[38;5;241m=\u001b[39m{\u001b[38;5;241m1\u001b[39m:\u001b[38;5;241m45\u001b[39m, \u001b[38;5;241m4\u001b[39m:\u001b[38;5;241m67\u001b[39m, \u001b[38;5;241m5\u001b[39m:\u001b[38;5;241m78\u001b[39m}\u001b[38;5;66;03m#K:v pair, k(unique), mutable, unordered, access by key\u001b[39;00m\n\u001b[0;32m      2\u001b[0m \u001b[38;5;28mprint\u001b[39m(d)\n\u001b[1;32m----> 3\u001b[0m \u001b[38;5;28mprint\u001b[39m(\u001b[43md\u001b[49m\u001b[43m[\u001b[49m\u001b[38;5;241;43m6\u001b[39;49m\u001b[43m]\u001b[49m)\n",
      "\u001b[1;31mKeyError\u001b[0m: 6"
     ]
    }
   ],
   "source": [
    "d={1:45, 4:67, 5:78}#K:v pair, k(unique), mutable, unordered, access by key\n",
    "print(d)\n",
    "print(d[6])"
   ]
  },
  {
   "cell_type": "code",
   "execution_count": 80,
   "id": "466c97cb-05cf-43d4-8aa0-8548dd0058b6",
   "metadata": {},
   "outputs": [
    {
     "data": {
      "text/plain": [
       "45"
      ]
     },
     "execution_count": 80,
     "metadata": {},
     "output_type": "execute_result"
    }
   ],
   "source": [
    "d.get(1)"
   ]
  },
  {
   "cell_type": "code",
   "execution_count": 4,
   "id": "e47a2082-6018-4e36-a9c8-a644a515b2b1",
   "metadata": {},
   "outputs": [
    {
     "data": {
      "image/png": "[encoded data removed]",
      "text/plain": [
       "<Figure size 640x480 with 1 Axes>"
      ]
     },
     "metadata": {},
     "output_type": "display_data"
    }
   ],
   "source": [
    "import matplotlib.pyplot as plt\n",
    "age_groups = [\"0-10\", \"11-20\", \"21-30\", \"31-40\", \"41-50\", \"51-60\", \"61-70\", \"71+\"]\n",
    "population = [15000, 22000, 30000, 28000, 25000, 18000, 12000, 8000]\n",
    "myexplode = [0.2, 0, 0, 0, 0, 0.3,0,0]\n",
    "\n",
    "plt.pie(population, labels=age_groups,  autopct='%1.1f%%', explode=myexplode)\n",
    "plt.show()"
   ]
  },
  {
   "cell_type": "code",
   "execution_count": 5,
   "id": "af3f1d82-aa6c-4503-81ed-5dcf5b371acb",
   "metadata": {},
   "outputs": [
    {
     "data": {
      "image/png": "[encoded data removed]",
      "text/plain": [
       "<Figure size 640x480 with 1 Axes>"
      ]
     },
     "metadata": {},
     "output_type": "display_data"
    }
   ],
   "source": [
    "study_hours = [2, 3, 1, 4, 3, 5, 2, 6, 5, 7]\n",
    "exam_scores = [65, 75, 60, 80, 70, 85, 70, 90, 88, 92]\n",
    "plt.scatter(study_hours, exam_scores)#-1 to +1(0.5)\n",
    "plt.show()"
   ]
  },
  {
   "cell_type": "code",
   "execution_count": 8,
   "id": "1307a01f-431e-4844-8f38-571be3855491",
   "metadata": {},
   "outputs": [
    {
     "data": {
      "image/png": "[encoded data removed]",
      "text/plain": [
       "<Figure size 640x480 with 2 Axes>"
      ]
     },
     "metadata": {},
     "output_type": "display_data"
    }
   ],
   "source": [
    "age_groups = [\"0-10\", \"11-20\", \"21-30\", \"31-40\", \"41-50\", \"51-60\", \"61-70\", \"71+\"]\n",
    "population = [15000, 22000, 30000, 28000, 25000, 18000, 12000, 8000]\n",
    "myexplode = [0.2, 0, 0, 0, 0, 0.3,0,0]\n",
    "plt.subplot(2,2, 1)\n",
    "plt.pie(population, labels=age_groups,  autopct='%1.1f%%', explode=myexplode)\n",
    "\n",
    "study_hours = [2, 3, 1, 4, 3, 5, 2, 6, 5, 7]\n",
    "exam_scores = [65, 75, 60, 80, 70, 85, 70, 90, 88, 92]\n",
    "plt.subplot(2,2,4)\n",
    "plt.scatter(study_hours, exam_scores)#-1 to +1(0.5)\n",
    "plt.show()"
   ]
  },
  {
   "cell_type": "code",
   "execution_count": 15,
   "id": "31b1deff-352d-4bd3-8c41-348f36aada7b",
   "metadata": {},
   "outputs": [
    {
     "data": {
      "image/png": "[encoded data removed]",
      "text/plain": [
       "<Figure size 640x480 with 1 Axes>"
      ]
     },
     "metadata": {},
     "output_type": "display_data"
    }
   ],
   "source": [
    "import seaborn as sns\n",
    "ages = [1, 1, 2, 3, 3, 5, 7, 8, 9, 10,\n",
    "10, 11, 11, 13, 13, 15, 16, 17, 18, 18,\n",
    "18, 19, 20, 21, 21, 23, 24, 24, 25, 25,\n",
    "25, 25, 26, 26, 26, 27, 27, 27, 27, 27,\n",
    "29, 30, 30, 31, 33, 34, 34, 34, 35, 36,\n",
    "36, 37, 37, 38, 38, 39, 40, 41, 41, 42,\n",
    "43, 44, 45, 45, 46, 47, 48, 48, 49, 50,\n",
    "51, 52, 53, 54, 55, 55, 56, 57, 58, 60,\n",
    "61, 63, 64, 65, 66, 68, 70, 71, 72, 74,\n",
    "75, 77, 81, 83, 84, 87, 89, 90, 90, 91]\n",
    "b=[0,50, 100]\n",
    "sns.set_style('ticks')\n",
    "plt.boxplot(ages)\n",
    "plt.show()"
   ]
  },
  {
   "cell_type": "code",
   "execution_count": 2,
   "id": "da991e7e-c6e4-48b1-956f-d7dc1d050c17",
   "metadata": {},
   "outputs": [
    {
     "name": "stdout",
     "output_type": "stream",
     "text": [
      "jan    100\n",
      "feb    200\n",
      "mar    300\n",
      "apr    400\n",
      "may    500\n",
      "dtype: int64\n"
     ]
    }
   ],
   "source": [
    "import pandas as pd\n",
    "s=pd.Series([100,200,300,400,500], index=['jan', 'feb','mar','apr', 'may'])\n",
    "print(s)"
   ]
  },
  {
   "cell_type": "code",
   "execution_count": 27,
   "id": "bf320828-c20c-424a-b697-4a80eb19035f",
   "metadata": {},
   "outputs": [
    {
     "name": "stdout",
     "output_type": "stream",
     "text": [
      "          name  marks\n",
      "0        kusma     67\n",
      "1  harshareddy     78\n",
      "2     shusrita     56\n",
      "3       charan     89\n",
      "{'name': ['kusma', 'harshareddy', 'shusrita', 'charan'], 'marks': [67, 78, 56, 89], 'city': ['Anantapur', 'Anantapur', 'Anantapur', 'Anantapur']}\n",
      "          name  marks\n",
      "0        kusma     67\n",
      "1  harshareddy     78\n",
      "2     shusrita     56\n",
      "3       charan     89\n"
     ]
    }
   ],
   "source": [
    "sd={'name':['kusma','harshareddy','shusrita','charan'], 'marks':[67,78,56,89]}\n",
    "sdf=pd.DataFrame(sd)\n",
    "print(sdf)\n",
    "sd['city']=[\"Anantapur\",\"Anantapur\",\"Anantapur\",\"Anantapur\"]\n",
    "print(sd)\n",
    "print(sdf)"
   ]
  },
  {
   "cell_type": "code",
   "execution_count": 6,
   "id": "e951167b-9b2e-461a-9219-31793a65f91f",
   "metadata": {},
   "outputs": [
    {
     "name": "stdout",
     "output_type": "stream",
     "text": [
      "<class 'pandas.core.frame.DataFrame'>\n"
     ]
    }
   ],
   "source": [
    "print(type(sdf))"
   ]
  },
  {
   "cell_type": "code",
   "execution_count": 7,
   "id": "89031c0f-9299-4c17-b703-e5a44179b34c",
   "metadata": {},
   "outputs": [
    {
     "name": "stdout",
     "output_type": "stream",
     "text": [
      "apples      37\n",
      "oranges     46\n",
      "cherries    83\n",
      "pears       42\n",
      "dtype: int64\n",
      "sum of S:  apples      20\n",
      "oranges     33\n",
      "cherries    52\n",
      "pears       10\n",
      "dtype: int64\n"
     ]
    }
   ],
   "source": [
    "fruits = ['apples', 'oranges', 'cherries', 'pears'] \n",
    "S = pd.Series([20, 33, 52, 10], index=fruits) \n",
    "S2 = pd.Series([17, 13, 31, 32], index=fruits) \n",
    "print(S + S2) \n",
    "print(\"sum of S: \", (S)) \n"
   ]
  },
  {
   "cell_type": "code",
   "execution_count": 24,
   "id": "c147cb8e-8d7c-49d4-ba57-062d1094b6e6",
   "metadata": {},
   "outputs": [
    {
     "name": "stdout",
     "output_type": "stream",
     "text": [
      "apples      37.0\n",
      "banana       NaN\n",
      "cherries    84.0\n",
      "oranges      NaN\n",
      "pears       41.0\n",
      "dtype: float64\n"
     ]
    }
   ],
   "source": [
    "fruits = ['apples', 'oranges', 'cherries' , 'pears'] \n",
    "fruits2 = ['apples', 'banana', 'pears','cherries'] \n",
    "S = pd.Series([20, 33, 52, 10], index=fruits) \n",
    "S2 = pd.Series([17, 13, 31, 32], index=fruits2) \n",
    "print(S + S2) "
   ]
  },
  {
   "cell_type": "code",
   "execution_count": 18,
   "id": "4b72ca5f-fb0e-4b02-bf34-31922ff8d244",
   "metadata": {},
   "outputs": [
    {
     "name": "stdout",
     "output_type": "stream",
     "text": [
      "0    20\n",
      "1    33\n",
      "2    52\n",
      "3    10\n",
      "dtype: int64\n",
      "1    33\n",
      "2    52\n",
      "3    10\n",
      "dtype: int64\n"
     ]
    }
   ],
   "source": [
    "print(S)\n",
    "print(S[1:4])"
   ]
  },
  {
   "cell_type": "code",
   "execution_count": 19,
   "id": "cf1fdba7-fb8e-4d34-a178-f195ee2a7820",
   "metadata": {},
   "outputs": [
    {
     "data": {
      "text/plain": [
       "apples      30\n",
       "oranges     43\n",
       "cherries    52\n",
       "pears       20\n",
       "dtype: int64"
      ]
     },
     "execution_count": 19,
     "metadata": {},
     "output_type": "execute_result"
    }
   ],
   "source": [
    "fruits = ['apples', 'oranges', 'cherries', 'pears'] \n",
    "S = pd.Series([20, 33, 52, 10], index=fruits) \n",
    "S.apply(lambda x: x if x > 50 else x+10 ) #np.log"
   ]
  },
  {
   "cell_type": "code",
   "execution_count": 25,
   "id": "3eaed9b5-d523-4f6b-8ff3-c76a42adbc11",
   "metadata": {},
   "outputs": [
    {
     "name": "stdout",
     "output_type": "stream",
     "text": [
      "          Fruits1     0\n",
      "apples       20.0  17.0\n",
      "oranges      33.0   NaN\n",
      "cherries     52.0  32.0\n",
      "pears        10.0  31.0\n",
      "banana        NaN  13.0\n"
     ]
    }
   ],
   "source": [
    "df1=pd.DataFrame(S,columns = ['Fruits1'])\n",
    "df2=pd.DataFrame(S2)\n",
    "print(pd.concat([df1,df2], axis=1))"
   ]
  },
  {
   "cell_type": "code",
   "execution_count": 28,
   "id": "cf8bb87c-fdb6-4785-8727-fbfa0632706b",
   "metadata": {},
   "outputs": [
    {
     "name": "stdout",
     "output_type": "stream",
     "text": [
      "          name  marks\n",
      "0        kusma     67\n",
      "1  harshareddy     78\n",
      "2     shusrita     56\n",
      "3       charan     89\n",
      "          name  marks       city\n",
      "0        kusma     67  Anantapur\n",
      "1  harshareddy     78  Anantapur\n",
      "2     shusrita     56  Anantapur\n",
      "3       charan     89  Anantapur\n"
     ]
    }
   ],
   "source": [
    "print(sdf)\n",
    "sdf['city']=[\"Anantapur\",\"Anantapur\",\"Anantapur\",\"Anantapur\"]\n",
    "print(sdf)"
   ]
  },
  {
   "cell_type": "code",
   "execution_count": 31,
   "id": "afb60f1c-fa35-4403-8c77-a45b35100d52",
   "metadata": {},
   "outputs": [
    {
     "name": "stdout",
     "output_type": "stream",
     "text": [
      "          name  marks       city  Gender Grade\n",
      "0        kusma     67  Anantapur  Female     A\n",
      "1  harshareddy     78  Anantapur    Male     B\n",
      "2     shusrita     56  Anantapur  Female     C\n",
      "3       charan     89  Anantapur    Male     B\n"
     ]
    }
   ],
   "source": [
    "new_columns = {\n",
    "'Gender': ['Female', 'Male', 'Female', 'Male'],\n",
    "'Grade': ['A', 'B', 'C', 'B']\n",
    "}\n",
    "sdf['Gender'] = new_columns['Gender']\n",
    "sdf['Grade'] = new_columns['Grade']\n",
    "print(sdf)"
   ]
  },
  {
   "cell_type": "code",
   "execution_count": 40,
   "id": "ed51d7e8-42ef-40cc-aedc-c446e069fdb1",
   "metadata": {},
   "outputs": [
    {
     "name": "stdout",
     "output_type": "stream",
     "text": [
      "          name  marks  percentage       city  Gender Grade\n",
      "0        kusma     67        67.0  Anantapur  Female     A\n",
      "1  harshareddy     78        78.0  Anantapur    Male     B\n",
      "2     shusrita     56        56.0  Anantapur  Female     C\n",
      "3       charan     89        89.0  Anantapur    Male     B\n"
     ]
    }
   ],
   "source": [
    "sdf.insert(2, 'percentage', [ ((x/100)*100) for x in sdf['marks']] )\n",
    "print(sdf)"
   ]
  },
  {
   "cell_type": "code",
   "execution_count": 39,
   "id": "4672d17d-5a79-4347-b2f1-df953e47e4f1",
   "metadata": {},
   "outputs": [
    {
     "name": "stdout",
     "output_type": "stream",
     "text": [
      "[67.0, 78.0, 56.00000000000001, 89.0]\n"
     ]
    }
   ],
   "source": [
    "print([ ((x/100)*100) for x in sdf['marks']])"
   ]
  },
  {
   "cell_type": "code",
   "execution_count": 42,
   "id": "7b9a749b-f161-48d7-8fc5-f3bcce67a33f",
   "metadata": {},
   "outputs": [],
   "source": [
    "df=pd.DataFrame([{\"name\":\"Rajitha\",  \"marks\":70 , \"percentage\":70.0  ,   \"city\":\"tadipatri\", \"Gender\":\"female\", \"Grade\":\"B\"}, {}, {})"
   ]
  },
  {
   "cell_type": "code",
   "execution_count": 49,
   "id": "8e1cc736-f36a-4a04-92be-674b5685e3c1",
   "metadata": {},
   "outputs": [
    {
     "name": "stdout",
     "output_type": "stream",
     "text": [
      "          name  marks  percentage       city  Gender Grade\n",
      "0        kusma     67        67.0  Anantapur  Female     A\n",
      "1  harshareddy     78        78.0  Anantapur    Male     B\n",
      "2     shusrita     56        56.0  Anantapur  Female     C\n",
      "3       charan     89        89.0  Anantapur    Male     B\n",
      "4      Rajitha     70        70.0  tadipatri  female     B\n"
     ]
    }
   ],
   "source": [
    "ndf=pd.concat([sdf,df], ignore_index=True)\n",
    "print(ndf)"
   ]
  },
  {
   "cell_type": "code",
   "execution_count": 46,
   "id": "13534b42-16f5-4d70-9f54-329b6246ff8e",
   "metadata": {},
   "outputs": [
    {
     "name": "stdout",
     "output_type": "stream",
     "text": [
      "name           shusrita\n",
      "marks                56\n",
      "percentage         56.0\n",
      "city          Anantapur\n",
      "Gender           Female\n",
      "Grade                 C\n",
      "Name: 2, dtype: object\n"
     ]
    }
   ],
   "source": [
    "print(sdf.loc[2])"
   ]
  },
  {
   "cell_type": "code",
   "execution_count": 55,
   "id": "5bb26d7a-1a4b-4298-a86a-936299f4f3e6",
   "metadata": {},
   "outputs": [
    {
     "name": "stdout",
     "output_type": "stream",
     "text": [
      "          name  marks  percentage       city  Gender Grade\n",
      "0        kusma     67        67.0  Anantapur  Female     A\n",
      "1  harshareddy     78        78.0  Anantapur    Male     B\n",
      "2     shusrita     56        56.0  Anantapur  Female     C\n",
      "3       charan     89        89.0  Anantapur    Male     B\n",
      "4      Rajitha     70        70.0  tadipatri  female     B\n"
     ]
    }
   ],
   "source": [
    "ndf.reindex(['a','b','c','d','e'])\n",
    "print(ndf)"
   ]
  },
  {
   "cell_type": "code",
   "execution_count": null,
   "id": "ac92b8df-58d4-499e-aaec-cd5b6ba7572b",
   "metadata": {},
   "outputs": [],
   "source": []
  },
  {
   "cell_type": "code",
   "execution_count": 57,
   "id": "3b8c68b9-84de-44fa-9103-b3402a3c8a87",
   "metadata": {},
   "outputs": [
    {
     "ename": "KeyError",
     "evalue": "2",
     "output_type": "error",
     "traceback": [
      "\u001b[1;31m---------------------------------------------------------------------------\u001b[0m",
      "\u001b[1;31mKeyError\u001b[0m                                  Traceback (most recent call last)",
      "File \u001b[1;32mC:\\Python\\Lib\\site-packages\\pandas\\core\\indexes\\base.py:3791\u001b[0m, in \u001b[0;36mIndex.get_loc\u001b[1;34m(self, key)\u001b[0m\n\u001b[0;32m   3790\u001b[0m \u001b[38;5;28;01mtry\u001b[39;00m:\n\u001b[1;32m-> 3791\u001b[0m     \u001b[38;5;28;01mreturn\u001b[39;00m \u001b[38;5;28;43mself\u001b[39;49m\u001b[38;5;241;43m.\u001b[39;49m\u001b[43m_engine\u001b[49m\u001b[38;5;241;43m.\u001b[39;49m\u001b[43mget_loc\u001b[49m\u001b[43m(\u001b[49m\u001b[43mcasted_key\u001b[49m\u001b[43m)\u001b[49m\n\u001b[0;32m   3792\u001b[0m \u001b[38;5;28;01mexcept\u001b[39;00m \u001b[38;5;167;01mKeyError\u001b[39;00m \u001b[38;5;28;01mas\u001b[39;00m err:\n",
      "File \u001b[1;32mindex.pyx:152\u001b[0m, in \u001b[0;36mpandas._libs.index.IndexEngine.get_loc\u001b[1;34m()\u001b[0m\n",
      "File \u001b[1;32mindex.pyx:181\u001b[0m, in \u001b[0;36mpandas._libs.index.IndexEngine.get_loc\u001b[1;34m()\u001b[0m\n",
      "File \u001b[1;32mpandas\\_libs\\hashtable_class_helper.pxi:7080\u001b[0m, in \u001b[0;36mpandas._libs.hashtable.PyObjectHashTable.get_item\u001b[1;34m()\u001b[0m\n",
      "File \u001b[1;32mpandas\\_libs\\hashtable_class_helper.pxi:7088\u001b[0m, in \u001b[0;36mpandas._libs.hashtable.PyObjectHashTable.get_item\u001b[1;34m()\u001b[0m\n",
      "\u001b[1;31mKeyError\u001b[0m: 2",
      "\nThe above exception was the direct cause of the following exception:\n",
      "\u001b[1;31mKeyError\u001b[0m                                  Traceback (most recent call last)",
      "Cell \u001b[1;32mIn[57], line 1\u001b[0m\n\u001b[1;32m----> 1\u001b[0m \u001b[38;5;28mprint\u001b[39m(\u001b[43msdf\u001b[49m\u001b[38;5;241;43m.\u001b[39;49m\u001b[43mloc\u001b[49m\u001b[43m[\u001b[49m\u001b[38;5;241;43m2\u001b[39;49m\u001b[43m]\u001b[49m)\n",
      "File \u001b[1;32mC:\\Python\\Lib\\site-packages\\pandas\\core\\indexing.py:1153\u001b[0m, in \u001b[0;36m_LocationIndexer.__getitem__\u001b[1;34m(self, key)\u001b[0m\n\u001b[0;32m   1150\u001b[0m axis \u001b[38;5;241m=\u001b[39m \u001b[38;5;28mself\u001b[39m\u001b[38;5;241m.\u001b[39maxis \u001b[38;5;129;01mor\u001b[39;00m \u001b[38;5;241m0\u001b[39m\n\u001b[0;32m   1152\u001b[0m maybe_callable \u001b[38;5;241m=\u001b[39m com\u001b[38;5;241m.\u001b[39mapply_if_callable(key, \u001b[38;5;28mself\u001b[39m\u001b[38;5;241m.\u001b[39mobj)\n\u001b[1;32m-> 1153\u001b[0m \u001b[38;5;28;01mreturn\u001b[39;00m \u001b[38;5;28;43mself\u001b[39;49m\u001b[38;5;241;43m.\u001b[39;49m\u001b[43m_getitem_axis\u001b[49m\u001b[43m(\u001b[49m\u001b[43mmaybe_callable\u001b[49m\u001b[43m,\u001b[49m\u001b[43m \u001b[49m\u001b[43maxis\u001b[49m\u001b[38;5;241;43m=\u001b[39;49m\u001b[43maxis\u001b[49m\u001b[43m)\u001b[49m\n",
      "File \u001b[1;32mC:\\Python\\Lib\\site-packages\\pandas\\core\\indexing.py:1393\u001b[0m, in \u001b[0;36m_LocIndexer._getitem_axis\u001b[1;34m(self, key, axis)\u001b[0m\n\u001b[0;32m   1391\u001b[0m \u001b[38;5;66;03m# fall thru to straight lookup\u001b[39;00m\n\u001b[0;32m   1392\u001b[0m \u001b[38;5;28mself\u001b[39m\u001b[38;5;241m.\u001b[39m_validate_key(key, axis)\n\u001b[1;32m-> 1393\u001b[0m \u001b[38;5;28;01mreturn\u001b[39;00m \u001b[38;5;28;43mself\u001b[39;49m\u001b[38;5;241;43m.\u001b[39;49m\u001b[43m_get_label\u001b[49m\u001b[43m(\u001b[49m\u001b[43mkey\u001b[49m\u001b[43m,\u001b[49m\u001b[43m \u001b[49m\u001b[43maxis\u001b[49m\u001b[38;5;241;43m=\u001b[39;49m\u001b[43maxis\u001b[49m\u001b[43m)\u001b[49m\n",
      "File \u001b[1;32mC:\\Python\\Lib\\site-packages\\pandas\\core\\indexing.py:1343\u001b[0m, in \u001b[0;36m_LocIndexer._get_label\u001b[1;34m(self, label, axis)\u001b[0m\n\u001b[0;32m   1341\u001b[0m \u001b[38;5;28;01mdef\u001b[39;00m \u001b[38;5;21m_get_label\u001b[39m(\u001b[38;5;28mself\u001b[39m, label, axis: AxisInt):\n\u001b[0;32m   1342\u001b[0m     \u001b[38;5;66;03m# GH#5567 this will fail if the label is not present in the axis.\u001b[39;00m\n\u001b[1;32m-> 1343\u001b[0m     \u001b[38;5;28;01mreturn\u001b[39;00m \u001b[38;5;28;43mself\u001b[39;49m\u001b[38;5;241;43m.\u001b[39;49m\u001b[43mobj\u001b[49m\u001b[38;5;241;43m.\u001b[39;49m\u001b[43mxs\u001b[49m\u001b[43m(\u001b[49m\u001b[43mlabel\u001b[49m\u001b[43m,\u001b[49m\u001b[43m \u001b[49m\u001b[43maxis\u001b[49m\u001b[38;5;241;43m=\u001b[39;49m\u001b[43maxis\u001b[49m\u001b[43m)\u001b[49m\n",
      "File \u001b[1;32mC:\\Python\\Lib\\site-packages\\pandas\\core\\generic.py:4236\u001b[0m, in \u001b[0;36mNDFrame.xs\u001b[1;34m(self, key, axis, level, drop_level)\u001b[0m\n\u001b[0;32m   4234\u001b[0m             new_index \u001b[38;5;241m=\u001b[39m index[loc]\n\u001b[0;32m   4235\u001b[0m \u001b[38;5;28;01melse\u001b[39;00m:\n\u001b[1;32m-> 4236\u001b[0m     loc \u001b[38;5;241m=\u001b[39m \u001b[43mindex\u001b[49m\u001b[38;5;241;43m.\u001b[39;49m\u001b[43mget_loc\u001b[49m\u001b[43m(\u001b[49m\u001b[43mkey\u001b[49m\u001b[43m)\u001b[49m\n\u001b[0;32m   4238\u001b[0m     \u001b[38;5;28;01mif\u001b[39;00m \u001b[38;5;28misinstance\u001b[39m(loc, np\u001b[38;5;241m.\u001b[39mndarray):\n\u001b[0;32m   4239\u001b[0m         \u001b[38;5;28;01mif\u001b[39;00m loc\u001b[38;5;241m.\u001b[39mdtype \u001b[38;5;241m==\u001b[39m np\u001b[38;5;241m.\u001b[39mbool_:\n",
      "File \u001b[1;32mC:\\Python\\Lib\\site-packages\\pandas\\core\\indexes\\base.py:3798\u001b[0m, in \u001b[0;36mIndex.get_loc\u001b[1;34m(self, key)\u001b[0m\n\u001b[0;32m   3793\u001b[0m     \u001b[38;5;28;01mif\u001b[39;00m \u001b[38;5;28misinstance\u001b[39m(casted_key, \u001b[38;5;28mslice\u001b[39m) \u001b[38;5;129;01mor\u001b[39;00m (\n\u001b[0;32m   3794\u001b[0m         \u001b[38;5;28misinstance\u001b[39m(casted_key, abc\u001b[38;5;241m.\u001b[39mIterable)\n\u001b[0;32m   3795\u001b[0m         \u001b[38;5;129;01mand\u001b[39;00m \u001b[38;5;28many\u001b[39m(\u001b[38;5;28misinstance\u001b[39m(x, \u001b[38;5;28mslice\u001b[39m) \u001b[38;5;28;01mfor\u001b[39;00m x \u001b[38;5;129;01min\u001b[39;00m casted_key)\n\u001b[0;32m   3796\u001b[0m     ):\n\u001b[0;32m   3797\u001b[0m         \u001b[38;5;28;01mraise\u001b[39;00m InvalidIndexError(key)\n\u001b[1;32m-> 3798\u001b[0m     \u001b[38;5;28;01mraise\u001b[39;00m \u001b[38;5;167;01mKeyError\u001b[39;00m(key) \u001b[38;5;28;01mfrom\u001b[39;00m \u001b[38;5;21;01merr\u001b[39;00m\n\u001b[0;32m   3799\u001b[0m \u001b[38;5;28;01mexcept\u001b[39;00m \u001b[38;5;167;01mTypeError\u001b[39;00m:\n\u001b[0;32m   3800\u001b[0m     \u001b[38;5;66;03m# If we have a listlike key, _check_indexing_error will raise\u001b[39;00m\n\u001b[0;32m   3801\u001b[0m     \u001b[38;5;66;03m#  InvalidIndexError. Otherwise we fall through and re-raise\u001b[39;00m\n\u001b[0;32m   3802\u001b[0m     \u001b[38;5;66;03m#  the TypeError.\u001b[39;00m\n\u001b[0;32m   3803\u001b[0m     \u001b[38;5;28mself\u001b[39m\u001b[38;5;241m.\u001b[39m_check_indexing_error(key)\n",
      "\u001b[1;31mKeyError\u001b[0m: 2"
     ]
    }
   ],
   "source": [
    "print(sdf.loc[2])"
   ]
  },
  {
   "cell_type": "code",
   "execution_count": 61,
   "id": "b995519c-f2fe-4d61-8325-af7932a7e8d6",
   "metadata": {},
   "outputs": [
    {
     "name": "stdout",
     "output_type": "stream",
     "text": [
      "a    67\n",
      "b    78\n",
      "c    56\n",
      "d    89\n",
      "Name: marks, dtype: int64\n"
     ]
    }
   ],
   "source": [
    "print(sdf.iloc[::, 1])"
   ]
  },
  {
   "cell_type": "code",
   "execution_count": 62,
   "id": "e12c28f8-6974-4c78-8e69-5b01be4d8e32",
   "metadata": {},
   "outputs": [
    {
     "name": "stdout",
     "output_type": "stream",
     "text": [
      "a    67\n",
      "b    78\n",
      "c    56\n",
      "d    89\n",
      "Name: marks, dtype: int64\n"
     ]
    }
   ],
   "source": [
    "print(sdf['marks'])"
   ]
  },
  {
   "cell_type": "code",
   "execution_count": 66,
   "id": "4dd2882e-099a-4657-b1b7-45d3733bd87d",
   "metadata": {},
   "outputs": [
    {
     "name": "stdout",
     "output_type": "stream",
     "text": [
      "       name  marks  percentage           city  Gender Grade\n",
      "0     kusma   67.0        67.0      Anantapur  Female     A\n",
      "1       Eve   74.0         NaN  San Francisco     NaN   NaN\n",
      "2  shusrita   56.0        56.0      Anantapur  Female     C\n",
      "3    charan   89.0        89.0      Anantapur    Male     B\n",
      "4   Rajitha   70.0        70.0      tadipatri  female     B\n",
      "       name  marks  percentage           city  Gender Grade\n",
      "0     kusma   67.0        67.0      Anantapur  Female     A\n",
      "1       Eve   74.0         NaN  San Francisco     NaN   NaN\n",
      "2  shusrita   56.0        56.0      Anantapur  Female     C\n",
      "3    charan   89.0        89.0      Anantapur    Male     B\n",
      "4   Rajitha   70.0        70.0      tadipatri  female     B\n"
     ]
    }
   ],
   "source": [
    "new_row = {'name': 'Eve', 'marks': 74, 'city': 'San Francisco'}\n",
    "# Define the index where you want to insert the new row\n",
    "insert_index = 1.5 # This will actually insert at index 2\n",
    "# Insert the new row at the specified location\n",
    "ndf.loc[1]=new_row\n",
    "print(ndf)\n",
    "ndf = ndf.sort_index().reset_index(drop=True)\n",
    "print(ndf)"
   ]
  },
  {
   "cell_type": "code",
   "execution_count": 69,
   "id": "3fe3c24a-0034-4112-96c2-caa6157fe9e2",
   "metadata": {},
   "outputs": [
    {
     "name": "stdout",
     "output_type": "stream",
     "text": [
      "        Fruit   Color  Price\n",
      "0       Apple     Red     45\n",
      "1     Avacado   Green     90\n",
      "2      Banana  Yellow     60\n",
      "3  Strawberry    Pink     37\n",
      "4       Grape   Green     49\n",
      "None\n",
      "        Fruit  colour  Price\n",
      "0       Apple     Red     45\n",
      "1     Avacado   Green     90\n",
      "2      Banana  Yellow     60\n",
      "3  Strawberry    Pink     37\n",
      "4       Grape   Green     49\n"
     ]
    }
   ],
   "source": [
    "fruit_data = {\"Fruit\": ['Apple','Avacado','Banana','Strawberry','Grape'],\"Color\":\n",
    "['Red','Green','Yellow','Pink','Green'],\n",
    "\"Price\": [45, 90, 60, 37, 49]\n",
    "}\n",
    "#Dataframe\n",
    "data = pd.DataFrame(fruit_data)\n",
    "print(data)\n",
    "print(data.rename(columns={'Color':'colour'}, inplace=True))\n",
    "print(data)"
   ]
  },
  {
   "cell_type": "code",
   "execution_count": 41,
   "id": "cacfcc02-d98c-4b89-8e17-283fb6e6d893",
   "metadata": {},
   "outputs": [
    {
     "name": "stdout",
     "output_type": "stream",
     "text": [
      "Original Dataset\n",
      "        Fruit   Color  Price\n",
      "0       Apple     Red     45\n",
      "1     Avacado   Green     90\n",
      "2      Banana  Yellow     60\n",
      "3  Strawberry    Pink     37\n",
      "4       Grape   Green     49\n",
      "After Updating Values\n",
      "       Fruit   Color  Price\n",
      "0      Apple     Red     45\n",
      "1    Avacado   Green     90\n",
      "2     Banana  Yellow     60\n",
      "3  PineApple  Yellow     48\n",
      "4      Grape   Green     49\n",
      "     Fruit  Price\n",
      "1  Avacado     90\n",
      "4    Grape     49\n"
     ]
    }
   ],
   "source": [
    "import pandas as pd\n",
    "fruit_data = {\"Fruit\": ['Apple','Avacado','Banana','Strawberry','Grape'],\"Color\":\n",
    "['Red','Green','Yellow','Pink','Green'],\n",
    "\"Price\": [45, 90, 60, 37, 49]\n",
    "}\n",
    "#Dataframe\n",
    "data = pd.DataFrame(fruit_data)\n",
    "print(\"Original Dataset\")\n",
    "print(data)\n",
    "#update\n",
    "data.loc[3] = ['PineApple','Yellow',48]\n",
    "print(\"After Updating Values\")\n",
    "print(data)\n",
    "print(data.loc[[1,4], ['Fruit','Price']])"
   ]
  },
  {
   "cell_type": "code",
   "execution_count": 10,
   "id": "f2c1600a-f545-45bb-8274-80a41473438f",
   "metadata": {},
   "outputs": [
    {
     "name": "stdout",
     "output_type": "stream",
     "text": [
      "       Fruit   Color  Price\n",
      "0      Apple     Red     45\n",
      "1    Avacado   Green     90\n",
      "2     Banana  Yellow     60\n",
      "3  PineApple  Yellow     30\n",
      "4      Grape   Green     49\n"
     ]
    }
   ],
   "source": [
    "data.loc[3, 2]=30#loc[row,  col]#iloc[row, col](fetch row or col based on index even if they are in non integer)\n",
    "print(data)"
   ]
  },
  {
   "cell_type": "code",
   "execution_count": 42,
   "id": "d3ebbd97-01aa-4912-979a-3c0c753ee637",
   "metadata": {},
   "outputs": [
    {
     "name": "stdout",
     "output_type": "stream",
     "text": [
      "After Updating Values\n",
      "       Fruit   Color  Price        Remarks\n",
      "0      Apple     Red     45  Not Expensive\n",
      "1    Avacado   Green     90      Expensive\n",
      "2     Banana  Yellow     60            nan\n",
      "3  PineApple  Yellow     48  Not Expensive\n",
      "4      Grape   Green     49  Not Expensive\n"
     ]
    }
   ],
   "source": [
    "data.loc[data['Price'] >60, 'Remarks'] = 'Expensive'\n",
    "data.loc[data['Price'] <60, 'Remarks'] = 'Not Expensive'\n",
    "print(\"After Updating Values\")\n",
    "print(data)\n"
   ]
  },
  {
   "cell_type": "code",
   "execution_count": 21,
   "id": "fe396127-e656-4b53-b004-d90b090649d0",
   "metadata": {},
   "outputs": [
    {
     "name": "stdout",
     "output_type": "stream",
     "text": [
      "       Fruit   Color  Price        Remarks\n",
      "0      Apple     Red     45  Not Expensive\n",
      "1    Avacado   Green     90      Expensive\n",
      "3  PineApple  Yellow     30  Not Expensive\n",
      "4      Grape   Green     49  Not Expensive\n"
     ]
    }
   ],
   "source": [
    "df=data.loc[data['Fruit']!=\"Banana\"]\n",
    "print(df)"
   ]
  },
  {
   "cell_type": "code",
   "execution_count": 26,
   "id": "82ffeaa6-8d12-4b80-9d55-c0168101e041",
   "metadata": {},
   "outputs": [
    {
     "name": "stdout",
     "output_type": "stream",
     "text": [
      "       Fruit   Color  Price\n",
      "0      Apple     Red     45\n",
      "1    Avacado   Green     90\n",
      "3  PineApple  Yellow     30\n",
      "4      Grape   Green     49\n"
     ]
    }
   ],
   "source": [
    "df=df.loc[::,df.columns!='Remarks']\n",
    "print(df)"
   ]
  },
  {
   "cell_type": "code",
   "execution_count": 30,
   "id": "659bdfb0-d71b-4061-8fef-9b9862c53857",
   "metadata": {},
   "outputs": [
    {
     "name": "stdout",
     "output_type": "stream",
     "text": [
      "       Fruit   Color\n",
      "0      Apple     Red\n",
      "1    Avacado   Green\n",
      "3  PineApple  Yellow\n",
      "4      Grape   Green\n",
      "None\n"
     ]
    }
   ],
   "source": [
    "d=df.drop('Price', axis=1, inplace=True)\n",
    "print(df)\n",
    "print(d)"
   ]
  },
  {
   "cell_type": "code",
   "execution_count": 43,
   "id": "d64d68f1-e955-4bd5-a16a-74a9e2e95843",
   "metadata": {},
   "outputs": [
    {
     "name": "stdout",
     "output_type": "stream",
     "text": [
      "       Fruit   Color  Price        Remarks\n",
      "0      Apple     Red     45  Not Expensive\n",
      "1    Avacado   Green     90      Expensive\n",
      "2     Banana  Yellow     60            nan\n",
      "3  PineApple  Yellow     48  Not Expensive\n",
      "4      Grape   Green     49  Not Expensive\n",
      "       Fruit   Color  Price        Remarks\n",
      "0      Apple     Red     45  Not Expensive\n",
      "1    Avacado   Green     90      Expensive\n",
      "2     Banana  Yellow     60            nan\n",
      "3  PineApple  Yellow     48  Not Expensive\n",
      "4      Grape   Green     49  Not Expensive\n"
     ]
    }
   ],
   "source": [
    "import numpy as np\n",
    "d=data.dropna()\n",
    "print(d)\n",
    "print(data)"
   ]
  },
  {
   "cell_type": "code",
   "execution_count": 5,
   "id": "949a1557-ecb0-4983-83b5-208c0124a3d2",
   "metadata": {},
   "outputs": [
    {
     "name": "stdout",
     "output_type": "stream",
     "text": [
      "       item_id  user_id  rating  timestamp  gender    category       brand  \\\n",
      "0            7      131       4      36692  Female  Home Audio     Philips   \n",
      "1           19      231       5      36891  Female      Camera       Canon   \n",
      "2           14      233       5      36893  Female      Camera       Kodak   \n",
      "3           14      257       5      36926  Female      Camera       Kodak   \n",
      "4           14      269       5      36952  Female      Camera       Kodak   \n",
      "...        ...      ...     ...        ...     ...         ...         ...   \n",
      "45161     7828  1157458       5      43341  Female  Headphones        Bose   \n",
      "45162     8624  1157504       5      43342  Female  Headphones        Pyle   \n",
      "45163     9513  1157527       5      43344    Male  Headphones        Mpow   \n",
      "45164     9125  1157555       3      43348  Female  Headphones      EldHus   \n",
      "45165     9478  1157632       1      43374  Female  Headphones  Etre Jeune   \n",
      "\n",
      "       year  month  quantity  unitprice  amount  \n",
      "0      2000      6         5       6360   31800  \n",
      "1      2000     12        10       9955   99550  \n",
      "2      2001      1         9       7639   68751  \n",
      "3      2001      2         7       5097   35679  \n",
      "4      2001      3        10       6472   64720  \n",
      "...     ...    ...       ...        ...     ...  \n",
      "45161  2018      8         7       5925   41475  \n",
      "45162  2018      8         7       9717   68019  \n",
      "45163  2018      9         8       9197   73576  \n",
      "45164  2018      9        10       8848   88480  \n",
      "45165  2018     10         7       7717   54019  \n",
      "\n",
      "[45166 rows x 12 columns]\n",
      "<class 'pandas.core.frame.DataFrame'>\n"
     ]
    }
   ],
   "source": [
    "data=pd.read_csv('sale_data (2).csv', delimiter=',')\n",
    "print(data)\n",
    "print(type(data))"
   ]
  },
  {
   "cell_type": "code",
   "execution_count": 59,
   "id": "e89286d5-d8d7-4468-a7a8-40475ab97f7b",
   "metadata": {},
   "outputs": [],
   "source": [
    "data.loc[0, 'rating']=5\n",
    "data.to_csv('update.csv')"
   ]
  },
  {
   "cell_type": "code",
   "execution_count": 3,
   "id": "c7834bd4-4036-4c40-978b-87cc09268610",
   "metadata": {},
   "outputs": [
    {
     "name": "stderr",
     "output_type": "stream",
     "text": [
      "<>:2: SyntaxWarning: invalid escape sequence '\\A'\n",
      "<>:2: SyntaxWarning: invalid escape sequence '\\A'\n",
      "C:\\Users\\Acer\\AppData\\Local\\Temp\\ipykernel_27644\\3521097346.py:2: SyntaxWarning: invalid escape sequence '\\A'\n",
      "  data=pd.read_excel('D:\\Afshan\\Desktop Backup Data\\Desktop Bkp 202202\\Different sample files\\product.xlsx',sheet_name=\"practice orderline_t\")\n"
     ]
    },
    {
     "name": "stdout",
     "output_type": "stream",
     "text": [
      "    OrderID  ProductID  OrderedQuantity\n",
      "0      1001          1                2\n",
      "1      1001          2                2\n",
      "2      1001          4                1\n",
      "3      1002          3                5\n",
      "4      1003          3                3\n",
      "5      1004          6                2\n",
      "6      1004          8                2\n",
      "7      1005          4                3\n",
      "8      1006          4                1\n",
      "9      1006          5                2\n",
      "10     1006          7                2\n",
      "11     1007          1                3\n",
      "12     1007          2                2\n",
      "13     1008          3                3\n",
      "14     1008          8                3\n",
      "15     1009          4                2\n",
      "16     1009          7                3\n",
      "17     1010          8               10\n"
     ]
    }
   ],
   "source": [
    "import pandas as pd\n",
    "data=pd.read_excel('D:\\Afshan\\Desktop Backup Data\\Desktop Bkp 202202\\Different sample files\\product.xlsx',sheet_name=\"practice orderline_t\")\n",
    "print(data)"
   ]
  },
  {
   "cell_type": "code",
   "execution_count": 4,
   "id": "edb612c1-dab0-484a-85a8-072189af93f9",
   "metadata": {},
   "outputs": [
    {
     "name": "stdout",
     "output_type": "stream",
     "text": [
      "      id                 name                               email  \\\n",
      "0   4051                manoj                     manoj@gmail.com   \n",
      "1   4050               pankaj                        p1@gmail.com   \n",
      "2   3050           Neeraj1993   neeraj.singh@adequateinfosoft.com   \n",
      "3   3049               Sophia                    sophia@gmail.com   \n",
      "4   3048          Raju Prasad                 raju.nsit@gmail.com   \n",
      "5   3047    Ankiish Thapliyal       thapliyalankiish958@gmail.com   \n",
      "6   3046      Aryan Thapliyal            ashithewarrior@gmail.com   \n",
      "7   3045               shivam                    shivam@gmail.com   \n",
      "8   3044       Navya Upadhyay            navya.adequate@gmail.com   \n",
      "9   3043           Ritu singh         ritusinghadequate@gmail.com   \n",
      "10  3042                 faiz              faizadequate@gmail.com   \n",
      "11  3041        Martin Wilson          ravencomputer667@gmail.com   \n",
      "12  3040         Shweta Singh          amelia.claire.hi@gmail.com   \n",
      "13  3039               jagjit  jagjit.singh.adequate.36@gmail.com   \n",
      "14  3038             Ashi 123                   ashi123@gmail.com   \n",
      "15  3037        shivamvermaa4             shivam.vemaa4@gmail.com   \n",
      "16  3036               Sophia                        n2@gmail.com   \n",
      "17  3035                   n1                        n1@gmail.com   \n",
      "18  3034                 neha                      neha@gmail.com   \n",
      "19  3033               sanjay                    sanjay@gmail.com   \n",
      "20  3032                Akku2                     akku2@gmail.com   \n",
      "21  3031     Ashish Thapliyal                     ashi1@gmail.com   \n",
      "22  3030                singh                     singh@gmail.com   \n",
      "23  3029         Akku Testing                     akku1@gmail.com   \n",
      "24  3028      Aakankshi Gupta         aakankshi.cuminte@gmail.com   \n",
      "25  3026    Manresh Chandra 5                  manresh5@gmail.com   \n",
      "26  3025    Manresh Chandra 4                  manresh4@gmail.com   \n",
      "27  3024    Manresh Chandra 3                  manresh3@gmail.com   \n",
      "28  3023    Manresh Chandra 2                  manresh2@gmail.com   \n",
      "29  3022          Raju Prasad    raju.prasad@adequateinfosoft.com   \n",
      "30  3021          Ashok Patel                 ashoktest@gmail.com   \n",
      "31  2021             manresh1                  manresh1@gmail.com   \n",
      "32  2020      Manresh Chandra                   manresh@gmail.com   \n",
      "33  2019                 Test                aakankshi7@gmail.com   \n",
      "34  2018           aakankshi6                aakankshi6@gmail.com   \n",
      "35  2017           aakankshi5                aakankshi5@gmail.com   \n",
      "36  2016           aakankshi4                aakankshi4@gmail.com   \n",
      "37  2015           aakankshi3                aakankshi3@gmail.com   \n",
      "38  2014          Aakankshi 2                aakankshi2@gmail.com   \n",
      "39  2013          Aakankshi 1                aakankshi1@gmail.com   \n",
      "40  2012      Aakankshi Gupta                 aakankshi@gmail.com   \n",
      "41  2011             Aankashi                 alokpatel@gmail.com   \n",
      "42  2010              Test 10                    test02@gmail.com   \n",
      "43  2009               Test 9                    test10@gmail.com   \n",
      "44  2008               Test 8                      test3@test.com   \n",
      "45  2007         Neeraj Singh            neirajsingh100@gmail.com   \n",
      "46  2006  Hr. Niels Henriksen        contact@adequateinfosoft.com   \n",
      "47  2005               Test 6            pankajadequate@gmail.com   \n",
      "48  2004               Test 5                  pankajws@gmail.com   \n",
      "49     2         rajat Saxena              rajat.nirmal@gmail.com   \n",
      "50     3         Pankaj Patel                    Pankaj@gmail.com   \n",
      "51  1003               Test 2                 pankajabc@gmail.com   \n",
      "52  1004               Test 2                pankajabcd@gmail.com   \n",
      "53  1005               Test 3                       test@test.com   \n",
      "54  1006               Test 4                      test1@test.com   \n",
      "\n",
      "                 password                                              about  \\\n",
      "0                Test@123                                               None   \n",
      "1                Test@123                                               None   \n",
      "2                  286956                                               None   \n",
      "3                Test@123                                                 Yo   \n",
      "4               Raju@1234                          Don't Quit Your Day Dream   \n",
      "5               Test@1234  I failed many opportunities may times but I am...   \n",
      "6               Test@1234  Testing is required for an effective performan...   \n",
      "7              Shivam@123                                               None   \n",
      "8               navya2123                                               None   \n",
      "9           ritusingh1234                                               None   \n",
      "10              Test@1234        I am who I am. Your approval is not needed.   \n",
      "11             martin@123                                        Travelers,    \n",
      "12              Test@1234  What others think of me is none of my business...   \n",
      "13              Test@1234  Take a chance and live life to the fullest. Wh...   \n",
      "14              Test@1234                                               None   \n",
      "15             Shivam@123                                               None   \n",
      "16               Test@123                                                 WE   \n",
      "17               Test@123                               An ordinary Bharitya   \n",
      "18               Test@123                                               None   \n",
      "19               Test@123                                               None   \n",
      "20               zxcvbnm1                                               None   \n",
      "21              Test@1234  I Am Who I Am, Your Approval Is Not Needed. I ...   \n",
      "22               Test@123                                        jdfgjghjgf    \n",
      "23               zxcvbnm1  For some reason you've got \"bootstrap-sass\": \"...   \n",
      "24  116331365713184193775                                               None   \n",
      "25               zxcvbnm1  about.me is a personal web hosting service co-...   \n",
      "26               zxcvbnm1                                               None   \n",
      "27               zxcvbnm1                                               None   \n",
      "28               zxcvbnm1                                               None   \n",
      "29              Raju@1234                                               None   \n",
      "30          ashokpatel457                                               None   \n",
      "31               zxcvbnm1                                               None   \n",
      "32               zxcvbnm1  My Name is Manresh Chandra. I'm self Motivated...   \n",
      "33               zxcvbnm1                                               test   \n",
      "34               zxcvbnm1  A traveller without observation is a bird with...   \n",
      "35               zxcvbnm1                                               None   \n",
      "36               zxcvbnm1                                               None   \n",
      "37               zxcvbnm1                                               None   \n",
      "38               zxcvbnm1                                         ewewrewrew   \n",
      "39               zxcvbnm1  foundations in psychology and sociology and st...   \n",
      "40               zxcvbnm1                                               None   \n",
      "41             pankaj@123                                             its me   \n",
      "42                 123456                                               None   \n",
      "43                 123456                                               None   \n",
      "44                 123456                                               None   \n",
      "45  100569704678350206382                                               None   \n",
      "46        354343138574152                            i am software developer   \n",
      "47   sndsjkdsaj161564sasa                                               None   \n",
      "48             Pankaj@123                                               None   \n",
      "49                   test                                               abcd   \n",
      "50                 123456                                               None   \n",
      "51             Pankaj@123                             An ordinary bhartiya..   \n",
      "52             Pankaj@123                                               None   \n",
      "53                 123456                                               None   \n",
      "54                 123456                                               None   \n",
      "\n",
      "                                   token  country  \\\n",
      "0   7f471974-ae46-4ac0-a882-1980c300c4d6      NaN   \n",
      "1   e269eeef-1de1-4438-885a-e30a9ad26106      NaN   \n",
      "2   562c2fb5-6799-4b51-8733-a60564c96adc      NaN   \n",
      "3   f3bc9393-ad13-41a2-a69b-b607a42d829f      NaN   \n",
      "4   b3eda104-0771-4804-8be2-0e6d7c16412d      NaN   \n",
      "5   caf070df-d2c2-4e99-ba06-9482ef5eb7ba      NaN   \n",
      "6   c8cb5636-cd01-4133-adac-360cecc710af      NaN   \n",
      "7   59b6f0af-fc25-4a6b-b865-5fb29023c6df      NaN   \n",
      "8   0362f1b5-80be-4dff-bd40-c236c79561eb      NaN   \n",
      "9   a268517f-960a-418a-9c89-48708372702d      NaN   \n",
      "10  33dd5829-0a01-4b3b-80d3-1a63a75b3436      NaN   \n",
      "11  18ceb759-241c-43d3-a9eb-5344ea2ef1d9      NaN   \n",
      "12  e32b4e12-18f3-4fd0-9a3d-2021d8381dff      NaN   \n",
      "13  1e150816-7075-4d6d-b3d6-eb1c0e415e61      NaN   \n",
      "14  61a43ad3-02b3-4431-8c1b-1d29933147e1      NaN   \n",
      "15  97534ce9-5386-4b92-9741-fc1860bbcd1a      NaN   \n",
      "16  1ebfb0ac-7d98-43fb-ba41-0e40091c6071      NaN   \n",
      "17  c40422ef-27ac-4e40-adf5-87403143dc99      NaN   \n",
      "18  6aaaa999-8e14-40ca-b043-087624c48fd1      NaN   \n",
      "19  c9989beb-685a-41d7-b6de-77dd208979df      NaN   \n",
      "20  12ac2112-c7b3-47d3-8d48-e839a1ce3955      NaN   \n",
      "21  8889db9b-01f6-4305-b07d-aecc516037bb      NaN   \n",
      "22  280a1f00-8597-4eee-8d46-9c8d5a120ac7      NaN   \n",
      "23  7b0400eb-cd4f-45df-a8db-0c0871d46906      NaN   \n",
      "24  c916c01f-5844-445b-9f5a-e60d77ecb620      NaN   \n",
      "25  3c8ad706-9667-477a-adb6-3539f7b10a67      NaN   \n",
      "26  8131e59d-7c83-4024-9423-0639a5887b52      NaN   \n",
      "27  dc752b59-3d36-4b07-bc5c-6cd5913bae83      NaN   \n",
      "28  867f49f2-8af8-45bf-9bd5-28ec641d3c44      NaN   \n",
      "29  58ecfd42-7f10-440e-8007-29c6fa524040      NaN   \n",
      "30  520302ff-b08d-445f-be70-11c02d257e7e      NaN   \n",
      "31  9305e1c5-82e2-4a79-b0ca-37bb5880f505      NaN   \n",
      "32  bc370f5f-7d13-4fe6-9c2c-848198394f8a      NaN   \n",
      "33  5a1218d2-5d66-4255-9137-0f7e700bdcab      NaN   \n",
      "34  0ab8257f-7574-476d-b96f-508d3917af9b      NaN   \n",
      "35  b6fcf970-3271-492b-866c-76238f126c3f      NaN   \n",
      "36  1b43db89-29a4-4966-ae57-86d705978dd3      NaN   \n",
      "37  d65f85e3-0f8d-4c67-8de8-1546a7518cba      NaN   \n",
      "38  4e2923a9-b059-4dc9-8d92-ce0cffa84208      NaN   \n",
      "39  d7fa7194-5ac2-4e32-b11b-3792e5cc067c      NaN   \n",
      "40  4c02ee6e-2cb5-4b75-888f-4adb7c790dad      NaN   \n",
      "41  4516169a-58e3-4d04-a355-8c608be5d583      NaN   \n",
      "42  ba805b5d-f38f-4a33-9fcb-60f30923479d      NaN   \n",
      "43  1fa26ffa-465e-499f-ae9d-3e36fb94a0ea      NaN   \n",
      "44  822e8f5c-74ba-41f9-911e-9e5a47351dc5      NaN   \n",
      "45  47d25887-1933-4cbc-a4eb-6cc829c9cad6      NaN   \n",
      "46  347d684e-da9b-450e-bc94-cd5a99b04234      NaN   \n",
      "47  7a4ae2e1-5b65-4aad-96f0-43336fad5a3b      NaN   \n",
      "48  1fd08288-57aa-41d9-ae44-29fcbb0a78a6      NaN   \n",
      "49  00fb57db-10ad-4661-b3e0-7366c6698ac0      NaN   \n",
      "50  f6b4bcc8-448b-4b65-84cb-48e9569c5cfe      NaN   \n",
      "51  c8f53478-4cfb-4382-8531-b44b6d20cd8c      NaN   \n",
      "52  3f92cdef-1d8a-4f08-8468-9938dc9284ce      NaN   \n",
      "53  cc2ed6c5-0a59-4aca-9b8e-a686e0a4fa03      NaN   \n",
      "54  f33f3325-bb08-41a5-b545-d2b5c443720f      NaN   \n",
      "\n",
      "                                             location     lng       lat  ...  \\\n",
      "0                                                None  0.0000  0.000000  ...   \n",
      "1                                                None  0.0000  0.000000  ...   \n",
      "2                                                None  0.0000  0.000000  ...   \n",
      "3     18302 Lorance Trail, Little Rock, AR 72206, USA  0.0000  0.000000  ...   \n",
      "4   Karbala Rd, Block G, Sector 5, Dakshinpuri, Ne...  0.0000  0.000000  ...   \n",
      "5                                            Dehradun  0.0000  0.000000  ...   \n",
      "6                                            Dehradun  0.0000  0.000000  ...   \n",
      "7                                                None  0.0000  0.000000  ...   \n",
      "8                                                None  0.0000  0.000000  ...   \n",
      "9                                                None  0.0000  0.000000  ...   \n",
      "10                                          New Delhi  0.0000  0.000000  ...   \n",
      "11     Moorgate Station (Stop N), London EC2Y 5EJ, UK  0.0000  0.000000  ...   \n",
      "12  India - Pakistan Border Rd, Bakhasar, Rajastha...  0.0000  0.000000  ...   \n",
      "13  Delhi - Meerut Expy, Nai Basti Dundahera, Ghaz...  0.0000  0.000000  ...   \n",
      "14                                               None  0.0000  0.000000  ...   \n",
      "15                                               None  0.0000  0.000000  ...   \n",
      "16     Saint-Louis-Strasse 3, 4056 Basel, Switzerland  0.0000  0.000000  ...   \n",
      "17  451 DERA THAKRAN HARIDWAR ROAD MAHANT BALBIR S...  0.0000  0.000000  ...   \n",
      "18                                               None  0.0000  0.000000  ...   \n",
      "19                                               None  0.0000  0.000000  ...   \n",
      "20                                               None  0.0000  0.000000  ...   \n",
      "21  NH34, Shatabdi Nagar, Rithani, Meerut, Uttar P...  0.0000  0.000000  ...   \n",
      "22               Jg Halli Rd, Karnataka 577533, India  0.0000  0.000000  ...   \n",
      "23  Noida-Greater Noida Expressway, Amit Nagar, Sa...  0.0000  0.000000  ...   \n",
      "24                                               None  0.0000  0.000000  ...   \n",
      "25                                    Deák Ferenc tér  0.0000  0.000000  ...   \n",
      "26                                               None  0.0000  0.000000  ...   \n",
      "27                                               None  0.0000  0.000000  ...   \n",
      "28                                               None  0.0000  0.000000  ...   \n",
      "29                                               None  0.0000  0.000000  ...   \n",
      "30                                               None  0.0000  0.000000  ...   \n",
      "31                                               None  0.0000  0.000000  ...   \n",
      "32                                               None  0.0000  0.000000  ...   \n",
      "33                                              Noida  0.0000  0.000000  ...   \n",
      "34                                              Noida  0.0000  0.000000  ...   \n",
      "35                                               None  0.0000  0.000000  ...   \n",
      "36                                               None  0.0000  0.000000  ...   \n",
      "37                                               None  0.0000  0.000000  ...   \n",
      "38                               Dada Dev Mandir Road  0.0000  0.000000  ...   \n",
      "39                                              Delhi  0.0000  0.000000  ...   \n",
      "40                                               None  0.0000  0.000000  ...   \n",
      "41                                          New Delhi  0.0000  0.000000  ...   \n",
      "42                                               None  0.0000  0.000000  ...   \n",
      "43                                               None  0.0000  0.000000  ...   \n",
      "44                                               None  0.0000  0.000000  ...   \n",
      "45                                               None  0.0000  0.000000  ...   \n",
      "46  Jaypee Greens Pari Chowk, Tugalpur Village, Gr...  0.0000  0.000000  ...   \n",
      "47                                               None  0.0000  0.000000  ...   \n",
      "48                                               None  0.0000  0.000000  ...   \n",
      "49                                               3465  8.7977  5.834876  ...   \n",
      "50                                               None  0.0000  0.000000  ...   \n",
      "51  Jaipur Engineering College Rd, Kukas, Rajastha...  0.0000  0.000000  ...   \n",
      "52                                               None  0.0000  0.000000  ...   \n",
      "53                                               None  0.0000  0.000000  ...   \n",
      "54                                               None  0.0000  0.000000  ...   \n",
      "\n",
      "   sendmenotifications  sendTextmessages  enabletagging  \\\n",
      "0                False             False          False   \n",
      "1                False             False          False   \n",
      "2                False             False          False   \n",
      "3                False             False          False   \n",
      "4                 True              True           True   \n",
      "5                 True              True           True   \n",
      "6                False             False          False   \n",
      "7                False             False          False   \n",
      "8                False             False          False   \n",
      "9                False             False          False   \n",
      "10               False             False          False   \n",
      "11                True             False          False   \n",
      "12               False             False          False   \n",
      "13               False             False          False   \n",
      "14               False             False          False   \n",
      "15               False             False          False   \n",
      "16               False             False          False   \n",
      "17               False             False          False   \n",
      "18               False             False          False   \n",
      "19               False             False          False   \n",
      "20               False             False          False   \n",
      "21                True              True           True   \n",
      "22               False             False          False   \n",
      "23                True              True          False   \n",
      "24               False             False          False   \n",
      "25                True              True          False   \n",
      "26               False             False          False   \n",
      "27               False             False          False   \n",
      "28               False             False          False   \n",
      "29               False             False          False   \n",
      "30               False             False          False   \n",
      "31               False             False          False   \n",
      "32               False             False          False   \n",
      "33               False             False          False   \n",
      "34               False             False          False   \n",
      "35               False             False          False   \n",
      "36               False             False          False   \n",
      "37               False             False          False   \n",
      "38                True              True          False   \n",
      "39                True              True           True   \n",
      "40               False             False          False   \n",
      "41               False             False          False   \n",
      "42               False             False          False   \n",
      "43               False             False          False   \n",
      "44               False             False          False   \n",
      "45               False             False          False   \n",
      "46               False             False          False   \n",
      "47               False             False          False   \n",
      "48               False             False          False   \n",
      "49               False             False          False   \n",
      "50               False             False          False   \n",
      "51               False             False          False   \n",
      "52               False             False          False   \n",
      "53               False             False          False   \n",
      "54               False             False          False   \n",
      "\n",
      "                      createdAt                    updatedAt    livelng  \\\n",
      "0   2020-01-01T11:13:27.1107739   2020-01-02T09:16:49.284864  77.389849   \n",
      "1   2020-01-01T07:39:34.1618239   2020-01-01T07:39:34.161824   0.000000   \n",
      "2   2019-12-27T10:16:05.6578091  2019-12-27T10:22:30.8416992  77.389849   \n",
      "3   2019-12-26T07:36:22.3481221  2019-12-26T07:36:22.3481222  77.367424   \n",
      "4   2019-12-26T07:17:08.3460039  2019-12-26T14:27:00.4327446  77.367424   \n",
      "5   2019-12-26T07:13:01.9262534  2019-12-30T11:11:00.4082038  77.379004   \n",
      "6   2019-12-26T07:10:53.2318238  2019-12-30T05:32:04.0700419  77.379012   \n",
      "7   2019-12-26T07:01:24.5014557  2019-12-26T07:02:16.9663295  77.367424   \n",
      "8   2019-12-26T06:53:22.1076016  2019-12-26T06:53:22.1076017   0.000000   \n",
      "9   2019-12-26T06:53:10.2343196  2019-12-26T06:53:10.2343197   0.000000   \n",
      "10  2019-12-26T06:30:58.6524884    2019-12-30T06:57:19.58494  77.379012   \n",
      "11  2019-12-26T06:22:36.1180762  2019-12-26T06:29:14.6591852   0.000000   \n",
      "12  2019-12-26T06:20:51.0353245  2019-12-30T06:24:31.9803752  77.379004   \n",
      "13   2019-12-26T06:20:32.873132  2020-01-02T06:29:36.6383214  77.379012   \n",
      "14  2019-12-26T05:30:27.4225101  2019-12-26T05:30:27.4225102   0.000000   \n",
      "15  2019-12-24T11:58:30.3613651  2019-12-24T11:58:30.3613651  77.389849   \n",
      "16  2019-12-24T11:36:36.1739424  2019-12-26T09:48:57.2586835  77.389849   \n",
      "17  2019-12-24T11:36:03.4815197  2020-01-02T07:20:34.2742376  77.389849   \n",
      "18  2019-12-24T10:35:00.1292083  2019-12-24T10:35:00.1292083  77.367424   \n",
      "19  2019-12-24T08:16:23.8466413  2019-12-24T08:16:23.8466414  77.367424   \n",
      "20  2019-12-24T07:30:32.9445148  2019-12-24T07:30:32.9445148  77.379047   \n",
      "21  2019-12-24T06:52:08.6757278  2020-01-02T06:30:51.6595305  77.379017   \n",
      "22  2019-12-24T06:32:23.0727945  2019-12-24T09:39:40.1944746  77.389824   \n",
      "23  2019-12-24T06:31:54.9038705  2019-12-24T13:00:12.9520741  77.379025   \n",
      "24   2019-12-16T06:56:43.320768  2019-12-16T06:56:43.3207681  77.379024   \n",
      "25  2019-12-16T05:13:28.5717641  2019-12-16T05:13:28.5717641  77.379034   \n",
      "26   2019-12-16T05:11:34.473505   2019-12-16T05:11:34.473505   0.000000   \n",
      "27  2019-12-16T05:03:39.4564421  2019-12-16T05:03:39.4564423   0.000000   \n",
      "28  2019-12-16T05:01:14.0246654  2019-12-16T05:01:14.0246654   0.000000   \n",
      "29  2019-12-13T14:36:34.2151655  2019-12-13T14:36:34.2151655   0.000000   \n",
      "30  2019-12-13T13:47:59.4288322  2019-12-13T13:47:59.4288322   0.000000   \n",
      "31  2019-12-13T13:17:31.2904215  2019-12-13T13:17:31.2904216   0.000000   \n",
      "32  2019-12-13T07:08:47.9644619  2019-12-13T07:08:47.9644619   0.000000   \n",
      "33  2019-12-05T05:39:51.4928759   2019-12-05T06:41:24.107938   0.000000   \n",
      "34  2019-12-05T05:16:04.4212331  2019-12-05T12:25:13.6221215   0.000000   \n",
      "35  2019-12-05T05:06:49.1838089  2019-12-05T05:22:00.9403881   0.000000   \n",
      "36  2019-12-05T05:04:21.8383669  2019-12-05T05:21:57.4139934   0.000000   \n",
      "37  2019-12-05T05:02:05.1655627  2019-12-05T05:21:54.2379269   0.000000   \n",
      "38  2019-12-05T05:00:19.5034062  2019-12-05T05:00:19.5034063  77.379025   \n",
      "39  2019-12-05T04:38:32.7808454  2019-12-06T05:41:05.3597939  77.389849   \n",
      "40  2019-12-05T04:35:42.6189131  2019-12-05T04:35:42.6189131   0.000000   \n",
      "41  2019-11-30T05:36:52.1332523  2019-12-05T05:21:49.0948144   0.000000   \n",
      "42  2019-11-27T10:41:07.8215121  2019-11-27T10:41:07.8215122   0.000000   \n",
      "43  2019-11-27T10:20:10.5816545  2019-11-27T10:20:10.5816545   0.000000   \n",
      "44  2019-11-27T10:09:42.6969868  2019-11-27T10:09:42.6969869   0.000000   \n",
      "45  2019-11-26T12:42:18.6778716  2019-12-05T05:20:40.9827126   0.000000   \n",
      "46   2019-11-26T05:58:34.894975  2019-12-05T05:20:37.5393081  77.379024   \n",
      "47  2019-11-25T13:12:47.6690112  2019-12-05T05:20:34.2935856   0.000000   \n",
      "48   2019-11-25T11:29:06.938541   2019-12-05T05:20:30.604524   0.000000   \n",
      "49        2019-11-17T16:56:35.8  2019-12-05T05:21:02.1337931   0.000000   \n",
      "50          0001-01-01T00:00:00   2019-12-05T13:25:01.977078   0.000000   \n",
      "51          0001-01-01T00:00:00  2019-12-23T13:43:27.5816869  77.389849   \n",
      "52          0001-01-01T00:00:00  2019-12-05T05:19:23.3650433  77.367424   \n",
      "53          0001-01-01T00:00:00   2019-12-05T05:19:29.704463   0.000000   \n",
      "54          0001-01-01T00:00:00  2019-12-05T05:22:11.8963884   0.000000   \n",
      "\n",
      "      livelat                                       liveLocation  \\\n",
      "0   28.628223  Unnamed Road, Chhijarsi, Sector 63, Noida, Utt...   \n",
      "1    0.000000                                               None   \n",
      "2   28.628223  Unnamed Road, Chhijarsi, Sector 63, Noida, Utt...   \n",
      "3   28.626067  35, Block A, Industrial Area, Sector 62, Noida...   \n",
      "4   28.626067  35, Block A, Industrial Area, Sector 62, Noida...   \n",
      "5   28.630186  Suite No. 203 H - 15 Rise tower, Sector 63, H ...   \n",
      "6   28.630237  H15, H Block, Sector 63, Noida, Uttar Pradesh ...   \n",
      "7   28.626067  35, Block A, Industrial Area, Sector 62, Noida...   \n",
      "8    0.000000                                               None   \n",
      "9    0.000000                                               None   \n",
      "10  28.630232  H15, H Block, Sector 63, Noida, Uttar Pradesh ...   \n",
      "11   0.000000                                               None   \n",
      "12  28.630206  Suite No. 203 H - 15 Rise tower, Sector 63, H ...   \n",
      "13  28.630190  H15, H Block, Sector 63, Noida, Uttar Pradesh ...   \n",
      "14   0.000000                                               None   \n",
      "15  28.628223  Unnamed Road, Chhijarsi, Sector 63, Noida, Utt...   \n",
      "16  28.628223  Unnamed Road, Chhijarsi, Sector 63, Noida, Utt...   \n",
      "17  28.628223  Unnamed Road, Chhijarsi, Sector 63, Noida, Utt...   \n",
      "18  28.626067  35, Block A, Industrial Area, Sector 62, Noida...   \n",
      "19  28.626067  35, Block A, Industrial Area, Sector 62, Noida...   \n",
      "20  28.630220  H15, H Block, Sector 63, Noida, Uttar Pradesh ...   \n",
      "21  28.630194  H15, H Block, Sector 63, Noida, Uttar Pradesh ...   \n",
      "22  28.628582  noidya sector 63 Vidya polymer, Chhijarsi, Sec...   \n",
      "23  28.630216  H15, H Block, Sector 63, Noida, Uttar Pradesh ...   \n",
      "24  28.630210  H15, H Block, Sector 63, Noida, Uttar Pradesh ...   \n",
      "25  28.630178  H15, H Block, Sector 63, Noida, Uttar Pradesh ...   \n",
      "26   0.000000                                               None   \n",
      "27   0.000000                                               None   \n",
      "28   0.000000                                               None   \n",
      "29   0.000000                                               None   \n",
      "30   0.000000                                               None   \n",
      "31   0.000000                                               None   \n",
      "32   0.000000                                               None   \n",
      "33   0.000000                                               None   \n",
      "34   0.000000                                               None   \n",
      "35   0.000000                                               None   \n",
      "36   0.000000                                               None   \n",
      "37   0.000000                                               None   \n",
      "38  28.630214  H15, H Block, Sector 63, Noida, Uttar Pradesh ...   \n",
      "39  28.628223  Unnamed Road, Chhijarsi, Sector 63, Noida, Utt...   \n",
      "40   0.000000                                               None   \n",
      "41   0.000000                                               None   \n",
      "42   0.000000                                               None   \n",
      "43   0.000000                                               None   \n",
      "44   0.000000                                               None   \n",
      "45   0.000000                                               None   \n",
      "46  28.630209  H15, H Block, Sector 63, Noida, Uttar Pradesh ...   \n",
      "47   0.000000                                               None   \n",
      "48   0.000000                                               None   \n",
      "49   0.000000                                               None   \n",
      "50   0.000000                                               None   \n",
      "51  28.628223  Unnamed Road, Chhijarsi, Sector 63, Noida, Utt...   \n",
      "52  28.626067  35, Block A, Industrial Area, Sector 62, Noida...   \n",
      "53   0.000000                                               None   \n",
      "54   0.000000                                               None   \n",
      "\n",
      "    creditBalance  myCash  \n",
      "0             127       0  \n",
      "1               0       0  \n",
      "2               0       0  \n",
      "3              36       0  \n",
      "4               5       0  \n",
      "5             167       0  \n",
      "6             160       0  \n",
      "7              11       0  \n",
      "8               5       0  \n",
      "9               5       0  \n",
      "10             38       0  \n",
      "11             18       0  \n",
      "12             77       0  \n",
      "13             32       0  \n",
      "14              0       0  \n",
      "15             10       0  \n",
      "16             45       0  \n",
      "17            187       0  \n",
      "18             53       0  \n",
      "19             81       0  \n",
      "20              0       0  \n",
      "21            206       0  \n",
      "22             30       0  \n",
      "23            161       0  \n",
      "24              0       0  \n",
      "25              0       0  \n",
      "26              0       0  \n",
      "27              3       0  \n",
      "28              0       0  \n",
      "29              0       0  \n",
      "30              3       0  \n",
      "31              2       0  \n",
      "32              3       0  \n",
      "33              2       0  \n",
      "34              0       0  \n",
      "35              1       0  \n",
      "36              0       0  \n",
      "37              0       0  \n",
      "38              5       0  \n",
      "39            269      36  \n",
      "40              3       0  \n",
      "41              4       0  \n",
      "42              3       0  \n",
      "43              0       0  \n",
      "44              0       0  \n",
      "45              2       0  \n",
      "46             11       0  \n",
      "47              2       0  \n",
      "48              4       0  \n",
      "49             43       0  \n",
      "50             62       0  \n",
      "51             16       0  \n",
      "52              3       0  \n",
      "53             44       0  \n",
      "54              1       0  \n",
      "\n",
      "[55 rows x 27 columns]\n"
     ]
    },
    {
     "name": "stderr",
     "output_type": "stream",
     "text": [
      "<>:2: SyntaxWarning: invalid escape sequence '\\A'\n",
      "<>:2: SyntaxWarning: invalid escape sequence '\\A'\n",
      "C:\\Users\\Acer\\AppData\\Local\\Temp\\ipykernel_27644\\2962133674.py:2: SyntaxWarning: invalid escape sequence '\\A'\n",
      "  data=pd.read_json('D:\\Afshan\\Desktop Backup Data\\Desktop Bkp 202202\\Different sample files\\EmployeeData.json')\n"
     ]
    }
   ],
   "source": [
    "import pandas as pd\n",
    "data=pd.read_json('D:\\Afshan\\Desktop Backup Data\\Desktop Bkp 202202\\Different sample files\\EmployeeData.json')\n",
    "print(data)"
   ]
  },
  {
   "cell_type": "code",
   "execution_count": 9,
   "id": "71645d87-c920-4c39-9883-1f18559a2d4c",
   "metadata": {},
   "outputs": [
    {
     "name": "stdout",
     "output_type": "stream",
     "text": [
      "   item_id  user_id  rating  timestamp  gender    category    brand  year  \\\n",
      "0        7      131       4      36692  Female  Home Audio  Philips  2000   \n",
      "1       19      231       5      36891  Female      Camera    Canon  2000   \n",
      "2       14      233       5      36893  Female      Camera    Kodak  2001   \n",
      "3       14      257       5      36926  Female      Camera    Kodak  2001   \n",
      "4       14      269       5      36952  Female      Camera    Kodak  2001   \n",
      "5       15      269       5      36960  Female      Camera    Kodak  2001   \n",
      "6       13      309       5      36995  Female      Camera    Nikon  2001   \n",
      "\n",
      "   month  quantity  unitprice  amount  \n",
      "0      6         5       6360   31800  \n",
      "1     12        10       9955   99550  \n",
      "2      1         9       7639   68751  \n",
      "3      2         7       5097   35679  \n",
      "4      3        10       6472   64720  \n",
      "5      3         7       6342   44394  \n",
      "6      4         7       8146   57022  \n"
     ]
    }
   ],
   "source": [
    "print(data.head(7))#starting 5 records"
   ]
  },
  {
   "cell_type": "code",
   "execution_count": 11,
   "id": "7feadae3-5438-44fc-80e5-73c9078b747a",
   "metadata": {},
   "outputs": [
    {
     "name": "stdout",
     "output_type": "stream",
     "text": [
      "       item_id  user_id  rating  timestamp  gender    category       brand  \\\n",
      "45161     7828  1157458       5      43341  Female  Headphones        Bose   \n",
      "45162     8624  1157504       5      43342  Female  Headphones        Pyle   \n",
      "45163     9513  1157527       5      43344    Male  Headphones        Mpow   \n",
      "45164     9125  1157555       3      43348  Female  Headphones      EldHus   \n",
      "45165     9478  1157632       1      43374  Female  Headphones  Etre Jeune   \n",
      "\n",
      "       year  month  quantity  unitprice  amount  \n",
      "45161  2018      8         7       5925   41475  \n",
      "45162  2018      8         7       9717   68019  \n",
      "45163  2018      9         8       9197   73576  \n",
      "45164  2018      9        10       8848   88480  \n",
      "45165  2018     10         7       7717   54019  \n"
     ]
    }
   ],
   "source": [
    "print(data.tail())#starting 5 records"
   ]
  },
  {
   "cell_type": "code",
   "execution_count": 65,
   "id": "22791e77-fb03-472e-8bd4-b0de1d351964",
   "metadata": {},
   "outputs": [
    {
     "name": "stdout",
     "output_type": "stream",
     "text": [
      "   Student ID            Name   Age Grade        Major   GPA City\n",
      "0           1     Paula Singh   NaN     B      Biology  2.52  LUS\n",
      "1           1     Paula Singh   NaN     B      Biology  2.52  LUS\n",
      "2           2  Louis Robinson  21.0     A      English  3.66  KQK\n",
      "3           3    Nora Krueger  18.0     B      English  3.95  EPV\n",
      "4           4     Jones Myers  19.0     C  Mathematics  3.94  CUR\n"
     ]
    }
   ],
   "source": [
    "data=pd.read_csv('student_data.csv',names= ['Student ID','Name','Age','Grade','Major','GPA','City'], header=0)\n",
    "print(data.head())"
   ]
  },
  {
   "cell_type": "code",
   "execution_count": 24,
   "id": "9726091e-c043-4c2d-9b25-f96fd3b40f98",
   "metadata": {},
   "outputs": [
    {
     "name": "stdout",
     "output_type": "stream",
     "text": [
      "<class 'pandas.core.frame.DataFrame'>\n",
      "RangeIndex: 107 entries, 0 to 106\n",
      "Data columns (total 7 columns):\n",
      " #   Column      Non-Null Count  Dtype  \n",
      "---  ------      --------------  -----  \n",
      " 0   Student ID  107 non-null    int64  \n",
      " 1   Name        106 non-null    object \n",
      " 2   Age         105 non-null    float64\n",
      " 3   Grade       106 non-null    object \n",
      " 4   Major       106 non-null    object \n",
      " 5   GPA         107 non-null    float64\n",
      " 6   City        106 non-null    object \n",
      "dtypes: float64(2), int64(1), object(4)\n",
      "memory usage: 6.0+ KB\n",
      "None\n"
     ]
    }
   ],
   "source": [
    "print(data.info())"
   ]
  },
  {
   "cell_type": "code",
   "execution_count": 26,
   "id": "328834b7-96e6-4d43-bcdb-1743f0608dd8",
   "metadata": {},
   "outputs": [
    {
     "name": "stdout",
     "output_type": "stream",
     "text": [
      "       Student ID         Age         GPA\n",
      "count  107.000000  105.000000  107.000000\n",
      "mean    52.785047   20.914286    3.256822\n",
      "std     30.656966    2.333346    0.427522\n",
      "min      1.000000   18.000000    2.510000\n",
      "25%     26.500000   19.000000    2.910000\n",
      "50%     53.000000   21.000000    3.290000\n",
      "75%     79.500000   23.000000    3.630000\n",
      "max    100.000000   25.000000    3.990000\n"
     ]
    }
   ],
   "source": [
    "print(data.describe())"
   ]
  },
  {
   "cell_type": "code",
   "execution_count": 34,
   "id": "e1e4af90-205d-422b-b5c3-9de559034030",
   "metadata": {},
   "outputs": [
    {
     "name": "stdout",
     "output_type": "stream",
     "text": [
      "GPA\n",
      "2.52    2\n",
      "3.66    3\n",
      "3.95    1\n",
      "3.94    1\n",
      "3.43    1\n",
      "       ..\n",
      "3.21    1\n",
      "3.85    1\n",
      "3.24    1\n",
      "2.98    4\n",
      "3.56    4\n",
      "Name: count, Length: 75, dtype: int64\n"
     ]
    }
   ],
   "source": [
    "print(data['GPA'].value_counts(sort=False, dropna=False))"
   ]
  },
  {
   "cell_type": "code",
   "execution_count": 35,
   "id": "48b1e625-7f1b-42c5-9f29-d23a792d9d37",
   "metadata": {},
   "outputs": [
    {
     "name": "stdout",
     "output_type": "stream",
     "text": [
      "     Student ID               Name   Age Grade        Major   GPA City\n",
      "2             2     Louis Robinson  21.0     A      English  3.66  KQK\n",
      "3             3       Nora Krueger  18.0     B      English  3.95  EPV\n",
      "4             4        Jones Myers  19.0     C  Mathematics  3.94  CUR\n",
      "5             5         Lydia Leon  21.0     D  Mathematics  3.43  AER\n",
      "6             6  Marshall Thompson  18.0     A      Biology  2.82  GOG\n",
      "..          ...                ...   ...   ...          ...   ...  ...\n",
      "102         100      Andy Espinoza  18.0     F      Biology  3.56  WFJ\n",
      "103          99     Vivian Aguirre  19.0     C      History  2.98  TFB\n",
      "104         100      Andy Espinoza  18.0     F      Biology  3.56  WFJ\n",
      "105          99     Vivian Aguirre  19.0     C      History  2.98  TFB\n",
      "106         100      Andy Espinoza  18.0     F      Biology  3.56  WFJ\n",
      "\n",
      "[101 rows x 7 columns]\n"
     ]
    }
   ],
   "source": [
    "print(data.dropna())"
   ]
  },
  {
   "cell_type": "code",
   "execution_count": 61,
   "id": "177514dd-6890-4c4d-9f87-1a1e61370abc",
   "metadata": {},
   "outputs": [
    {
     "name": "stdout",
     "output_type": "stream",
     "text": [
      "None\n"
     ]
    }
   ],
   "source": [
    "print(data.dropna(axis=1, inplace=True))"
   ]
  },
  {
   "cell_type": "code",
   "execution_count": 44,
   "id": "f524a2ec-d366-4e68-a859-376cc17dc9bb",
   "metadata": {},
   "outputs": [
    {
     "name": "stdout",
     "output_type": "stream",
     "text": [
      "     Student ID   GPA\n",
      "0             1  2.52\n",
      "1             1  2.52\n",
      "2             2  3.66\n",
      "3             3  3.95\n",
      "4             4  3.94\n",
      "..          ...   ...\n",
      "102         100  3.56\n",
      "103          99  2.98\n",
      "104         100  3.56\n",
      "105          99  2.98\n",
      "106         100  3.56\n",
      "\n",
      "[107 rows x 2 columns]\n"
     ]
    }
   ],
   "source": [
    "print(data)"
   ]
  },
  {
   "cell_type": "code",
   "execution_count": 46,
   "id": "a9dd1687-3a02-475f-8ef7-35260c6dc191",
   "metadata": {},
   "outputs": [
    {
     "name": "stdout",
     "output_type": "stream",
     "text": [
      "     Student ID   Name    Age  Grade  Major    GPA   City\n",
      "0         False  False   True  False  False  False  False\n",
      "1         False  False   True  False  False  False  False\n",
      "2         False  False  False  False  False  False  False\n",
      "3         False  False  False  False  False  False  False\n",
      "4         False  False  False  False  False  False  False\n",
      "..          ...    ...    ...    ...    ...    ...    ...\n",
      "102       False  False  False  False  False  False  False\n",
      "103       False  False  False  False  False  False  False\n",
      "104       False  False  False  False  False  False  False\n",
      "105       False  False  False  False  False  False  False\n",
      "106       False  False  False  False  False  False  False\n",
      "\n",
      "[107 rows x 7 columns]\n"
     ]
    }
   ],
   "source": [
    "print(data.isna())"
   ]
  },
  {
   "cell_type": "code",
   "execution_count": 49,
   "id": "54f1d698-d323-44ec-9b38-387603b73e39",
   "metadata": {},
   "outputs": [
    {
     "name": "stdout",
     "output_type": "stream",
     "text": [
      "0      False\n",
      "1       True\n",
      "2      False\n",
      "3      False\n",
      "4      False\n",
      "       ...  \n",
      "102     True\n",
      "103     True\n",
      "104     True\n",
      "105     True\n",
      "106     True\n",
      "Length: 107, dtype: bool\n",
      "Number of duplicate rows: 7\n"
     ]
    }
   ],
   "source": [
    "duplicate_rows = data.duplicated()\n",
    "print(duplicate_rows)\n",
    "#Printing the no of duplicate rows\n",
    "print(\"Number of duplicate rows:\", duplicate_rows.sum())"
   ]
  },
  {
   "cell_type": "code",
   "execution_count": 59,
   "id": "d2052c3f-e226-4e02-8801-1489af1d4ba4",
   "metadata": {},
   "outputs": [
    {
     "name": "stdout",
     "output_type": "stream",
     "text": [
      "     Student ID            Name   Age Grade        Major   GPA City\n",
      "0             1     Paula Singh   NaN     B      Biology  2.52  LUS\n",
      "2             2  Louis Robinson  21.0     A      English  3.66  KQK\n",
      "3             3    Nora Krueger  18.0     B      English  3.95  EPV\n",
      "4             4     Jones Myers  19.0     C  Mathematics  3.94  CUR\n",
      "5             5      Lydia Leon  21.0     D  Mathematics  3.43  AER\n",
      "..          ...             ...   ...   ...          ...   ...  ...\n",
      "96           96   Brady Hubbard  18.0     B      Biology  2.51  TVV\n",
      "97           97      Rosie Chan  24.0     A      Biology  3.68  HLO\n",
      "98           98    Frank Powell  23.0     C      History  3.24  GPT\n",
      "99           99  Vivian Aguirre  19.0     C      History  2.98  TFB\n",
      "100         100   Andy Espinoza  18.0     F      Biology  3.56  WFJ\n",
      "\n",
      "[100 rows x 7 columns]\n"
     ]
    }
   ],
   "source": [
    "da=data.drop_duplicates()\n",
    "print(da)"
   ]
  },
  {
   "cell_type": "code",
   "execution_count": 54,
   "id": "64552633-f4e2-43ca-ab96-27d48a0f9567",
   "metadata": {},
   "outputs": [],
   "source": [
    "da.to_excel('cl.xlsx', index=False)"
   ]
  },
  {
   "cell_type": "code",
   "execution_count": 60,
   "id": "93aa2a9d-f0db-4c3c-8fe5-2ef3a35e38b7",
   "metadata": {},
   "outputs": [
    {
     "name": "stdout",
     "output_type": "stream",
     "text": [
      "['B' 'A' 'C' 'D' nan 'F']\n"
     ]
    }
   ],
   "source": [
    "print(data['Grade'].unique())"
   ]
  },
  {
   "cell_type": "code",
   "execution_count": 64,
   "id": "b105ac7c-d782-43f8-9c9a-e0c5c4aa5d38",
   "metadata": {},
   "outputs": [
    {
     "name": "stdout",
     "output_type": "stream",
     "text": [
      "0       1.760\n",
      "1       1.760\n",
      "2       2.830\n",
      "3       3.475\n",
      "4       3.970\n",
      "        ...  \n",
      "102    51.780\n",
      "103    50.990\n",
      "104    51.780\n",
      "105    50.990\n",
      "106    51.780\n",
      "Length: 107, dtype: float64\n"
     ]
    }
   ],
   "source": [
    "print(data.mean(axis=1))"
   ]
  },
  {
   "cell_type": "code",
   "execution_count": 66,
   "id": "b1a63e9c-2a8c-448d-938b-c8a67c58a4d9",
   "metadata": {},
   "outputs": [
    {
     "name": "stdout",
     "output_type": "stream",
     "text": [
      "     Student ID            Name   Age Grade        Major   GPA City\n",
      "0             1     Paula Singh   NaN     B      Biology  2.52  LUS\n",
      "1             1     Paula Singh   NaN     B      Biology  2.52  LUS\n",
      "2             2  Louis Robinson  21.0     A      English  3.66  KQK\n",
      "3             3    Nora Krueger  18.0     B      English  3.95  EPV\n",
      "4             4     Jones Myers  19.0     C  Mathematics  3.94  CUR\n",
      "..          ...             ...   ...   ...          ...   ...  ...\n",
      "102         100   Andy Espinoza  18.0     F      Biology  3.56  WFJ\n",
      "103          99  Vivian Aguirre  19.0     C      History  2.98  TFB\n",
      "104         100   Andy Espinoza  18.0     F      Biology  3.56  WFJ\n",
      "105          99  Vivian Aguirre  19.0     C      History  2.98  TFB\n",
      "106         100   Andy Espinoza  18.0     F      Biology  3.56  WFJ\n",
      "\n",
      "[107 rows x 7 columns]\n"
     ]
    }
   ],
   "source": [
    "print(data)"
   ]
  },
  {
   "cell_type": "code",
   "execution_count": 68,
   "id": "412b8207-e28f-4e71-9aa5-d388b97cecf7",
   "metadata": {},
   "outputs": [
    {
     "name": "stdout",
     "output_type": "stream",
     "text": [
      "     Student ID            Name   Age Grade        Major   GPA City\n",
      "1             1     Paula Singh   NaN     B      Biology  2.52  LUS\n",
      "2             2  Louis Robinson  21.0     A      English  3.66  KQK\n",
      "3             3    Nora Krueger  18.0     B      English  3.95  EPV\n",
      "4             4     Jones Myers  19.0     C  Mathematics  3.94  CUR\n",
      "5             5      Lydia Leon  21.0     D  Mathematics  3.43  AER\n",
      "..          ...             ...   ...   ...          ...   ...  ...\n",
      "102         100   Andy Espinoza  18.0     F      Biology  3.56  WFJ\n",
      "103          99  Vivian Aguirre  19.0     C      History  2.98  TFB\n",
      "104         100   Andy Espinoza  18.0     F      Biology  3.56  WFJ\n",
      "105          99  Vivian Aguirre  19.0     C      History  2.98  TFB\n",
      "106         100   Andy Espinoza  18.0     F      Biology  3.56  WFJ\n",
      "\n",
      "[106 rows x 7 columns]\n"
     ]
    }
   ],
   "source": [
    "print(data.drop(0))"
   ]
  },
  {
   "cell_type": "code",
   "execution_count": 69,
   "id": "dea2f4c3-1c16-48db-9817-cf67c9e3ddc0",
   "metadata": {},
   "outputs": [
    {
     "name": "stdout",
     "output_type": "stream",
     "text": [
      "               Name   Age Grade        Major   GPA City\n",
      "0       Paula Singh   NaN     B      Biology  2.52  LUS\n",
      "1       Paula Singh   NaN     B      Biology  2.52  LUS\n",
      "2    Louis Robinson  21.0     A      English  3.66  KQK\n",
      "3      Nora Krueger  18.0     B      English  3.95  EPV\n",
      "4       Jones Myers  19.0     C  Mathematics  3.94  CUR\n",
      "..              ...   ...   ...          ...   ...  ...\n",
      "102   Andy Espinoza  18.0     F      Biology  3.56  WFJ\n",
      "103  Vivian Aguirre  19.0     C      History  2.98  TFB\n",
      "104   Andy Espinoza  18.0     F      Biology  3.56  WFJ\n",
      "105  Vivian Aguirre  19.0     C      History  2.98  TFB\n",
      "106   Andy Espinoza  18.0     F      Biology  3.56  WFJ\n",
      "\n",
      "[107 rows x 6 columns]\n"
     ]
    }
   ],
   "source": [
    "print(data.drop('Student ID', axis=1))"
   ]
  },
  {
   "cell_type": "code",
   "execution_count": 70,
   "id": "c1804331-d574-42fc-bc8e-dcd9552e9c44",
   "metadata": {},
   "outputs": [
    {
     "name": "stdout",
     "output_type": "stream",
     "text": [
      "     Student ID            Name   Age Grade        Major   GPA City\n",
      "0             1     Paula Singh   NaN     B      Biology  2.52  LUS\n",
      "1             1     Paula Singh   NaN     B      Biology  2.52  LUS\n",
      "2             2  Louis Robinson  21.0     A      English  3.66  KQK\n",
      "3             3    Nora Krueger  18.0     B      English  3.95  EPV\n",
      "5             5      Lydia Leon  21.0     D  Mathematics  3.43  AER\n",
      "..          ...             ...   ...   ...          ...   ...  ...\n",
      "102         100   Andy Espinoza  18.0     F      Biology  3.56  WFJ\n",
      "103          99  Vivian Aguirre  19.0     C      History  2.98  TFB\n",
      "104         100   Andy Espinoza  18.0     F      Biology  3.56  WFJ\n",
      "105          99  Vivian Aguirre  19.0     C      History  2.98  TFB\n",
      "106         100   Andy Espinoza  18.0     F      Biology  3.56  WFJ\n",
      "\n",
      "[106 rows x 7 columns]\n"
     ]
    }
   ],
   "source": [
    "print(data.drop(4))"
   ]
  },
  {
   "cell_type": "code",
   "execution_count": 75,
   "id": "ac68152f-eb2c-47ec-bd58-cf85a8d0d0c3",
   "metadata": {},
   "outputs": [
    {
     "name": "stdout",
     "output_type": "stream",
     "text": [
      "0      18.0\n",
      "1      18.0\n",
      "2      21.0\n",
      "3      18.0\n",
      "4      19.0\n",
      "       ... \n",
      "102    18.0\n",
      "103    19.0\n",
      "104    18.0\n",
      "105    19.0\n",
      "106    18.0\n",
      "Name: Age, Length: 107, dtype: float64\n"
     ]
    }
   ],
   "source": [
    "print(data['Age'].fillna(value=data['Age'].min()))"
   ]
  },
  {
   "cell_type": "code",
   "execution_count": 79,
   "id": "a7c70029-0012-4685-8718-fbd7b3e841be",
   "metadata": {},
   "outputs": [],
   "source": [
    "import numpy as np\n",
    "df = pd.DataFrame({ 'ord_no':[70001,np.nan,70002,70004,np.nan,70005,np.nan,70010,70003,70012,np.nan,70013], 'purch_amt':[150.5,270.65,65.26,110.5,948.5,2400.6,5760,1983.43,2480.4,250.45, 75.29,3045.6], 'ord_date': ['2012-10-05','2012-09-10',np.nan,'2012-08-17','2012-09-10','2012-07-27','2012-09-10' ,'2012-10-10','2012-10-10','2012-06-27','2012-08-17','2012-04-25'], 'customer_id':[3002,3001,3001,3003,3002,3001,3001,3004,3003,3002,3001,3001], 'salesman_id':[5002,5003,5001,np.nan,5002,5001,5001,np.nan,5003,5002,5003,np.nan]}) "
   ]
  },
  {
   "cell_type": "code",
   "execution_count": 81,
   "id": "fd1790af-71b4-4a6a-af42-b0120a012fb5",
   "metadata": {},
   "outputs": [
    {
     "name": "stdout",
     "output_type": "stream",
     "text": [
      "ord_no         4\n",
      "purch_amt      0\n",
      "ord_date       1\n",
      "customer_id    0\n",
      "salesman_id    3\n",
      "dtype: int64\n"
     ]
    }
   ],
   "source": [
    "print(df.isnull().sum())"
   ]
  },
  {
   "cell_type": "code",
   "execution_count": 2,
   "id": "574b0c27-ab44-4e13-9bea-422f86acf331",
   "metadata": {},
   "outputs": [
    {
     "name": "stdout",
     "output_type": "stream",
     "text": [
      "    Unnamed: 0  Student ID            Name   Age Grade        Major   GPA City\n",
      "0            0           1     Paula Singh   NaN     B      Biology  2.52  LUS\n",
      "1            2           2  Louis Robinson  21.0     A      English  3.66  KQK\n",
      "2            3           3    Nora Krueger  18.0     B      English  3.95  EPV\n",
      "3            4           4     Jones Myers  19.0     C  Mathematics  3.94  CUR\n",
      "4            5           5      Lydia Leon  21.0     D  Mathematics  3.43  AER\n",
      "..         ...         ...             ...   ...   ...          ...   ...  ...\n",
      "95          96          96   Brady Hubbard  18.0     B      Biology  2.51  TVV\n",
      "96          97          97      Rosie Chan  24.0     A      Biology  3.68  HLO\n",
      "97          98          98    Frank Powell  23.0     C      History  3.24  GPT\n",
      "98          99          99  Vivian Aguirre  19.0     C      History  2.98  TFB\n",
      "99         100         100   Andy Espinoza  18.0     F      Biology  3.56  WFJ\n",
      "\n",
      "[100 rows x 8 columns]\n"
     ]
    }
   ],
   "source": [
    "import pandas as pd\n",
    "d=pd.read_csv('cl.csv')\n",
    "print(d)"
   ]
  },
  {
   "cell_type": "code",
   "execution_count": 5,
   "id": "6fddfcd8-6859-44a2-bc0e-58f3920312d1",
   "metadata": {},
   "outputs": [
    {
     "name": "stdout",
     "output_type": "stream",
     "text": [
      "    Student ID               Name   Age Grade        Major   GPA City\n",
      "1            2     Louis Robinson  21.0     A      English  3.66  KQK\n",
      "2            3       Nora Krueger  18.0     B      English  3.95  EPV\n",
      "3            4        Jones Myers  19.0     C  Mathematics  3.94  CUR\n",
      "4            5         Lydia Leon  21.0     D  Mathematics  3.43  AER\n",
      "5            6  Marshall Thompson  18.0     A      Biology  2.82  GOG\n",
      "..         ...                ...   ...   ...          ...   ...  ...\n",
      "95          96      Brady Hubbard  18.0     B      Biology  2.51  TVV\n",
      "96          97         Rosie Chan  24.0     A      Biology  3.68  HLO\n",
      "97          98       Frank Powell  23.0     C      History  3.24  GPT\n",
      "98          99     Vivian Aguirre  19.0     C      History  2.98  TFB\n",
      "99         100      Andy Espinoza  18.0     F      Biology  3.56  WFJ\n",
      "\n",
      "[99 rows x 7 columns]\n"
     ]
    }
   ],
   "source": [
    "d.drop(\"Unnamed: 0\",axis=1, inplace=True)\n",
    "print(d)\n"
   ]
  },
  {
   "cell_type": "code",
   "execution_count": null,
   "id": "0dd892b3-f516-41b6-9014-af5705c68e87",
   "metadata": {},
   "outputs": [],
   "source": []
  }
 ],
 "metadata": {
  "kernelspec": {
   "display_name": "Python 3 (ipykernel)",
   "language": "python",
   "name": "python3"
  },
  "language_info": {
   "codemirror_mode": {
    "name": "ipython",
    "version": 3
   },
   "file_extension": ".py",
   "mimetype": "text/x-python",
   "name": "python",
   "nbconvert_exporter": "python",
   "pygments_lexer": "ipython3",
   "version": "3.12.1"
  }
 },
 "nbformat": 4,
 "nbformat_minor": 5
}
